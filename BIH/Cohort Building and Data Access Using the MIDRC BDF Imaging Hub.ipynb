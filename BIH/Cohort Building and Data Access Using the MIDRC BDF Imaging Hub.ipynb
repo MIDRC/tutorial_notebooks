{
 "cells": [
  {
   "cell_type": "markdown",
   "id": "49aa0dff-bb18-4636-9587-027ccf792b5b",
   "metadata": {},
   "source": [
    "# Cohort Building and Data Access Using the MIDRC BDF Imaging Hub\n",
    "\n",
    "---\n",
    "\n",
    "This notebook briefly demonstrates how to use the MIDRC Biomedical Imaging Hub (BIH) APIs to discover medical imaging datasets across the Biomedical Data Fabric (BDF), including those in data resources other than the MIDRC data commons.\n",
    "\n",
    "Anything a user can do in the [MIDRC BIH Explorer graphical user interface](https://imaging-hub.data-commons.org/Explorer), including using complex search criteria to select similar subsets of images distributed across multiple repositories, can also be achieved programmatically using API requests.\n",
    "\n",
    "by Chris Meyer, PhD\n",
    "\n",
    "August 2025"
   ]
  },
  {
   "cell_type": "markdown",
   "id": "beadf33b-8d25-49e0-863c-cf05a4da0afc",
   "metadata": {},
   "source": [
    "## 1) Set up Python environment\n",
    "---"
   ]
  },
  {
   "cell_type": "markdown",
   "id": "92e9c01e-43bd-4a24-b23c-aad74ba49356",
   "metadata": {},
   "source": [
    "### Download an API key file containing your credentials\n",
    "---\n",
    "1) Navigate to the MIDRC BIH login page in your browser: https://imaging-hub.data-commons.org/portal/login.\n",
    "2) Navigate to the user profile page: https://imaging-hub.data-commons.org/portal/identity.\n",
    "3) Click on the button \"Create API Key\" and save the `credentials.json` file somewhere safe as `bih-credentails.json`."
   ]
  },
  {
   "cell_type": "markdown",
   "id": "a373f3c5-1ca9-42e8-bf6b-2b00f3ec712c",
   "metadata": {},
   "source": [
    "### Set local variables\n",
    "---\n",
    "Change the following `bcred` variable path to point to your credentials file downloaded from the MIDRC data portal following the instructions above."
   ]
  },
  {
   "cell_type": "code",
   "execution_count": null,
   "id": "352e165b-0cee-4853-bc0c-27ff8df22aba",
   "metadata": {},
   "outputs": [],
   "source": [
    "bcred = \"/Users/cgmeyer/Downloads/bih-credentials.json\" # location of your MIDRC BIH credentials, downloaded from https://imaging-hub.data-commons.org/portal/identity by clicking \"Create API key\" button and saving the credentials.json locally\n",
    "bapi = \"https://imaging-hub.data-commons.org\" # The base URL of the resource being queried. This shouldn't change for MIDRC BIH\n"
   ]
  },
  {
   "cell_type": "markdown",
   "id": "414514f9-c452-4760-9530-8cc9454c8100",
   "metadata": {},
   "source": [
    "### Install / Import Python Packages and Scripts"
   ]
  },
  {
   "cell_type": "code",
   "execution_count": null,
   "id": "70dae3d6-42cc-4cc2-b82a-233397035c94",
   "metadata": {},
   "outputs": [],
   "source": [
    "## The packages below may be necessary for users to install according to the imports necessary in the subsequent cells.\n",
    "## Uncomment the lines for packages you may need to install\n",
    "\n",
    "import sys\n",
    "#!{sys.executable} -m pip install\n",
    "#!{sys.executable} -m pip install --upgrade pandas\n",
    "#!{sys.executable} -m pip install --upgrade --ignore-installed PyYAML\n",
    "#!{sys.executable} -m pip install --upgrade pip\n",
    "#!{sys.executable} -m pip install --upgrade gen3\n",
    "#!{sys.executable} -m pip install pydicom\n",
    "#!{sys.executable} -m pip install --upgrade Pillow\n",
    "#!{sys.executable} -m pip install psmpy\n",
    "#!{sys.executable} -m pip install python-gdcm --upgrade\n",
    "#!{sys.executable} -m pip install pylibjpeg --upgrade\n"
   ]
  },
  {
   "cell_type": "code",
   "execution_count": null,
   "id": "c012d64e-6b3e-4fd4-b0eb-5dad100c9fe0",
   "metadata": {},
   "outputs": [],
   "source": [
    "## Import Python Packages and scripts\n",
    "\n",
    "import os, subprocess\n",
    "import pandas as pd\n",
    "import numpy as np\n",
    "import pydicom\n",
    "from PIL import Image\n",
    "import glob\n",
    "#import gdcm\n",
    "#import pylibjpeg\n",
    "\n",
    "# import some Gen3 packages\n",
    "import gen3\n",
    "from gen3.auth import Gen3Auth\n",
    "from gen3.query import Gen3Query\n",
    "from IPython.display import display"
   ]
  },
  {
   "cell_type": "markdown",
   "id": "810a9306-b860-4037-8bd2-2b0ac21e2b3a",
   "metadata": {},
   "source": [
    "### Initiate instances of the Gen3 SDK Classes using your credentials file for authentication\n",
    "---\n",
    "Again, make sure the \"bcred\" directory path variable reflects the location of _your_ credentials file (path variables set above)."
   ]
  },
  {
   "cell_type": "code",
   "execution_count": null,
   "id": "2705a836-b9f5-483d-bc59-b14154b67604",
   "metadata": {},
   "outputs": [],
   "source": [
    "bauth = Gen3Auth(bapi, refresh_file=bcred) # authentication class\n",
    "bquery = Gen3Query(bauth) # query class\n"
   ]
  },
  {
   "cell_type": "markdown",
   "id": "22da7b26-02ea-44bc-89aa-ca2a9c6d879f",
   "metadata": {},
   "source": [
    "## 2) Build Cohorts by Sending Queries to the MIDRC BIH Metadata API\n",
    "---\n",
    "\n",
    "Currently, there are four views of the imaging data in MIDRC BIH: datasets, patients, imaging studies, and imaging series. These four views correspond to four \n",
    "\n",
    "\n",
    "\n",
    "\n"
   ]
  },
  {
   "cell_type": "markdown",
   "id": "e5d61d93-0354-443a-afb1-b899986ecaee",
   "metadata": {},
   "source": [
    "### Find Imaging Studies of Interest\n",
    "\n",
    "* Here, we'll send a query to the `imaging_study` index, which is the default table view in the [MIDRC BIH data explorer GUI](https://data.midrc.org/explorer).\n",
    "* The filters defined below can be added to, removed, or modified to return different subsets of imaging studies.\n",
    "* If our query request is successful, the API response should be in JSON format. The response will be a list of structured data records, each corresponding to a single imaging study. \n",
    "* The Gen3 query service \"guppy\" has extensive documentation in GitHub [here](https://github.com/uc-cdis/guppy/blob/master/doc/queries.md), which will guide you through query syntax, available types of filters, operators, etc."
   ]
  },
  {
   "cell_type": "markdown",
   "id": "f6e82c61-1133-4cb8-b8d8-2969e68d3ff0",
   "metadata": {},
   "source": [
    "#### Fetch the Query Schema \n",
    "---\n",
    "\n",
    "In order to see all the fields available to use in queries as filter parameters, we can send a request to [get the query schema/mapping](https://github.com/uc-cdis/guppy/blob/master/doc/queries.md#mapping-query). Here we specify the imaging_study index to see all the fields in BIH related to imaging studies.\n",
    "\n",
    "\n"
   ]
  },
  {
   "cell_type": "code",
   "execution_count": null,
   "id": "9d2840f5-eb2b-462b-96b4-b27d206b3edf",
   "metadata": {},
   "outputs": [],
   "source": [
    "query_string = \"\"\"{\n",
    "  _mapping {\n",
    "    imaging_study\n",
    "  }\n",
    "}\"\"\"\n",
    "bquery.graphql_query(query_string=query_string,variables=None)\n"
   ]
  },
  {
   "cell_type": "markdown",
   "id": "9bf8cb79-ca5f-48e9-9849-c25784a2c63c",
   "metadata": {},
   "source": [
    "#### Set some filter values to subset the imaging studies in BIH"
   ]
  },
  {
   "cell_type": "code",
   "execution_count": null,
   "id": "a7574513-f417-47a0-bc51-a7c5bb374f14",
   "metadata": {},
   "outputs": [],
   "source": [
    "## Find imaging studies with the following parameters:\n",
    "StudyDescription = [\"XR Chest AP or PA\", \n",
    "                    \"CHEST AP PORT\",\n",
    "                    \"CHEST PORT 1 VIEW (RAD)-CS\",\n",
    "                    \"CHEST PA & LATERAL (RAD)-CS\",\n",
    "                    \"CHEST AP VIEWONLY\",\n",
    "                    \"Portable Chest\",\n",
    "                    \"Chest Portable\",\n",
    "                    \"CHEST AP PORTABLE\"]\n",
    "\n",
    "## Filter studies based on some patient attributes:\n",
    "PatientSex = \"Male\"\n",
    "\n",
    "min_PatientAge = 65\n",
    "max_PatientAge = 70\n",
    "\n",
    "EthnicGroup = [\"Non-Hispanic/Non-Latino\",\n",
    "                \"Not Hispanic or Latino\"]\n",
    "\n",
    "race = [\"Black\",\n",
    "        \"Black or African American\"]\n"
   ]
  },
  {
   "cell_type": "code",
   "execution_count": null,
   "id": "68251723-abfd-40da-aa4c-a6d917c60b24",
   "metadata": {},
   "outputs": [],
   "source": [
    "studies = bquery.raw_data_download(\n",
    "                    data_type=\"imaging_study\",\n",
    "                    fields=None,\n",
    "                    filter_object={\n",
    "                        \"AND\": [\n",
    "                            {\"IN\": {\"StudyDescription\": StudyDescription}},\n",
    "                            {\"=\": {\"PatientSex\": PatientSex}},\n",
    "                            {\"IN\": {\"EthnicGroup\": EthnicGroup}},\n",
    "                            {\"IN\": {\"race\": race}},\n",
    "                            {\"AND\":[{\">=\":{\"PatientAge\":min_PatientAge}},{\"<=\":{\"PatientAge\":max_PatientAge}}]}\n",
    "                        ]\n",
    "                    },\n",
    "                )\n"
   ]
  },
  {
   "cell_type": "code",
   "execution_count": null,
   "id": "312eec6f-8fdd-4e0f-b257-626ba6c30c19",
   "metadata": {},
   "outputs": [],
   "source": [
    "# Summarize the query response\n",
    "if len(studies) > 0:\n",
    "    study_ids = list(set([i['submitter_id'] for i in studies if 'submitter_id' in i])) ## make a list of the imaging study IDs returned\n",
    "    platforms = list(set([rec['commons_name'][0] for rec in studies if 'commons_name' in rec])) ## make a list of the imaging study IDs returned\n",
    "    subject_ids = list(set([rec['subject_id'][0] for rec in studies if 'subject_id' in rec])) ## make a list of the imaging studiy IDs returned\n",
    "    print(f\"Query returned {len(studies)} imaging studies for {len(subject_ids)} subjects across {len(platforms)} platforms: {platforms}.\")\n",
    "    print(\"Data is a list with rows like this:\")\n",
    "    for k,v in studies[0:1][0].items():\n",
    "      print(\"\\t\\'{}' : '{}'\".format(k,v))\n",
    "else:\n",
    "    print(\"Your query returned no data! Please, check that query parameters are valid.\")"
   ]
  },
  {
   "cell_type": "code",
   "execution_count": null,
   "id": "e7b28c6e-31d1-4d9d-baf4-b9f21d455841",
   "metadata": {},
   "outputs": [],
   "source": [
    "studies_df = pd.DataFrame(studies)\n",
    "display(studies_df)"
   ]
  },
  {
   "cell_type": "code",
   "execution_count": null,
   "id": "6427e7c2-79be-49d1-9fbd-64eb45ee30e2",
   "metadata": {},
   "outputs": [],
   "source": [
    "## Export the file metadata as a TSV file\n",
    "filename = \"MIDRC_BIH_imaging_studies_metadata.tsv\"\n",
    "studies_df.to_csv(filename, sep='\\t')"
   ]
  },
  {
   "cell_type": "code",
   "execution_count": null,
   "id": "785525f9-a51d-418d-92c2-513bc37386b4",
   "metadata": {},
   "outputs": [],
   "source": [
    "## Explore counts of patient demographics\n",
    "display(studies_df.value_counts('EthnicGroup'))\n",
    "race_df = studies_df['race'].explode()\n",
    "display(race_df.value_counts())\n",
    "display(studies_df['StudyDescription'].value_counts())"
   ]
  },
  {
   "cell_type": "code",
   "execution_count": null,
   "id": "9abb1c9b-c933-4b15-a06d-cca76a0fd3bf",
   "metadata": {},
   "outputs": [],
   "source": []
  },
  {
   "cell_type": "markdown",
   "id": "9179a10b-d5c4-455e-8c59-80657dba4824",
   "metadata": {},
   "source": [
    "### Find Imaging Series of Interest\n",
    "---\n",
    "Now we will search over the >1M imaging series indexed in the MIDRC BIH. \n",
    "* First, we'll send a request to get the imaging_series schema/mapping.\n",
    "* Then we'll set some values to use as filters in our data download request using the same [raw_data_download](https://github.com/uc-cdis/gen3sdk-python/blob/2b4fb5ad9facd7cd37818743b558251b48e1f219/gen3/query.py#L146) SDK function we used earlier for imaging studies.\n",
    "* The API response should be a list of structured data records, each one corresponding to a single imaging series indexed in MIDRC BIH."
   ]
  },
  {
   "cell_type": "code",
   "execution_count": null,
   "id": "aa60445e-4f46-4a80-9719-f1a20d688ec7",
   "metadata": {},
   "outputs": [],
   "source": [
    "query_string = \"\"\"{\n",
    "  _mapping {\n",
    "    imaging_series\n",
    "  }\n",
    "}\"\"\"\n",
    "bquery.graphql_query(query_string=query_string,variables=None)\n"
   ]
  },
  {
   "cell_type": "code",
   "execution_count": null,
   "id": "38982d2c-9758-492c-8376-a418b4cdfdb9",
   "metadata": {},
   "outputs": [],
   "source": [
    "### Set some \"imaging_series\" query parameters to select Lung CT imaging series for female patients with Lung Cancer\n",
    "\n",
    "## Here we select imaging series with a BodyPartExamined of \"Chest\"\n",
    "BodyPartExamined = [\"LUNG\",\"CHEST\"]\n",
    "\n",
    "## Here we select imaging series with a Modality of \"CT\"\n",
    "Modality = \"CT\"\n",
    "\n",
    "## Here we select imaging series with a PatientSex of \"Female\"\n",
    "PatientSex = \"Female\"\n",
    "\n",
    "## Here we select imaging series with a disease_type of \"COVID-19\"\n",
    "#disease_type = [\"Non-small Cell Lung Cancer\",\n",
    "#                \"Lung Cancer\"]\n",
    "\n",
    "disease_type = [\"COVID-19\"]\n"
   ]
  },
  {
   "cell_type": "code",
   "execution_count": null,
   "id": "8ff18aae-caa1-4340-9011-ea04ef4091aa",
   "metadata": {},
   "outputs": [],
   "source": [
    "series = bquery.raw_data_download(\n",
    "                    data_type=\"imaging_series\",\n",
    "                    fields=None,\n",
    "                    filter_object={\n",
    "                        \"AND\": [\n",
    "                            {\"IN\": {\"BodyPartExamined\": BodyPartExamined}},\n",
    "                            {\"=\": {\"Modality\": Modality}},\n",
    "                            {\"=\": {\"PatientSex\": PatientSex}},\n",
    "                            {\"IN\": {\"disease_type\": disease_type}},\n",
    "                        ]\n",
    "                    },\n",
    "                )"
   ]
  },
  {
   "cell_type": "code",
   "execution_count": null,
   "id": "66d687e2-80ac-4fd8-8542-7a11074deec3",
   "metadata": {},
   "outputs": [],
   "source": [
    "if len(series) > 0:\n",
    "    series_ids = list(set([i['submitter_id'] for i in series if 'submitter_id' in i])) ## make a list of the imaging series IDs returned\n",
    "    object_ids = list(set([rec['object_ids'][0] for rec in series if 'object_ids' in rec and rec['object_ids'] is not None])) ## make a list of the imaging series IDs returned\n",
    "    platforms = list(set([rec['commons_name'][0] for rec in series if 'commons_name' in rec])) ## make a list of the imaging study IDs returned\n",
    "    subject_ids = list(set([rec['subject_id'][0] for rec in series if 'subject_id' in rec])) ## make a list of the imaging series IDs returned\n",
    "    print(f\"Query returned {len(series)} imaging series for {len(subject_ids)} subjects across {len(platforms)} platforms: {platforms}.\")\n",
    "    print(\"Data is a list with rows like this:\")\n",
    "    for k,v in series[0:1][0].items():\n",
    "      print(\"\\t\\'{}' : '{}'\".format(k,v))\n",
    "else:\n",
    "    print(\"Your query returned no data! Please, check that query parameters are valid.\")\n"
   ]
  },
  {
   "cell_type": "code",
   "execution_count": null,
   "id": "85f92e14-741d-4a5b-b60c-0917b073c682",
   "metadata": {},
   "outputs": [],
   "source": [
    "series_df = pd.DataFrame(series)\n",
    "display(series_df)"
   ]
  },
  {
   "cell_type": "code",
   "execution_count": null,
   "id": "e1f3b02a-944d-4bcc-aabd-00c72f59d9af",
   "metadata": {},
   "outputs": [],
   "source": [
    "## Export the file metadata as a TSV file\n",
    "filename = \"MIDRC_BIH_imaging_series_metadata.tsv\"\n",
    "series_df.to_csv(filename, sep='\\t')"
   ]
  },
  {
   "cell_type": "code",
   "execution_count": null,
   "id": "0cfa6693-3d93-4156-8b23-bf777f773348",
   "metadata": {},
   "outputs": [],
   "source": []
  },
  {
   "cell_type": "markdown",
   "id": "c2563166-d507-402b-bc31-704cf5207650",
   "metadata": {},
   "source": [
    "### Find Patient Cohorts of Interest\n",
    "\n",
    "* Here, we'll send a query to the `subject` index, which corresponds to the Subjects tab of the MIDRC BIH Explorer GUI.\n",
    "* First, we'll specify some values of subject attributes to send as filters, then we'll send our query request using the Gen3 SDK.\n",
    "* The response should be a list of structured records each one of which corresponds to a single subject indexed in BIH."
   ]
  },
  {
   "cell_type": "code",
   "execution_count": null,
   "id": "2d002908-9b68-4451-b8fa-2356a5dd406e",
   "metadata": {},
   "outputs": [],
   "source": [
    "query_string = \"\"\"{\n",
    "  _mapping {\n",
    "    subject\n",
    "  }\n",
    "}\"\"\"\n",
    "bquery.graphql_query(query_string=query_string,variables=None)\n"
   ]
  },
  {
   "cell_type": "code",
   "execution_count": null,
   "id": "039f26ed-4b49-4329-a919-5d47868e9f5e",
   "metadata": {},
   "outputs": [],
   "source": [
    "### Set some \"subject\" query parameters to select subjects in BIH with NSCLC\n",
    "race = \"Asian\"\n",
    "disease_type = \"Breast Cancer\"\n",
    "primary_site = \"Breast\"\n",
    "\n"
   ]
  },
  {
   "cell_type": "code",
   "execution_count": null,
   "id": "fb20015e-43fb-4e22-8636-d9829470fdf0",
   "metadata": {},
   "outputs": [],
   "source": [
    "subjects = bquery.raw_data_download(\n",
    "                    data_type=\"subject\",\n",
    "                    fields=None,\n",
    "                    filter_object={\n",
    "                        \"AND\": [\n",
    "                            {\"=\": {\"race\": race}},\n",
    "                            {\"=\": {\"primary_site\": primary_site}},\n",
    "                            {\"=\": {\"disease_type\": disease_type}},\n",
    "                        ]\n",
    "                    },\n",
    "                )"
   ]
  },
  {
   "cell_type": "code",
   "execution_count": null,
   "id": "fea78634-899f-480d-a9fa-82af9d6916ee",
   "metadata": {},
   "outputs": [],
   "source": [
    "if len(subjects) > 0:\n",
    "    subject_ids = list(set([i['submitter_id'] for i in subjects if 'submitter_id' in i])) \n",
    "    platforms = list(set([rec['commons_name'][0] for rec in subjects if 'commons_name' in rec])) ## make a list of the imaging study IDs returned\n",
    "    print(f\"Query returned {len(subjects)} subjects across {len(platforms)} platform(s): {platforms}.\")\n",
    "    print(\"Data is a list with rows like this:\")\n",
    "    for k,v in subjects[0:1][0].items():\n",
    "      print(\"\\t\\'{}' : '{}'\".format(k,v))\n",
    "else:\n",
    "    print(\"Your query returned no data! Please, check that query parameters are valid.\")\n"
   ]
  },
  {
   "cell_type": "code",
   "execution_count": null,
   "id": "4347ddd0-d756-4929-b6be-22dbdec04fb7",
   "metadata": {},
   "outputs": [],
   "source": [
    "subjects_df = pd.DataFrame(subjects)\n",
    "display(subjects_df)"
   ]
  },
  {
   "cell_type": "code",
   "execution_count": null,
   "id": "c21c372f-d90e-4959-ab9b-7574f24a28a8",
   "metadata": {},
   "outputs": [],
   "source": [
    "## Export the file metadata as a TSV file\n",
    "filename = \"MIDRC_BIH_imaging_subjects_metadata.tsv\"\n",
    "subjects_df.to_csv(filename, sep='\\t')"
   ]
  },
  {
   "cell_type": "code",
   "execution_count": null,
   "id": "55ac8006-194f-4a19-b39e-a27ef277e89d",
   "metadata": {},
   "outputs": [],
   "source": []
  },
  {
   "cell_type": "markdown",
   "id": "f21285b9-9bb2-448b-8eed-1ff7dd1b06fa",
   "metadata": {},
   "source": [
    "### Find Datasets of Interest\n",
    "\n",
    "* Here, we'll send a query to the `dataset` index, which corresponds to the Datasets tab of the MIDRC BIH Explorer GUI.\n",
    "* First, we'll specify some values of dataset attributes to send as filters, then we'll send our query request using the Gen3 SDK.\n",
    "* The response should be a list of structured records each one of which corresponds to a single dataset indexed in BIH."
   ]
  },
  {
   "cell_type": "code",
   "execution_count": null,
   "id": "4cd0b797-5ca7-4be7-a5d0-589eaae1dd61",
   "metadata": {},
   "outputs": [],
   "source": [
    "query_string = \"\"\"{\n",
    "  _mapping {\n",
    "    dataset\n",
    "  }\n",
    "}\"\"\"\n",
    "bquery.graphql_query(query_string=query_string,variables=None)\n"
   ]
  },
  {
   "cell_type": "code",
   "execution_count": null,
   "id": "980a2185-3eea-44c0-923a-acf2961c181d",
   "metadata": {},
   "outputs": [],
   "source": [
    "### Set some \"dataset\" query parameters to select datasets in BIH\n",
    "disease_type = \"Non-small Cell Lung Cancer\"\n",
    "primary_site = [\"Lung\",\"Chest\",\"Esophagus, Lung, Pancreas, Thymus\"]\n",
    "\n"
   ]
  },
  {
   "cell_type": "code",
   "execution_count": null,
   "id": "e8a4e6e6-583d-4c52-b955-e5bcfd6d6765",
   "metadata": {},
   "outputs": [],
   "source": [
    "datasets = bquery.raw_data_download(\n",
    "                    data_type=\"dataset\",\n",
    "                    fields=None,\n",
    "                    filter_object={\n",
    "                        \"AND\": [\n",
    "                            {\"=\": {\"disease_type\": disease_type}},\n",
    "                            {\"IN\": {\"primary_site\": primary_site}},\n",
    "                        ]\n",
    "                    },\n",
    "                )"
   ]
  },
  {
   "cell_type": "code",
   "execution_count": null,
   "id": "cc547305-8739-4617-8d5b-83143b8f9da9",
   "metadata": {},
   "outputs": [],
   "source": [
    "if len(datasets) > 0:\n",
    "    platforms = list(set([rec['commons_name'] for rec in datasets if 'commons_name' in rec])) ## make a list of the imaging study IDs returned\n",
    "    print(f\"Query returned {len(datasets)} datasets across {len(platforms)} platform(s): {platforms}.\")\n",
    "    print(\"Data is a list with rows like this:\")\n",
    "    for k,v in datasets[0:1][0].items():\n",
    "      print(\"\\t\\'{}' : '{}'\".format(k,v))\n",
    "else:\n",
    "    print(\"Your query returned no data! Please, check that query parameters are valid.\")\n"
   ]
  },
  {
   "cell_type": "code",
   "execution_count": null,
   "id": "e70e1653-6e51-432e-9ba2-9760839fd92e",
   "metadata": {},
   "outputs": [],
   "source": [
    "datasets_df = pd.DataFrame(datasets)\n",
    "display(datasets_df.sort_values(by='submitter_id', key=lambda col: col.str.lower(), ascending=False))"
   ]
  },
  {
   "cell_type": "markdown",
   "id": "b950a64b-74b8-4155-9126-5c7cdba70255",
   "metadata": {},
   "source": [
    "* Note: There are some datasets that may be hosted by more than one repository. Researchers should ensure they are not including duplicates in any analyses or AI training sets.  "
   ]
  },
  {
   "cell_type": "code",
   "execution_count": null,
   "id": "20748125-004c-4778-8efc-36b718cab930",
   "metadata": {},
   "outputs": [],
   "source": []
  },
  {
   "cell_type": "markdown",
   "id": "f700bcc2-7ec5-4ebb-bf9a-4635b9429722",
   "metadata": {},
   "source": [
    "## 3) Access image files using their object_id / data GUID (globally unique identifiers)\n",
    "---\n",
    "There are a number of ways to access the image files indexed in MIDRC BIH. In general, users will need to understand the host platform's process for downloading files, but for Gen3-powered data commons like the MIDRC Data Commons, once we have a list of object_ids / image GUIDs we want to download, we can use either the gen3-client or the gen3 SDK to download the files. \n",
    "\n",
    "In order to programmatically access files for MIDRC imaging series indexed in MIDRC BIH, users can reference the file's object_id (AKA \"data GUID\" or \"Globally Unique IDentifier\", which is an example of a GA4GH DRS URI).\n",
    "\n",
    "Once we have a list of GUIDs we want to download, we can use either the gen3-client or the gen3 SDK to download the files. You can also access individual files in your browser after logging-in and entering the GUID after the `files/` endpoint, as in this URL: https://data.midrc.org/files/GUID\n",
    "\n",
    "where GUID is the actual GUID, e.g.: https://data.midrc.org/files/dg.MD1R/b87d0db3-d95a-43c7-ace1-ab2c130e04ec\n",
    "\n",
    "For instructions on how to install and use the gen3-client, please see [the MIDRC quick-start guide](https://data.midrc.org/dashboard/Public/documentation/Gen3_MIDRC_GetStarted.pdf).\n",
    "\n",
    "Below we use the gen3 SDK command `gen3 drs-pull object` which is [documented in detail here](https://github.com/uc-cdis/gen3sdk-python/blob/master/docs/howto/drsDownloading.md).\n"
   ]
  },
  {
   "cell_type": "markdown",
   "id": "03dd27b5-c169-419f-a4bb-9c1348a38e26",
   "metadata": {},
   "source": [
    "### Get credentials from the host platform MIDRC Data Commons"
   ]
  },
  {
   "cell_type": "markdown",
   "id": "c50cb8fe-81a6-4cc7-8aef-a9266b323cdd",
   "metadata": {},
   "source": [
    "### Download an API key file containing your credentials\n",
    "---\n",
    "1) Navigate to the MIDRC data portal in your browser: https://data.midrc.org.\n",
    "2) Read and accept the DUA (if you haven't already).\n",
    "3) Navigate to the user profile page: https://data.midrc.org/identity\n",
    "4) Click on the button \"Create API Key\" and save the `credentials.json` file somewhere safe\n",
    "5) Change the following `cred` variable path to point to your credentials file downloaded from the MIDRC data portal following the instructions above."
   ]
  },
  {
   "cell_type": "code",
   "execution_count": null,
   "id": "6543ffb1-2212-4c51-b8ec-629393e68707",
   "metadata": {},
   "outputs": [],
   "source": [
    "cred = \"/Users/cgmeyer/Downloads/midrc-credentials.json\" # location of your MIDRC credentials, downloaded from https://data.midrc.org/identity by clicking \"Create API key\" button and saving the credentials.json locally"
   ]
  },
  {
   "cell_type": "markdown",
   "id": "fdefd4ae-29d7-4a1d-8f6e-8a7e0092d68b",
   "metadata": {},
   "source": [
    "### Make a list of object_ids to download"
   ]
  },
  {
   "cell_type": "code",
   "execution_count": null,
   "id": "b51da5bd-4499-44e1-9308-bdc62b010ae8",
   "metadata": {},
   "outputs": [],
   "source": [
    "## get subset of imaging series that have object_ids\n",
    "series_with_files = [rec for rec in series if 'object_ids' in rec and rec['object_ids'] is not None]\n",
    "\n",
    "## make a list of the imaging series IDs returned\n",
    "object_ids = list(set([rec['object_ids'][0] for rec in series])) \n",
    "\n",
    "print(f\"Found {len(object_ids)} object_ids for the {len(series)} imaging series select in BIH.\")\n"
   ]
  },
  {
   "cell_type": "markdown",
   "id": "4cd28f4e-19b7-45d1-bc15-70d53e47b1ad",
   "metadata": {},
   "source": [
    "### Use the Gen3 SDK command `gen3 drs-pull object` to download an individual file"
   ]
  },
  {
   "cell_type": "code",
   "execution_count": null,
   "id": "4c84520c-02d1-4410-bc84-42e541356a46",
   "metadata": {},
   "outputs": [],
   "source": [
    "## Make a new directory for downloaded files\n",
    "if os.path.exists(\"downloads\"):\n",
    "    os.system(\"rm -r downloads\")\n",
    "os.system(\"mkdir -p downloads\")\n"
   ]
  },
  {
   "cell_type": "code",
   "execution_count": null,
   "id": "3cff00ff-12d0-4d4e-90ec-5b5bd6572ace",
   "metadata": {},
   "outputs": [],
   "source": [
    "## We can use a simple loop to download all files and keep track of successes and failures\n",
    "max_downloads = 3\n",
    "success,failure,other=[],[],[]\n",
    "count,total = 0,len(object_ids)\n",
    "for object_id in object_ids[0:max_downloads]:\n",
    "    count+=1\n",
    "    cmd = \"gen3 --auth {} --endpoint data.midrc.org drs-pull object {} --output-dir downloads\".format(cred,object_id)\n",
    "    stout = subprocess.run(cmd, shell=True, capture_output=True)\n",
    "    print(\"Progress ({}/{}): {}\".format(count,total,stout.stdout))\n",
    "    if \"failed\" in str(stout.stdout):\n",
    "        failure.append(object_id)\n",
    "    elif \"successfully\" in str(stout.stdout):\n",
    "        success.append(object_id)\n",
    "    else:\n",
    "        other.append(object_id)\n"
   ]
  },
  {
   "cell_type": "code",
   "execution_count": null,
   "id": "7a3bfe58-8a00-481e-aede-4178324d3ccc",
   "metadata": {},
   "outputs": [],
   "source": [
    "# Get a list of all downloaded .dcm files\n",
    "## NOTE: Since we've downloaded some zip files containing entire imaging series from MIDRC, the number of files may be more than the number of object_ids once the packages are unzipped\n",
    "image_files = glob.glob(pathname='**/*.dcm',recursive=True,)\n",
    "print(f\"Found {len(image_files)} image files in the downloads directory.\")\n",
    "image_files"
   ]
  },
  {
   "cell_type": "markdown",
   "id": "0769486f-6471-4353-9f36-c646b133fc17",
   "metadata": {},
   "source": [
    "### View the DICOM Images\n",
    "---\n",
    "Here we'll use the [Python package `pydicom`](https://pydicom.github.io/pydicom/stable/) to view the downloaded DICOM images. \n",
    "\n",
    "Note that some of the files may contain compressed pixel data that require other packages to view; so, for this demo we'll simply skip over those using the following loop."
   ]
  },
  {
   "cell_type": "code",
   "execution_count": null,
   "id": "4d222c78-49c0-4217-9ca4-6d944d21609e",
   "metadata": {},
   "outputs": [],
   "source": [
    "max_view = 1 # just view the first one for demo purposes\n",
    "for image_file in image_files[0:max_view]:\n",
    "    print(image_file)\n",
    "    ds = pydicom.dcmread(image_file)\n",
    "    try:\n",
    "        new_image = ds.pixel_array.astype(float)\n",
    "        scaled_image = (np.maximum(new_image, 0) / new_image.max()) * 255.0\n",
    "        scaled_image = np.uint8(scaled_image)\n",
    "        final_image = Image.fromarray(scaled_image)\n",
    "        print(type(final_image))\n",
    "        display(final_image)\n",
    "    except Exception as e:\n",
    "        print(\"Couldn't view {}: {}.\".format(image_file,e))"
   ]
  },
  {
   "cell_type": "markdown",
   "id": "fc0e69b6-72f0-483d-851a-41609bdf02a9",
   "metadata": {},
   "source": [
    "### View the DICOM Headers\n",
    "---\n",
    "DICOM files have metadata elements embedded in the images. These can also be read and viewed using the `pydicom` package."
   ]
  },
  {
   "cell_type": "code",
   "execution_count": null,
   "id": "d6d6bd79-1c0b-43e7-9ea0-a2ace63a5aa5",
   "metadata": {},
   "outputs": [],
   "source": [
    "ds = pydicom.dcmread(image_files[0],force=True)\n",
    "display(ds)"
   ]
  },
  {
   "cell_type": "code",
   "execution_count": null,
   "id": "f306b316-967b-47f1-ba0b-4109c43717b2",
   "metadata": {},
   "outputs": [],
   "source": [
    "# Access individual elements using tags or codes\n",
    "display(ds.file_meta)\n",
    "display(ds.ImageType)\n",
    "display(ds[0x0008, 0x0016])\n"
   ]
  },
  {
   "cell_type": "code",
   "execution_count": null,
   "id": "ef255252-4452-4459-a3ad-e058082190c5",
   "metadata": {},
   "outputs": [],
   "source": [
    "# View the dicom metadata for all files as a DataFrame\n",
    "dfs = []\n",
    "for image_file in image_files:\n",
    "    ds = pydicom.dcmread(image_file)\n",
    "    df = pd.DataFrame(ds.values())\n",
    "    df[0] = df[0].apply(lambda x: pydicom.dataelem.DataElement_from_raw(x) if isinstance(x, pydicom.dataelem.RawDataElement) else x)\n",
    "    df['name'] = df[0].apply(lambda x: x.name)\n",
    "    df['value'] = df[0].apply(lambda x: x.value)\n",
    "    df = df[['name', 'value']]\n",
    "    df = df.set_index('name').T.reset_index(drop=True)\n",
    "    df['filename'] = image_file\n",
    "    df.drop(columns=['Pixel Data'],inplace=True) # drop the pixel data as it's too large and nonsensical to store in a DataFrame\n",
    "    dfs.append(df)"
   ]
  },
  {
   "cell_type": "code",
   "execution_count": null,
   "id": "9a93f7d4-73c1-4119-80d5-25ec1257ba1b",
   "metadata": {},
   "outputs": [],
   "source": [
    "# Make a master dataframe for all images using only headers in all dataframes\n",
    "headers = list(set.intersection(*map(set,dfs)))\n",
    "df = pd.concat([df[headers] for df in dfs])\n",
    "df.set_index('filename',inplace=True)\n"
   ]
  },
  {
   "cell_type": "code",
   "execution_count": null,
   "id": "fbecc35a-26ab-4450-8ca3-43b1cf6d2528",
   "metadata": {},
   "outputs": [],
   "source": [
    "display(df)"
   ]
  },
  {
   "cell_type": "code",
   "execution_count": null,
   "id": "24c30854-181c-4a11-94a4-fc580ae5d6e6",
   "metadata": {},
   "outputs": [],
   "source": [
    "## Export the file metadata as a TSV file\n",
    "filename = \"MIDRC_DICOM_metadata.tsv\"\n",
    "df.to_csv(filename, sep='\\t')\n"
   ]
  },
  {
   "cell_type": "markdown",
   "id": "6c593461-e6f2-445e-bf1b-db0968c6b582",
   "metadata": {},
   "source": [
    "## The End\n",
    "---\n",
    "If you have any questions related to this notebook don't hesitate to reach out to the MIDRC Helpdesk at midrc-support@gen3.org or the author directly at cgmeyer@uchicago.edu\n",
    "\n",
    "Happy data wrangling!"
   ]
  }
 ],
 "metadata": {
  "kernelspec": {
   "display_name": "Python 3 (ipykernel)",
   "language": "python",
   "name": "python3"
  },
  "language_info": {
   "codemirror_mode": {
    "name": "ipython",
    "version": 3
   },
   "file_extension": ".py",
   "mimetype": "text/x-python",
   "name": "python",
   "nbconvert_exporter": "python",
   "pygments_lexer": "ipython3",
   "version": "3.13.5"
  }
 },
 "nbformat": 4,
 "nbformat_minor": 5
}
