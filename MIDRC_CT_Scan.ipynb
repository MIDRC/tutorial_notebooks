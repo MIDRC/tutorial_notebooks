{
 "cells": [
  {
   "cell_type": "markdown",
   "id": "af83418b",
   "metadata": {},
   "source": [
    "# Demo - Intereacting With MIDRC CT Scan Images"
   ]
  },
  {
   "cell_type": "markdown",
   "id": "2890d927",
   "metadata": {},
   "source": [
    "*Please note: This notebook uses open access data*\n",
    "\n",
    "\n",
    "In this demo we will review how to import MIDRC imaging data, how to convert CT scan images from dicom (dcm) formats to png and jpeg formats, and how to view these CT scan images. This demo will also show how to extract file and patient metadata from the header of dicom (dcm) files."
   ]
  },
  {
   "cell_type": "markdown",
   "id": "a0198857",
   "metadata": {},
   "source": [
    "### Import Data And Packages\n",
    "Import the packages pydicom, pillow, and dicom_csv, as well as pandas, os and numpy. If any of these packages are not already installed to your workspace you can run one of the following:\n",
    "- 'pip install < package >' in your terminal\n",
    "- '!pip install < package >' in a notebook cell"
   ]
  },
  {
   "cell_type": "code",
   "execution_count": null,
   "id": "9182747a",
   "metadata": {},
   "outputs": [],
   "source": [
    "#The packages below may be necessary for users to install according to the imports necessary in the subsequent cells\n",
    "\n",
    "#!pip install gen3 --user\n",
    "#!pip install numpy --upgrade\n",
    "#!pip install pydicom --upgrade\n",
    "#!pip install pillow --upgrade\n",
    "#!pip install dicom-csv --upgrade"
   ]
  },
  {
   "cell_type": "code",
   "execution_count": null,
   "id": "eb457b4b",
   "metadata": {},
   "outputs": [],
   "source": [
    "import pydicom\n",
    "import numpy as np\n",
    "from PIL import Image\n",
    "import pandas as pd\n",
    "import os\n",
    "from dicom_csv import join_tree\n",
    "import subprocess\n",
    "\n",
    "\n"
   ]
  },
  {
   "cell_type": "markdown",
   "id": "ca92d009",
   "metadata": {},
   "source": [
    "## Import data objects of CT scan images using the gen3 SDK\n",
    "---\n",
    "* Note: \"gen3\" commands are utilizing the Gen3 SDK \"drs-pull\" function, which runs at the users command line. See the detailed documentation to learn more about how to access data using the Gen3 SDK: https://github.com/uc-cdis/gen3sdk-python/blob/master/docs/howto/drsDownloading.md  \n",
    "\n",
    "* Users may experience errors or warnings if the file's metadata is incomplete, but the file may have still downloaded. Check for the files in your current working directory.\n",
    "\n",
    "* Users will need to change the path to their \"--auth\" credentials file for each drs-pull command. Credentials are available at https://data.midrc.org/identity in the form of the api key file.\n"
   ]
  },
  {
   "cell_type": "code",
   "execution_count": null,
   "id": "06ee94f0",
   "metadata": {},
   "outputs": [],
   "source": [
    "cred = \"/Users/christopher/Downloads/midrc-credentials.json\" # change this file path\n",
    "\n",
    "object_ids = ['dg.MD1R/ea669b5e-ae51-40ba-b375-ed23a9cd1855',\n",
    "              'dg.MD1R/a745ed98-0cb9-4537-826b-13b2e354e8bb',\n",
    "              'dg.MD1R/e604979a-c71b-4ec6-b8a0-959837b86384',\n",
    "              'dg.MD1R/b5cee98d-46ff-4438-aa00-90727a383340',\n",
    "              'dg.MD1R/8a5a5579-7925-432d-a614-3ed208f1c182',\n",
    "              'dg.MD1R/33034812-47f3-4c0e-b60b-fa7a2a04ecda',\n",
    "              'dg.MD1R/5ca987c5-c660-4785-a67d-a3424cc8ec6e',\n",
    "              'dg.MD1R/44148117-1858-49ef-b30f-d239abfaff80',\n",
    "              'dg.MD1R/9ea205e8-a774-4318-a323-95eadda9bc5c',\n",
    "              'dg.MD1R/09ece36f-a0fa-48e8-8fc2-62110eaae570']\n"
   ]
  },
  {
   "cell_type": "code",
   "execution_count": null,
   "id": "8294b02d",
   "metadata": {},
   "outputs": [],
   "source": [
    "for object_id in object_ids:\n",
    "    cmd = \"gen3 --auth {} --endpoint data.midrc.org drs-pull object {}\".format(cred,object_id)\n",
    "    display(cmd)\n",
    "    subprocess.run(cmd, shell=True, capture_output=True)\n",
    "\n",
    "    "
   ]
  },
  {
   "cell_type": "markdown",
   "id": "6a1a9b24",
   "metadata": {},
   "source": [
    "All 10 data objects are now stored under the folder 'COVID-19-NY-SBU'"
   ]
  },
  {
   "cell_type": "code",
   "execution_count": null,
   "id": "561dc3dc",
   "metadata": {},
   "outputs": [],
   "source": [
    "!ls -l COVID-19-NY-SBU"
   ]
  },
  {
   "cell_type": "markdown",
   "id": "58aa3021",
   "metadata": {},
   "source": [
    "### View Image"
   ]
  },
  {
   "cell_type": "code",
   "execution_count": null,
   "id": "0b59aa5a",
   "metadata": {},
   "outputs": [],
   "source": [
    "image_path = 'COVID-19-NY-SBU/A034518/12-31-1900-CT ABD PELVIS(WITH CHEST IMAGES) W IV CON-21869/4.000000-Lung 1.0 CE-04129/1-273.dcm'\n",
    "image_path"
   ]
  },
  {
   "cell_type": "markdown",
   "id": "f5d35a95",
   "metadata": {},
   "source": [
    "Read the dcm image using the relative file path."
   ]
  },
  {
   "cell_type": "code",
   "execution_count": null,
   "id": "3b20a8db",
   "metadata": {},
   "outputs": [],
   "source": [
    "ds = pydicom.dcmread(image_path)"
   ]
  },
  {
   "cell_type": "markdown",
   "id": "ca111869",
   "metadata": {},
   "source": [
    "Get the pixel arrays for the image."
   ]
  },
  {
   "cell_type": "code",
   "execution_count": null,
   "id": "d0a8ffdf",
   "metadata": {},
   "outputs": [],
   "source": [
    "new_image = ds.pixel_array.astype(float)\n",
    "new_image"
   ]
  },
  {
   "cell_type": "markdown",
   "id": "08663cf8",
   "metadata": {},
   "source": [
    "Scale the image's pixel array and convert to a uint8 integer."
   ]
  },
  {
   "cell_type": "code",
   "execution_count": null,
   "id": "b8692d0a",
   "metadata": {},
   "outputs": [],
   "source": [
    "scaled_image = (np.maximum(new_image, 0) / new_image.max()) * 255.0\n",
    "scaled_image = np.uint8(scaled_image)\n",
    "scaled_image"
   ]
  },
  {
   "cell_type": "markdown",
   "id": "630f91a1",
   "metadata": {},
   "source": [
    "Use the Image package to convert the image array and show the image."
   ]
  },
  {
   "cell_type": "code",
   "execution_count": null,
   "id": "591cc96f",
   "metadata": {},
   "outputs": [],
   "source": [
    "final_image = Image.fromarray(scaled_image)\n",
    "print(type(final_image))\n",
    "final_image"
   ]
  },
  {
   "cell_type": "markdown",
   "id": "c4c076c0",
   "metadata": {},
   "source": [
    "### Convert Images\n",
    "Convert images form dcm format to jpeg and png formats and place converted image format to the original image folder."
   ]
  },
  {
   "cell_type": "code",
   "execution_count": null,
   "id": "8a259ff7",
   "metadata": {},
   "outputs": [],
   "source": [
    "def view_dicom_image(image_path):\n",
    "    \n",
    "    ds = pydicom.dcmread(image_path)\n",
    "    \n",
    "    new_image = ds.pixel_array.astype(float)\n",
    "    \n",
    "    scaled_image = np.uint8((np.maximum(new_image, 0) / new_image.max()) * 255.0)\n",
    "    \n",
    "    final_image = Image.fromarray(scaled_image)\n",
    "\n",
    "    return final_image\n",
    "\n",
    "def dcm_to_png(image_path):\n",
    "    \n",
    "    ds = pydicom.dcmread(image_path)\n",
    "    \n",
    "    new_image = ds.pixel_array.astype(float)\n",
    "    \n",
    "    scaled_image = np.uint8((np.maximum(new_image, 0) / new_image.max()) * 255.0)\n",
    "    \n",
    "    final_image = Image.fromarray(scaled_image)\n",
    "\n",
    "    final_image.save(image_path.rsplit('/', 1)[1][:-3] + 'png')\n",
    "    \n",
    "\n",
    "def dcm_to_jpeg(image_path):\n",
    "    \n",
    "    ds = pydicom.dcmread(image_path)\n",
    "    \n",
    "    new_image = ds.pixel_array.astype(float)\n",
    "    \n",
    "    scaled_image = np.uint8((np.maximum(new_image, 0) / new_image.max()) * 255.0)\n",
    "    \n",
    "    final_image = Image.fromarray(scaled_image)\n",
    "\n",
    "    final_image.save(image_path.rsplit('/', 1)[1][:-3] + 'jpg')    \n"
   ]
  },
  {
   "cell_type": "markdown",
   "id": "80839ccb",
   "metadata": {},
   "source": [
    "Convert dicom image to png and save."
   ]
  },
  {
   "cell_type": "code",
   "execution_count": null,
   "id": "67d98c20",
   "metadata": {},
   "outputs": [],
   "source": [
    "image_path = 'COVID-19-NY-SBU/A117394/10-08-1900-CT ABD AND PELVIS WITH IV CONT-39755/9.000000-CTA 0.5 CE-40834/1-0163.dcm'\n",
    "dcm_to_png(image_path)"
   ]
  },
  {
   "cell_type": "markdown",
   "id": "cdfd06b6",
   "metadata": {},
   "source": [
    "Convert dicom image to jpg and save."
   ]
  },
  {
   "cell_type": "code",
   "execution_count": null,
   "id": "bd90fdaa",
   "metadata": {},
   "outputs": [],
   "source": [
    "image_path = 'COVID-19-NY-SBU/A587516/04-22-1901-CT CHEST WO IV CONT-40216/2.000000-Body 5.0-01241/1-16.dcm'\n",
    "dcm_to_jpeg(image_path)"
   ]
  },
  {
   "cell_type": "markdown",
   "id": "f3899246",
   "metadata": {},
   "source": [
    "Display a few dicom images."
   ]
  },
  {
   "cell_type": "code",
   "execution_count": null,
   "id": "ff550791",
   "metadata": {},
   "outputs": [],
   "source": [
    "image_path = 'COVID-19-NY-SBU/A546520/12-30-1900-CT CHEST PULMONARY ANGIO WITH IV CON-13804/11.000000-CTA 3.000 CE-95792/1-119.dcm'\n",
    "view_dicom_image(image_path)"
   ]
  },
  {
   "cell_type": "code",
   "execution_count": null,
   "id": "61579705",
   "metadata": {},
   "outputs": [],
   "source": [
    "image_path = 'COVID-19-NY-SBU/A770557/12-19-1900-CT CHEST WO IV CONT-97223/5.000000-Lung 1.0-84269/1-127.dcm'\n",
    "view_dicom_image(image_path)"
   ]
  },
  {
   "cell_type": "code",
   "execution_count": null,
   "id": "c801d0df",
   "metadata": {},
   "outputs": [],
   "source": [
    "image_path = 'COVID-19-NY-SBU/A770557/12-19-1900-CT CHEST WO IV CONT-97223/7.000000-Body 3.000-78395/1-53.dcm'\n",
    "view_dicom_image(image_path)"
   ]
  },
  {
   "cell_type": "markdown",
   "id": "105b7f99",
   "metadata": {},
   "source": [
    "### Extract Metadata"
   ]
  },
  {
   "cell_type": "markdown",
   "id": "f912e626",
   "metadata": {},
   "source": [
    "The following function will extract the file and patient metadata from the header of each dicom (.dcm) file within a given folder and place the collected metadata into a pandas dataframe."
   ]
  },
  {
   "cell_type": "code",
   "execution_count": null,
   "id": "be0be963",
   "metadata": {},
   "outputs": [],
   "source": [
    "def extract_metadata(base_folder):\n",
    "  \n",
    "    df = pd.DataFrame()\n",
    "    file_folders = os.listdir(path = base_folder)\n",
    "    \n",
    "    for folder in file_folders:\n",
    "            path = base_folder + '/' + folder\n",
    "            meta = join_tree(path, verbose=2)\n",
    "            df = pd.concat([df, meta])\n",
    "        \n",
    "    return df"
   ]
  },
  {
   "cell_type": "code",
   "execution_count": null,
   "id": "0e318e25",
   "metadata": {},
   "outputs": [],
   "source": [
    "base_folder =  'COVID-19-NY-SBU'\n",
    "metadata = extract_metadata(base_folder)\n",
    "metadata"
   ]
  },
  {
   "cell_type": "markdown",
   "id": "3241ff77",
   "metadata": {},
   "source": [
    "Included in this metadata are import pieces of file and patient data, such as the body part examined, the patient's sex, the patient's age, etc. "
   ]
  },
  {
   "cell_type": "code",
   "execution_count": null,
   "id": "fd079296",
   "metadata": {},
   "outputs": [],
   "source": [
    "metadata.columns[40:60]"
   ]
  },
  {
   "cell_type": "code",
   "execution_count": null,
   "id": "7fee9d5c",
   "metadata": {},
   "outputs": [],
   "source": [
    "metadata.BodyPartExamined"
   ]
  },
  {
   "cell_type": "code",
   "execution_count": null,
   "id": "c5cedc88",
   "metadata": {},
   "outputs": [],
   "source": [
    "metadata.PatientSex"
   ]
  },
  {
   "cell_type": "code",
   "execution_count": null,
   "id": "d0fa4cb1",
   "metadata": {},
   "outputs": [],
   "source": [
    "metadata.PatientAge"
   ]
  },
  {
   "cell_type": "code",
   "execution_count": null,
   "id": "b692c150",
   "metadata": {},
   "outputs": [],
   "source": []
  }
 ],
 "metadata": {
  "kernelspec": {
   "display_name": "Python 3 (ipykernel)",
   "language": "python",
   "name": "python3"
  },
  "language_info": {
   "codemirror_mode": {
    "name": "ipython",
    "version": 3
   },
   "file_extension": ".py",
   "mimetype": "text/x-python",
   "name": "python",
   "nbconvert_exporter": "python",
   "pygments_lexer": "ipython3",
   "version": "3.9.6"
  }
 },
 "nbformat": 4,
 "nbformat_minor": 5
}
