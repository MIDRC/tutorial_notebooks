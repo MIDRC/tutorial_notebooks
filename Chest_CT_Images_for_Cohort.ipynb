{
 "cells": [
  {
   "cell_type": "markdown",
   "id": "d8ef63c3",
   "metadata": {},
   "source": [
    "# How to Build a Patient Cohort and Access All Chest CT Images\n",
    "---\n",
    "by Chris Meyer, PhD\n",
    "\n",
    "Manager of Data and User Services at the Center for Translational Data Science at University of Chicago\n",
    "\n",
    "August 2023\n",
    "\n",
    "\n",
    "\n"
   ]
  },
  {
   "cell_type": "markdown",
   "id": "5db7f87c",
   "metadata": {},
   "source": [
    "## Introduction\n",
    "---\n",
    "* This notebook demonstrates how to build a cohort of MIDRC patients based on clinical and demographic data and then access all Chest CT scans and any related annotations.\n"
   ]
  },
  {
   "cell_type": "markdown",
   "id": "5b18d84f",
   "metadata": {},
   "source": [
    "### Set local variables\n",
    "---\n",
    "Change the following directory paths to a valid working directories where you're running this notebook."
   ]
  },
  {
   "cell_type": "code",
   "execution_count": null,
   "id": "5a5e19b5",
   "metadata": {},
   "outputs": [],
   "source": [
    "cred = \"/Users/christopher/Downloads/midrc-credentials.json\" # location of your MIDRC credentials, downloaded from https://data.midrc.org/identity by clicking \"Create API key\" button and saving the credentials.json locally\n",
    "api = \"https://data.midrc.org\" # The base URL of the data commons being queried. This shouldn't change for MIDRC.\n"
   ]
  },
  {
   "cell_type": "markdown",
   "id": "6aaf5d3e",
   "metadata": {},
   "source": [
    "### Install / Import Python Packages and Scripts"
   ]
  },
  {
   "cell_type": "code",
   "execution_count": null,
   "id": "8e1a7935",
   "metadata": {},
   "outputs": [],
   "source": [
    "## The packages below may be necessary for users to install according to the imports necessary in the subsequent cells.\n",
    "\n",
    "#!pip install --upgrade pandas\n",
    "#!pip install --upgrade --ignore-installed PyYAML\n",
    "#!pip install --upgrade pip\n",
    "#!pip install --upgrade gen3\n",
    "#!pip install pydicom"
   ]
  },
  {
   "cell_type": "code",
   "execution_count": null,
   "id": "7ea2fa09",
   "metadata": {},
   "outputs": [],
   "source": [
    "## Import Python Packages and scripts\n",
    "import sys, os, subprocess\n",
    "import gen3\n",
    "\n",
    "from gen3.auth import Gen3Auth # authentication SDK class\n",
    "from gen3.query import Gen3Query # query SDK class\n"
   ]
  },
  {
   "cell_type": "markdown",
   "id": "b1784bcb",
   "metadata": {},
   "source": [
    "### Initiate instances of the Gen3 SDK Classes using credentials file for authentication\n",
    "---\n",
    "Again, make sure the \"cred\" directory path variable reflects the location of your credentials file (path variables set above)."
   ]
  },
  {
   "cell_type": "code",
   "execution_count": null,
   "id": "d316dcdf",
   "metadata": {},
   "outputs": [],
   "source": [
    "auth = Gen3Auth(api, refresh_file=cred) # authentication class\n",
    "query = Gen3Query(auth) # query class\n"
   ]
  },
  {
   "cell_type": "markdown",
   "id": "85fc475d",
   "metadata": {},
   "source": [
    "## Build a Cohort of Cases by Running Queries Against MIDRC APIs\n",
    "---\n",
    "* There are many ways to query and access metadata for cohort building in MIDRC, but this notebook will focus on using the [Gen3](https://gen3.org) graphQL query service [\"guppy\"](https://github.com/uc-cdis/guppy/#readme). This is the backend query service that [MIDRC's data explorer GUI](https://data.midrc.org/explorer) uses. So, anything you can do in the explorer GUI, you can do with guppy queries, and more!\n",
    "* The guppy graphQL service has extensive documentation in GitHub [here](https://github.com/uc-cdis/guppy/blob/master/doc/queries.md) in case you'd like to build your own queries from scratch.\n",
    "* The Gen3Query SDK class (intialized as the variable \"query\" above in this notebook) has Python wrapper scripts to make sending queries to the guppy graphQL API simpler. The guppy SDK package can be viewed in GitHub [here](https://github.com/uc-cdis/gen3sdk-python/blob/master/gen3/query.py).\n"
   ]
  },
  {
   "cell_type": "markdown",
   "id": "f3045ba4",
   "metadata": {},
   "source": [
    "### Query Parameters\n",
    "---\n",
    "* Below, we first set some query parameters. Feel free to modify these parameters to see how it changes the query response. Setting these patient attributes is akin to selecting a filter value in [MIDRC's data explorer GUI](https://data.midrc.org/explorer). \n",
    "    * To see more documentation about to use and combine filters with various operator logic (like AND/OR/IN, etc.) see [this page](https://github.com/uc-cdis/guppy/blob/master/doc/queries.md#filter).\n",
    "* We then send our query to MIDRC's guppy API endpoint using [the Gen3Query SDK package](https://github.com/uc-cdis/gen3sdk-python/blob/master/gen3/query.py) we initialized earlier. \n",
    "* If our query request is successful, the API response should be in JSON format, and it should contain a list of patient IDs along with any other patient data we ask for."
   ]
  },
  {
   "cell_type": "code",
   "execution_count": null,
   "id": "86e01ee4",
   "metadata": {},
   "outputs": [],
   "source": [
    "## \"case\" query parameters\n",
    "## In this example, we're going to filter our patient cohort by asking for:\n",
    "# female Asian patients in an age range that tested positive for COVID-19.\n",
    "\n",
    "# demographic attributes / filters\n",
    "race = \"Asian\"\n",
    "sex = \"Female\"\n",
    "min_age = 79\n",
    "max_age = 89\n",
    "\n",
    "# clinical attributes / filters\n",
    "covid19_positive = \"True\"\n",
    "\n",
    "# fields to return.  \n",
    "fields = [\"submitter_id\", # \"submitter_id\" here is the case/patient's unique identifier in the database\n",
    "    \"project_id\" # this is the \"project\" that the patient belongs to. by default, queries run across all projects\n",
    "]\n"
   ]
  },
  {
   "cell_type": "code",
   "execution_count": null,
   "id": "8f9cd402",
   "metadata": {},
   "outputs": [],
   "source": [
    "## Run the query using the guppy graphQL service\n",
    "\n",
    "data = query.raw_data_download(\n",
    "                    data_type=\"case\",\n",
    "                    fields=fields,\n",
    "                    filter_object={\n",
    "                        \"AND\": [\n",
    "                            {\"=\": {\"race\": race}},\n",
    "                            {\"=\": {\"sex\": sex}},\n",
    "                            {\">=\": {\"age_at_index\": min_age}},\n",
    "                            {\"<=\": {\"age_at_index\": max_age}},\n",
    "                        ]\n",
    "                    },\n",
    "                    sort_fields=[{\"submitter_id\": \"asc\"}]\n",
    "                )\n",
    "\n",
    "if len(data) > 0 and \"submitter_id\" in data[0]:\n",
    "    case_ids = [i['submitter_id'] for i in data] ## make a list of the case (patient) IDs returned\n",
    "    print(\"Query returned {} case IDs.\".format(len(data)))\n",
    "    print(\"Data is a list with rows like this:\\n\\t {}\".format(data[0:1]))\n",
    "else:\n",
    "    print(\"Your query returned no data! Please, check that query parameters are valid.\")"
   ]
  },
  {
   "cell_type": "markdown",
   "id": "c417262b",
   "metadata": {},
   "source": [
    "### Send another query to get data files\n",
    "---\n",
    "All MIDRC data files that can be downloaded, including both images and annotations, are listed in the guppy index \"data_file\", which can be queried similar to our query of the \"case\" index above.\n",
    "\n",
    "* Note: We're going to use the property \"case_ids\" as a filter to restrict the data_file records returned down to those associated with cases in our cohort built above.\n",
    "```\n",
    "                            {\"IN\": {\"case_ids\": case_ids}},\n",
    "```\n"
   ]
  },
  {
   "cell_type": "code",
   "execution_count": null,
   "id": "d025f1f4",
   "metadata": {},
   "outputs": [],
   "source": [
    "## \"data_file\" query parameters\n",
    "## In this example, we're asking for files from CT imaging studies of the chest\n",
    "\n",
    "# imaging_study attributes / filters\n",
    "source_node = \"ct_series_file\" # this will limit the files returned to those that are CT series\n",
    "loinc_system = \"Chest\" # this is the LOINC-harmonized \"body part examined\" in the imaging study\n",
    "\n",
    "# fields to return.  \n",
    "fields = [\n",
    "    \"project_id\", # this is the \"project\" that the file belongs to. by default, queries run across all projects\n",
    "    \"case_ids\", # this is the \"submitter_id\" of the patient the file is associated with (the patient ID)\n",
    "    \"object_id\", # this is the unique identifier (GUID) for a file in MIDRC which can be used to access/download the file\n",
    "    \"source_node\", # this is the name of the node in the MIDRC data model under which the file is stored\n",
    "    \"file_name\",\n",
    "    \"file_size\"\n",
    "]\n"
   ]
  },
  {
   "cell_type": "code",
   "execution_count": null,
   "id": "f061bd40",
   "metadata": {},
   "outputs": [],
   "source": [
    "# note that the field \"data_type\" here has changed from \"case\" (example above) to \"data_file\". This is the name of the Elasticsearch index\n",
    "data = query.raw_data_download(\n",
    "                    data_type=\"data_file\",\n",
    "                    fields=fields,\n",
    "                    filter_object={\n",
    "                        \"AND\": [\n",
    "                            {\"=\": {\"source_node\": source_node}},\n",
    "                            {\"=\": {\"loinc_system\": loinc_system}},\n",
    "                            {\"IN\": {\"case_ids\": case_ids}},\n",
    "                        ]\n",
    "                    },\n",
    "                    sort_fields=[{\"submitter_id\": \"asc\"}]\n",
    "                )\n",
    "\n",
    "if len(data) > 0 and \"object_id\" in data[0]:\n",
    "    object_ids = [i['object_id'] for i in data] ## make a list of the file object_ids returned by our query\n",
    "    print(\"Query returned {} data files with {} object_ids.\".format(len(data),len(object_ids)))\n",
    "    print(\"Data is a list with rows like this:\\n\\t {}\".format(data[0:1]))\n",
    "else:\n",
    "    print(\"Your query returned no data! Please, check that query parameters are valid.\")"
   ]
  },
  {
   "cell_type": "markdown",
   "id": "14db3f95-25c6-4772-a5c8-fe443687c5c9",
   "metadata": {},
   "source": [
    "### In this next example, we want both CT scans *and* any associated annotation files in our object_id list\n",
    "---\n",
    "To add other types of files to the query, we simply make `source_nodes` a list of node IDs.\n"
   ]
  },
  {
   "cell_type": "code",
   "execution_count": null,
   "id": "56f5bba4",
   "metadata": {},
   "outputs": [],
   "source": [
    "source_nodes = [\"ct_series_file\", \"annotation_file\",\"dicom_annotation_file\"]"
   ]
  },
  {
   "cell_type": "code",
   "execution_count": null,
   "id": "62a7d14d",
   "metadata": {},
   "outputs": [],
   "source": [
    "# note that the field \"data_type\" here has changed from \"case\" (example above) to \"data_file\". This is the name of the Elasticsearch index\n",
    "data = query.raw_data_download(\n",
    "                    data_type=\"data_file\",\n",
    "                    fields=fields,\n",
    "                    filter_object={\n",
    "                        \"AND\": [\n",
    "                            {\"in\": {\"source_node\": source_nodes}},\n",
    "                            {\"=\": {\"loinc_system\": loinc_system}},\n",
    "                            {\"IN\": {\"case_ids\": case_ids}},\n",
    "                        ]\n",
    "                    },\n",
    "                    sort_fields=[{\"submitter_id\": \"asc\"}]\n",
    "                )\n",
    "\n",
    "if len(data) > 0:\n",
    "    object_ids = [i['object_id'] for i in data if 'object_id' in i] ## make a list of the file object_ids returned by our query\n",
    "    print(\"Query returned {} data files with {} object_ids.\".format(len(data),len(object_ids)))\n",
    "    print(\"Data is a list with rows like this:\\n\\t {}\".format(data[0:1]))\n",
    "else:\n",
    "    print(\"Your query returned no data! Please, check that query parameters are valid.\")"
   ]
  },
  {
   "cell_type": "markdown",
   "id": "4061b81b-083c-46bb-b7ba-adda95a3b61b",
   "metadata": {},
   "source": [
    "## 4) Access data files using their object_id / data GUID (globally unique identifiers)\n",
    "---\n",
    "In order to download files stored in MIDRC, users need to reference the file's object_id (AKA data GUID or Globally Unique IDentifier).\n",
    "\n",
    "Once we have a list of GUIDs we want to download, we can use the gen3 SDK to download the files.\n",
    "\n",
    "Below we use the gen3 SDK command `gen3 drs-pull object` which is [documented in detail here](https://github.com/uc-cdis/gen3sdk-python/blob/master/docs/howto/drsDownloading.md)."
   ]
  },
  {
   "cell_type": "code",
   "execution_count": null,
   "id": "5d6bfc84",
   "metadata": {},
   "outputs": [],
   "source": [
    "## Make a new directory for downloaded files\n",
    "os.system(\"mkdir -p downloads\")\n"
   ]
  },
  {
   "cell_type": "code",
   "execution_count": null,
   "id": "ccafa103",
   "metadata": {},
   "outputs": [],
   "source": [
    "## Run the \"gen3 drs-pull object\" command to download one of the files\n",
    "object_id = object_ids[0]\n",
    "cmd = \"gen3 --auth {} --endpoint data.midrc.org drs-pull object {} --output-dir downloads\".format(cred,object_id)\n",
    "os.system(cmd)\n"
   ]
  },
  {
   "cell_type": "code",
   "execution_count": null,
   "id": "1b3fbabc",
   "metadata": {},
   "outputs": [],
   "source": [
    "ls -l downloads"
   ]
  },
  {
   "cell_type": "markdown",
   "id": "aede82ab-b49c-432d-96ce-fc5c624f4b26",
   "metadata": {},
   "source": [
    "### To download all the files, use a simple loop over the object_ids in our list\n"
   ]
  },
  {
   "cell_type": "code",
   "execution_count": null,
   "id": "ab2ad0f2-a294-47a7-ab68-62472d8b0195",
   "metadata": {
    "scrolled": true
   },
   "outputs": [],
   "source": [
    "## Simple loop to download all files and keep track of success and failures\n",
    "success,failure,other=[],[],[]\n",
    "count,total = 0,len(object_ids)\n",
    "for object_id in object_ids:\n",
    "    count+=1\n",
    "    cmd = \"gen3 --auth {} --endpoint data.midrc.org drs-pull object {} --output-dir downloads\".format(cred,object_id)\n",
    "    stout = subprocess.run(cmd, shell=True, capture_output=True)\n",
    "    print(\"Progress ({}/{}): {}\".format(count,total,stout.stdout))\n",
    "    if \"failed\" in str(stout.stdout):\n",
    "        failure.append(object_id)\n",
    "    elif \"successfully\" in str(stout.stdout):\n",
    "        success.append(object_id)\n",
    "    else:\n",
    "        other.append(object_id)"
   ]
  },
  {
   "cell_type": "markdown",
   "id": "c2fc0609-f73b-41c6-a3df-bcf81f428711",
   "metadata": {},
   "source": [
    "## The End\n",
    "---\n",
    "If you have any questions related to this notebook don't hesitate to reach out to the MIDRC Helpdesk at midrc-support@datacommons.io or the author directly at cgmeyer@uchicago.edu\n",
    "\n",
    "Happy data wrangling!"
   ]
  },
  {
   "cell_type": "code",
   "execution_count": null,
   "id": "fb0611c1-4c91-4e28-a9f1-ff54e4ac741e",
   "metadata": {},
   "outputs": [],
   "source": []
  }
 ],
 "metadata": {
  "kernelspec": {
   "display_name": "Python 3 (ipykernel)",
   "language": "python",
   "name": "python3"
  },
  "language_info": {
   "codemirror_mode": {
    "name": "ipython",
    "version": 3
   },
   "file_extension": ".py",
   "mimetype": "text/x-python",
   "name": "python",
   "nbconvert_exporter": "python",
   "pygments_lexer": "ipython3",
   "version": "3.11.5"
  }
 },
 "nbformat": 4,
 "nbformat_minor": 5
}
