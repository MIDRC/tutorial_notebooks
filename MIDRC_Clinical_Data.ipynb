{
 "cells": [
  {
   "cell_type": "markdown",
   "id": "fe51540e-c6e4-4ece-9690-9e1dea2e42ee",
   "metadata": {},
   "source": [
    "# MIDRC Open-R1 Clinical Data\n",
    "\n",
    "*Please note: This notebook uses open access data*\n",
    "\n",
    "##### Created By: J Montgomery Maxwell"
   ]
  },
  {
   "cell_type": "markdown",
   "id": "c9547961-f249-4068-b9b0-acfa48b089f4",
   "metadata": {},
   "source": [
    "In this notebook we will visualize the distribution of subjects accross a variety demographics and their COVID-19 status in the Open-R1 dataset from The Medical Imaging and Data Resource Center. (MIDRC - https://data.midrc.org/)"
   ]
  },
  {
   "cell_type": "markdown",
   "id": "73905708-1ff4-4e7e-808a-6d1a4a47dfbd",
   "metadata": {},
   "source": [
    "The Open-R1 data set has 1,169 subjects, this notebook will compare the distribution of COVID-19 positive and negative patients across multiple demographic classes. In particular we will focus on the subjects' age groups (-20, 21-30, ..., 90+), sex (Male or Female), race (Black or African American, White, Asian, Pacific Islander, American Indian, Other, or Not Reported), and whether the subject is Hispanic or Latino. Below is a subset of the dataset."
   ]
  },
  {
   "cell_type": "code",
   "execution_count": null,
   "id": "8498c432-b062-4e67-b5a3-a8569d9f6ff3",
   "metadata": {},
   "outputs": [],
   "source": [
    "!pip install gen3 --user"
   ]
  },
  {
   "cell_type": "code",
   "execution_count": null,
   "id": "1dcd402a-9876-4d96-97e3-0042897507df",
   "metadata": {
    "tags": []
   },
   "outputs": [],
   "source": [
    "import gen3\n",
    "import pandas as pd\n",
    "import numpy as np\n",
    "import matplotlib.pyplot as plt\n",
    "from scipy.stats import chi2_contingency\n",
    "from sklearn import tree\n",
    "from sklearn.model_selection import train_test_split\n",
    "from sklearn.metrics import accuracy_score\n"
   ]
  },
  {
   "cell_type": "code",
   "execution_count": null,
   "id": "d034641b-330f-4809-90bf-27a8f95b6b83",
   "metadata": {
    "tags": []
   },
   "outputs": [],
   "source": [
    "def age_group(agelist):\n",
    "    min_age = min(agelist)\n",
    "    groups = [\"-20 yr\", \"21-30 yr\", \"31-40 yr\", \"41-50 yr\", \"51-60 yr\", \"61-70 yr\", \"71-80 yr\", \"81-90 yr\", \"90+ yr\"]\n",
    "    grouplist = []\n",
    "    for i in agelist:\n",
    "        if i <= 20:\n",
    "            grouplist.append(groups[0])\n",
    "        elif i <= 30:\n",
    "            grouplist.append(groups[1])\n",
    "        elif i <= 40:\n",
    "            grouplist.append(groups[2])\n",
    "        elif i <= 50:\n",
    "            grouplist.append(groups[3])\n",
    "        elif i <= 60:\n",
    "            grouplist.append(groups[4])\n",
    "        elif i <= 70:\n",
    "            grouplist.append(groups[5])\n",
    "        elif i <= 80:\n",
    "            grouplist.append(groups[6])\n",
    "        elif i <= 90:\n",
    "            grouplist.append(groups[7])\n",
    "        else:\n",
    "            grouplist.append(groups[8])\n",
    "            \n",
    "    return grouplist\n",
    "\n",
    "def percent_representation(df, demographic_type, demographics):\n",
    "\n",
    "    positive_df = df[df['covid19_positive'] == 'Yes']\n",
    "    negative_df = df[df['covid19_positive'] == 'No']\n",
    "    \n",
    "    neg_percents = []\n",
    "    pos_percents = []\n",
    "    for demo in demographics:\n",
    "        neg_percents.append(round(len(negative_df[negative_df[demographic_type] == demo])/len(negative_df), 4)*100)\n",
    "        pos_percents.append(round(len(positive_df[positive_df[demographic_type] == demo])/len(positive_df), 4)*100)\n",
    "        \n",
    "    neg = pd.DataFrame()\n",
    "    pos = pd.DataFrame()     \n",
    "    \n",
    "    neg[demographic_type] = demographics\n",
    "    neg['Percent'] = neg_percents\n",
    "    neg['COVID-19 Status'] = 'Negative'\n",
    "    \n",
    "    pos[demographic_type] = demographics\n",
    "    pos['Percent'] = pos_percents\n",
    "    pos['COVID-19 Status'] = 'Positive'\n",
    "        \n",
    "    return pd.concat([neg, pos])"
   ]
  },
  {
   "cell_type": "code",
   "execution_count": null,
   "id": "33a05293-0927-4e7e-a30f-df1435982fcb",
   "metadata": {
    "tags": []
   },
   "outputs": [],
   "source": [
    "!gen3 drs-pull object dg.MD1R/2e3b3d14-bac8-4d84-a119-f452df3b33ac"
   ]
  },
  {
   "cell_type": "code",
   "execution_count": null,
   "id": "1c60f160-b93b-4ee9-ba77-c440a262bdf8",
   "metadata": {
    "tags": []
   },
   "outputs": [],
   "source": [
    "df = pd.read_csv('MIDRC_Open_R1_case.tsv', sep='\\t')\n",
    "df['zip'] = df['zip'].astype(str)\n",
    "df['age_group'] = age_group(df['age_at_index'])\n",
    "\n",
    "df.loc[df.race == 'Native Hawaiian or other Pacific Islander', 'race'] = 'Pacific Islander'\n",
    "df.loc[df.race == 'American Indian or Alaskan Native', 'race'] = 'American Indian' \n",
    "df.loc[df.race == 'Black or African American', 'race'] = 'Black or A.A.' \n",
    "df = df[['covid19_positive', 'age_group', 'sex', 'ethnicity', 'race']]\n",
    "df.head()"
   ]
  },
  {
   "cell_type": "markdown",
   "id": "f22aa8d5-eb9c-4165-b384-ad35c37e8893",
   "metadata": {},
   "source": [
    "### Subjects' COVID-19 Status"
   ]
  },
  {
   "cell_type": "markdown",
   "id": "be86e8d9-c6c0-4b42-b678-af970ac30aed",
   "metadata": {},
   "source": [
    "Approximately 17% of the subjects in the Open-R1 dataset were COVID-19 positive at the time of the dataset indexing. "
   ]
  },
  {
   "cell_type": "code",
   "execution_count": null,
   "id": "459f5a10-4cab-4a52-9849-e0fa4215e61e",
   "metadata": {
    "tags": []
   },
   "outputs": [],
   "source": [
    "covid_breakdown = {'Number of COVID-19 positive subjects': len(df[df['covid19_positive'] == 'Yes']['covid19_positive']), \n",
    "                   'Number of COVID-19 negative subjects': len(df[df['covid19_positive'] == 'No']['covid19_positive']), }\n",
    "covid_breakdown"
   ]
  },
  {
   "cell_type": "markdown",
   "id": "2df7d95d-e4ed-4b14-8228-c5a258e57006",
   "metadata": {},
   "source": [
    "## Subject Distribution"
   ]
  },
  {
   "cell_type": "code",
   "execution_count": null,
   "id": "c6b85a43-ba0b-4493-a3b6-704e283f0095",
   "metadata": {
    "tags": []
   },
   "outputs": [],
   "source": [
    "races = ['Black or A.A.', \n",
    "         'White', \n",
    "         'Asian', \n",
    "         'Pacific Islander', \n",
    "         'American Indian', \n",
    "         'Other', \n",
    "         'Not Reported']\n",
    "plot_df = percent_representation(df, 'race', races)\n",
    "X = np.arange(len(races))\n",
    "\n",
    "fig = plt.figure()\n",
    "ax = fig.add_axes([0,0,1,1])\n",
    "\n",
    "ax.bar(X - 0.2, plot_df[plot_df['COVID-19 Status'] == 'Negative']['Percent'], color='b', width=0.4, label='Negative')\n",
    "ax.bar(X + 0.2, plot_df[plot_df['COVID-19 Status'] == 'Positive']['Percent'], color='r', width=0.4, label='Positive')\n",
    "\n",
    "ax.set_xticks(X)\n",
    "ax.set_xticklabels(races, rotation=25)\n",
    "ax.set_ylabel('Percent')\n",
    "ax.set_xlabel('Race')\n",
    "ax.set_title('Subject Representation By Race')\n",
    "\n",
    "ax.legend()\n",
    "plt.show()  "
   ]
  },
  {
   "cell_type": "markdown",
   "id": "0958f4bd-12d8-424f-b329-11324f362882",
   "metadata": {},
   "source": [
    "Here we can see that the number of Black and African American (A.A.) subjects are nearly evenly represented amongst both COVID-19 positve and negative populations, while White and Asian subjects are significantly under represented amongst the COVID-19 positive population. Additionally the number of subjects who chose not to report their race (Not Reported) was much higher amongst the COVID-19 positive population."
   ]
  },
  {
   "cell_type": "code",
   "execution_count": null,
   "id": "eb73c6b7-4e6d-4b20-9775-1e82bdbf31bd",
   "metadata": {
    "tags": []
   },
   "outputs": [],
   "source": [
    "ethnicities = ['Not Hispanic or Latino', 'Hispanic or Latino'] \n",
    "\n",
    "plot_df = percent_representation(df, 'ethnicity', ethnicities)\n",
    "X = np.arange(len(ethnicities))\n",
    "\n",
    "fig = plt.figure()\n",
    "ax = fig.add_axes([0,0,1,1])\n",
    "\n",
    "ax.bar(X - 0.2, plot_df[plot_df['COVID-19 Status'] == 'Negative']['Percent'], color='b', width=0.4, label='Negative')\n",
    "ax.bar(X + 0.2, plot_df[plot_df['COVID-19 Status'] == 'Positive']['Percent'], color='r', width=0.4, label='Positive')\n",
    "\n",
    "ax.set_xticks(X)\n",
    "ax.set_xticklabels(ethnicities, rotation=25)\n",
    "ax.set_ylabel('Percent')\n",
    "ax.set_xlabel('Ethnicity')\n",
    "ax.set_title('Subject Representation By Ethnicity')\n",
    "\n",
    "ax.legend()\n",
    "plt.show()  "
   ]
  },
  {
   "cell_type": "markdown",
   "id": "27428af3-56ac-45ff-a7bd-788c8cf1a33e",
   "metadata": {
    "tags": []
   },
   "source": [
    "Hispanic and Latino subjects are slightly over represented amongst COVID-19 positive population and slightly under represented in the COVID-19 negative population."
   ]
  },
  {
   "cell_type": "code",
   "execution_count": null,
   "id": "1a01fd47-4dfd-40aa-8736-8affc2dbca3f",
   "metadata": {
    "tags": []
   },
   "outputs": [],
   "source": [
    "sexes = ['Male', 'Female'] \n",
    "\n",
    "plot_df = percent_representation(df, 'sex', sexes)\n",
    "X = np.arange(len(sexes))\n",
    "\n",
    "fig = plt.figure()\n",
    "ax = fig.add_axes([0,0,1,1])\n",
    "\n",
    "ax.bar(X - 0.2, plot_df[plot_df['COVID-19 Status'] == 'Negative']['Percent'], color='b', width=0.4, label='Negative')\n",
    "ax.bar(X + 0.2, plot_df[plot_df['COVID-19 Status'] == 'Positive']['Percent'], color='r', width=0.4, label='Positive')\n",
    "\n",
    "ax.set_xticks(X)\n",
    "ax.set_xticklabels(sexes, rotation=25)\n",
    "ax.set_ylabel('Percent')\n",
    "ax.set_xlabel('Sex')\n",
    "ax.set_title('Subject Representation By Sex')\n",
    "\n",
    "ax.legend()\n",
    "plt.show()  "
   ]
  },
  {
   "cell_type": "markdown",
   "id": "522a4e50-0db7-45c3-a921-d3cd5540b8a1",
   "metadata": {},
   "source": [
    "The majority of the COVID-19 postive subjects are male and the majority of COVID-19 negative subjects are female."
   ]
  },
  {
   "cell_type": "code",
   "execution_count": null,
   "id": "b89533cd-86cc-40e2-b7ff-be55f9f830a1",
   "metadata": {
    "tags": []
   },
   "outputs": [],
   "source": [
    "fig = plt.figure()\n",
    "ax = fig.add_axes([0,0,1,1])\n",
    "\n",
    "ages = [\"-20 yr\", \"21-30 yr\", \"31-40 yr\", \"41-50 yr\", \"51-60 yr\", \"61-70 yr\", \"71-80 yr\", \"81-90 yr\", \"90+ yr\"]\n",
    "\n",
    "plot_df = percent_representation(df, 'age_group', ages)\n",
    "X=np.arange(9)\n",
    "\n",
    "ax.bar(X - 0.2, \n",
    "       plot_df[plot_df['COVID-19 Status'] == 'Negative']['Percent'], color='b', width=0.4, label='Negative')\n",
    "\n",
    "ax.bar(X + 0.2, \n",
    "       plot_df[plot_df['COVID-19 Status'] == 'Positive']['Percent'], color='r', width=0.4, label='Positive')\n",
    "ax.set_xticks(X)\n",
    "ax.set_xticklabels(ages, rotation=25)\n",
    "\n",
    "ax.set_ylabel('Percent')\n",
    "ax.set_xlabel('Age Group')\n",
    "\n",
    "ax.set_title('Subject Representation By Age Group')\n",
    "\n",
    "ax.legend()\n",
    "plt.show()        "
   ]
  },
  {
   "cell_type": "markdown",
   "id": "5c9d4b78-1083-49d9-8e4f-72411c84453d",
   "metadata": {},
   "source": [
    "The majority of COVID-19 positive subjects are between the ages of 51 and 70, while the COVID-19 negative subjects are more evenly distributed between the 51-60, 61-70, and 71-80 age groups. The COVID-19 positive and negative subjects appear to be nearly evenly represented accross most of the age groups with the exception of the 71-80 and 81-90 year old age group which have a much higher proportion of COVID-19 negative subjects."
   ]
  }
 ],
 "metadata": {
  "kernelspec": {
   "display_name": "Python 3 (ipykernel)",
   "language": "python",
   "name": "python3"
  },
  "language_info": {
   "codemirror_mode": {
    "name": "ipython",
    "version": 3
   },
   "file_extension": ".py",
   "mimetype": "text/x-python",
   "name": "python",
   "nbconvert_exporter": "python",
   "pygments_lexer": "ipython3",
   "version": "3.9.6"
  }
 },
 "nbformat": 4,
 "nbformat_minor": 5
}
