{
 "cells": [
  {
   "cell_type": "markdown",
   "id": "e61ca787-fee9-4443-a92a-7961407fe94b",
   "metadata": {},
   "source": [
    "# Select patients with multiple imaging studies of different modalities\n",
    "---\n",
    "This notebook briefly demonstrates how to use the MIDRC open APIs to build a cohort of MIDRC patients that have multiple imaging studies of different modalities.\n",
    "\n",
    "by Chris Meyer, PhD\n",
    "\n",
    "Manager of Data and User Services at the Center for Translational Data Science at University of Chicago\n",
    "\n",
    "Last updated: April 2024\n",
    "\n",
    "\n",
    "\n"
   ]
  },
  {
   "cell_type": "markdown",
   "id": "f4a355ce-9d99-4fb6-91fb-1a06d77a217c",
   "metadata": {},
   "source": [
    "## 1) Set up Python environment\n",
    "---\n"
   ]
  },
  {
   "cell_type": "markdown",
   "id": "c0235e49-d5d6-416d-90ab-916142ec164f",
   "metadata": {},
   "source": [
    "### Download an API key file containing your credentials\n",
    "---\n",
    "1) Navigate to the MIDRC data portal in your browser: https://data.midrc.org.\n",
    "2) Read and accept the DUA (if you haven't already).\n",
    "3) Navigate to the user profile page: https://data.midrc.org/identity\n",
    "4) Click on the button \"Create API Key\" and save the `credentials.json` file somewhere safe\n"
   ]
  },
  {
   "cell_type": "markdown",
   "id": "07fe3a97-2ec5-4609-ac3f-4530de31814a",
   "metadata": {},
   "source": [
    "### Set local variables\n",
    "---\n",
    "Change the following `cred` variable path to point to your credentials file downloaded from the MIDRC data portal following the instructions above."
   ]
  },
  {
   "cell_type": "code",
   "execution_count": null,
   "id": "59992d50-8afc-4d4c-870f-25e1b3592180",
   "metadata": {},
   "outputs": [],
   "source": [
    "cred = \"/Users/christopher/Downloads/midrc-credentials.json\" # location of your MIDRC credentials, downloaded from https://data.midrc.org/identity by clicking \"Create API key\" button and saving the credentials.json locally\n",
    "api = \"https://data.midrc.org\" # The base URL of the data commons being queried. This shouldn't change for MIDRC.\n"
   ]
  },
  {
   "cell_type": "markdown",
   "id": "997a7aea-9761-4966-9b12-4dc391f567f0",
   "metadata": {},
   "source": [
    "### Install / Import Python Packages and Scripts"
   ]
  },
  {
   "cell_type": "code",
   "execution_count": null,
   "id": "9e2111b0-3828-4c7e-9df0-05dd253a02c3",
   "metadata": {},
   "outputs": [],
   "source": [
    "## The packages below may be necessary for users to install according to the imports necessary in the subsequent cells.\n",
    "\n",
    "import sys\n",
    "#!{sys.executable} -m pip install\n",
    "#!{sys.executable} -m pip install --upgrade pandas\n",
    "#!{sys.executable} -m pip install --upgrade --ignore-installed PyYAML\n",
    "#!{sys.executable} -m pip install --upgrade pip\n",
    "#!{sys.executable} -m pip install --upgrade gen3\n",
    "#!{sys.executable} -m pip install pydicom\n",
    "#!{sys.executable} -m pip install --upgrade Pillow\n",
    "#!{sys.executable} -m pip install psmpy\n",
    "#!{sys.executable} -m pip install python-gdcm --upgrade\n",
    "#!{sys.executable} -m pip install pylibjpeg --upgrade"
   ]
  },
  {
   "cell_type": "code",
   "execution_count": null,
   "id": "0843c5b8-0379-4440-a651-ce417e06a701",
   "metadata": {},
   "outputs": [],
   "source": [
    "## Import Python Packages and scripts\n",
    "\n",
    "import os, subprocess\n",
    "import pandas as pd\n",
    "#import numpy as np\n",
    "#import pydicom\n",
    "\n",
    "# import some Gen3 packages\n",
    "import gen3\n",
    "from gen3.auth import Gen3Auth\n",
    "from gen3.query import Gen3Query\n",
    "\n"
   ]
  },
  {
   "cell_type": "markdown",
   "id": "7fce03c2-e84d-4211-b41d-f44717ae05b5",
   "metadata": {},
   "source": [
    "### Initiate instances of the Gen3 SDK Classes using credentials file for authentication\n",
    "---\n",
    "Make sure the \"cred\" variable reflects the location of your credentials file."
   ]
  },
  {
   "cell_type": "code",
   "execution_count": null,
   "id": "165dae3d-8c46-4c4f-9bb1-ffd2e0e8c963",
   "metadata": {},
   "outputs": [],
   "source": [
    "auth = Gen3Auth(api, refresh_file=cred) # authentication class\n",
    "query = Gen3Query(auth) # query class\n"
   ]
  },
  {
   "cell_type": "markdown",
   "id": "a329f502-d824-482b-a1a0-76a200ca6093",
   "metadata": {},
   "source": [
    "## 2) Build Cohorts by Sending Queries to the MIDRC APIs\n",
    "#### General notes on sending queries:\n",
    "* There are many ways to query and access metadata for cohort building in MIDRC, but this notebook will focus on using the [Gen3](https://gen3.org) graphQL query service [\"guppy\"](https://github.com/uc-cdis/guppy/#readme). This is the backend query service that [MIDRC's data explorer GUI](https://data.midrc.org/explorer) uses. So, anything you can do in the explorer GUI, you can do with guppy queries, and more!\n",
    "* The guppy graphQL service has more functionality than is demonstrated in this simple example. You can find extensive documentation in GitHub [here](https://github.com/uc-cdis/guppy/blob/master/doc/queries.md) in case you'd like to build your own queries from scratch.\n",
    "* The Gen3 SDK (intialized as `query` above in this notebook) has Python wrapper scripts to make sending queries to the guppy graphQL API simpler. The guppy SDK package can be viewed in GitHub [here](https://github.com/uc-cdis/gen3sdk-python/blob/master/gen3/query.py).\n",
    "* Guppy queries focus on a particular type of data (cases, imaging studies, files, etc.), which corresponds to the major tabs in [MIDRC's data explorer GUI](https://data.midrc.org/explorer).\n",
    "* Queries include arguments that are akin to selecting filter values in [MIDRC's data explorer GUI](https://data.midrc.org/explorer).\n",
    "* To see more documentation about how to use and combine filters with various operator logic (like AND/OR/IN, etc.) see [this page](https://github.com/uc-cdis/guppy/blob/master/doc/queries.md#filter).\n",
    "\n",
    "---\n"
   ]
  },
  {
   "cell_type": "markdown",
   "id": "35a82d76-7de3-4fa6-b5a0-d4ec425484f5",
   "metadata": {},
   "source": [
    "#### Set query parameters\n",
    "---\n",
    "* Here, we'll send a query to the `case` guppy index, which corresponds to the \"Cases\" tab of [MIDRC's data explorer GUI](https://data.midrc.org/explorer).\n",
    "* The filters defined below can be modified to return different subsets of cases. Here, we'll select cases that have at least one Chest CT and at least one Chest X-ray (CXR).\n",
    "* If our query request is successful, the API response should be in JSON format, and it should contain a list of patient IDs along with any other patient data we ask for.\n"
   ]
  },
  {
   "cell_type": "code",
   "execution_count": null,
   "id": "d0e36c9a-4694-40f6-ab64-2170dd7266a5",
   "metadata": {},
   "outputs": [],
   "source": [
    "### Set some \"imaging_study\" query parameters\n",
    "\n",
    "## Imaging study modality filter: we want imaging studies with at least one CT and one CR or DX\n",
    "modality_1 = [\"DX\", \"CR\"]\n",
    "modality_2 = [\"CT\"]\n",
    "\n",
    "## Imaging study body part filter: here we select \"chest\" as the \"LOINC system\" filter, which is the body part examined\n",
    "body_part_examined = \"Chest\"\n",
    "\n",
    "## The fields we want our query to return; \n",
    "## Note: you can set fields to \"None\" to return all fields with the query in the cell below\n",
    "fields = [\"project_id\",\n",
    "          \"submitter_id\",\n",
    "          \"imaging_studies.loinc_system\",\n",
    "          \"imaging_studies.study_uid\",\n",
    "          \"imaging_studies.study_modality\",\n",
    "          \"_imaging_studies_count\",\n",
    "          \"_cr_series_file_count\",\n",
    "          \"_dx_series_file_count\",\n",
    "          \"_ct_series_file_count\"]"
   ]
  },
  {
   "cell_type": "code",
   "execution_count": null,
   "id": "b0245245-eba0-4614-bbcb-5fc4ede5de1a",
   "metadata": {},
   "outputs": [],
   "source": [
    "## Note: the \"fields\" option defines what fields we want the query to return. If set to \"None\", returns all available fields.\n",
    "\n",
    "cases = query.raw_data_download(\n",
    "                    data_type=\"case\",\n",
    "                    #fields=None,\n",
    "                    fields=fields,\n",
    "                    filter_object={\n",
    "                        \"AND\": [\n",
    "                            {\"nested\":{\"path\":\"imaging_studies\",\n",
    "                                        \"=\": {\"loinc_system\": body_part_examined}}},\n",
    "                            {\"nested\":{\"path\":\"imaging_studies\",\n",
    "                                       \"IN\":{\"study_modality\":modality_1}}},\n",
    "                            {\"nested\":{\"path\":\"imaging_studies\",\n",
    "                                       \"IN\":{\"study_modality\":modality_2}}}\n",
    "                        ],\n",
    "                    },\n",
    "                    sort_fields=[{\"submitter_id\": \"asc\"}]\n",
    "                )\n",
    "\n",
    "if len(cases) > 0 and \"submitter_id\" in cases[0]:\n",
    "    case_ids = [i['submitter_id'] for i in cases] ## make a list of the imaging study IDs returned\n",
    "    print(\"Query returned {} cases with data for each that looks like this:\\n\\t\".format(len(cases)))\n",
    "    display(cases[0:1])\n",
    "else:\n",
    "    print(\"Your query returned no data! Please, check that query parameters are valid.\")"
   ]
  },
  {
   "cell_type": "markdown",
   "id": "8a6b0d4c-b304-4e00-8477-1b860dc05767",
   "metadata": {},
   "source": [
    "### Filter Query Results for only the desired imaging studies\n",
    "---\n",
    "Our query has returned all cases that have at least one imaging study of the Chest, and have at least one CXR and one CT. However, those cases may have imaging studies of other modalities or body parts we're not interested in. \n",
    "\n",
    "So, next we'll filter the query results to obtain only imaging studies that are both of the Chest and of modality CT, CR, or DX, thus excluding studies of other body parts or modalities."
   ]
  },
  {
   "cell_type": "code",
   "execution_count": null,
   "id": "ffa5c794-370f-47fe-bf64-008f6485b80f",
   "metadata": {},
   "outputs": [],
   "source": [
    "## Get only the imaging studies for Chest CT and Chest X-rays so we can build a file download manifest\n",
    "desired_studies = {i['submitter_id']:[j for j in i['imaging_studies'] if (j['study_modality'][0] in modality_1+modality_2 and 'loinc_system' in j and 'Chest' in j['loinc_system'])] for i in cases}\n",
    "list(desired_studies.items())[0]"
   ]
  },
  {
   "cell_type": "markdown",
   "id": "eab0bdd9-41b3-4a08-b3ed-3418d0b9d236",
   "metadata": {},
   "source": [
    "\n",
    "## 3) Send another query to get data file details for our cohort / case ID\n",
    "---\n",
    "Now that we have a list of imaging studies we're interested in from our original cohort of cases, we can run another query to get the `object_id` of each of the imaging series files related to those imaging studies. This is achieved by querying the `data_file` guppy index, which corresponds to the \"Data Files\" tab of the MIDRC data explorer GUID. \n",
    "\n",
    "All MIDRC data files, including both images and annotations, are listed in the guppy index `data_file`, which is queried in a similar manner to our query of the `imaging_study` index above. The query parameter `data_type` below determines which guppy (Elasticsearch) index we're querying.\n",
    "\n",
    "To get only `data_file` records that correspond to our imaging study cohort built previously, we'll use the list of study UIDs as a query filter. \n"
   ]
  },
  {
   "cell_type": "markdown",
   "id": "57bd0e57-9909-4f37-a65a-c43c31cb1137",
   "metadata": {},
   "source": [
    "### Set 'data_file' query parameters\n",
    "---\n",
    "Here, we'll utilize the property `source_node` to filter the list of files for our cohort to only those matching the type of files we're interested in. In this example, we ask only for CR, DX, and CT images, which will exclude any other types of files related to our desired imaging studies like annotations or supplemental files.\n",
    "\n",
    "We're also using the property `study_uid` as a filter to restrict the `data_file` records returned down to those associated with the imaging studies in our cohort built above. \n"
   ]
  },
  {
   "cell_type": "code",
   "execution_count": null,
   "id": "4b1736d5-ba41-4a59-a3d9-d10ee7142e8d",
   "metadata": {},
   "outputs": [],
   "source": [
    "## We only want CR, DX, and CT imaging series files, so we can use the \"source_node\" to filter out other types of data files\n",
    "source_nodes = ['cr_series_file', 'dx_series_file', 'ct_series_file']\n",
    "\n",
    "# Build a list of study UIDs to use as a filter in our data_file query\n",
    "all_study_uids = []\n",
    "for case_id in desired_studies:\n",
    "    studies = desired_studies[case_id]\n",
    "    study_uids = [i['study_uid'] for i in studies]\n",
    "    all_study_uids += study_uids\n",
    "\n",
    "display(len(list(set(all_study_uids))))\n"
   ]
  },
  {
   "cell_type": "code",
   "execution_count": null,
   "id": "4acbeaf2-3e05-4909-8675-fb87084cfbc0",
   "metadata": {},
   "outputs": [],
   "source": [
    "## Search for specific files associated with our cohort by adding \"study_uid\" as a filter\n",
    "# * Note: \"fields\" is set to \"None\" in this query, which by default returns all the properties available\n",
    "data_files = query.raw_data_download(\n",
    "                    data_type=\"data_file\",\n",
    "                    fields=None,\n",
    "                    filter_object={\n",
    "                        \"AND\": [\n",
    "                            {\"IN\": {\"study_uid\": all_study_uids}},\n",
    "                            {\"IN\": {\"source_node\": source_nodes}},\n",
    "                        ]\n",
    "                    },\n",
    "                    sort_fields=[{\"submitter_id\": \"asc\"}]\n",
    "                )\n",
    "\n",
    "if len(data_files) > 0:\n",
    "    object_ids = [i['object_id'] for i in data_files if 'object_id' in i] ## make a list of the file object_ids returned by our query\n",
    "    print(\"Query returned {} data files with {} object_ids.\".format(len(data_files),len(object_ids)))\n",
    "    print(\"Data is a list with rows like this:\\n\\t {}\".format(data_files[0:1]))\n",
    "else:\n",
    "    print(\"Your query returned no data! Please, check that query parameters are valid.\")"
   ]
  },
  {
   "cell_type": "code",
   "execution_count": null,
   "id": "d469fcf7-262c-492a-9ec8-18560e16b5dc",
   "metadata": {},
   "outputs": [],
   "source": []
  },
  {
   "cell_type": "markdown",
   "id": "4507caee-bbb7-49b4-9697-9ccb33909869",
   "metadata": {},
   "source": [
    "## 4) Access data files using their object_id / data GUID (globally unique identifiers)\n",
    "---\n",
    "In order to download files stored in MIDRC, users need to reference the file's object_id (AKA data GUID or Globally Unique IDentifier).\n",
    "\n",
    "Once we have a list of GUIDs we want to download, we can use either the gen3-client or the gen3 SDK to download the files. You can also access individual files in your browser after logging-in and entering the GUID after the `files/` endpoint, as in this URL: https://data.midrc.org/files/GUID\n",
    "\n",
    "where GUID is the actual GUID, e.g.: https://data.midrc.org/files/dg.MD1R/b87d0db3-d95a-43c7-ace1-ab2c130e04ec\n",
    "\n",
    "For instructions on how to install and use the gen3-client, please see [the MIDRC quick-start guide](https://data.midrc.org/dashboard/Public/documentation/Gen3_MIDRC_GetStarted.pdf), which can be found linked here and in the MIDRC data portal header as \"Get Started\".\n",
    "\n",
    "Below we use the gen3 SDK command `gen3 drs-pull object` which is [documented in detail here](https://github.com/uc-cdis/gen3sdk-python/blob/master/docs/howto/drsDownloading.md)."
   ]
  },
  {
   "cell_type": "markdown",
   "id": "15099fd9-cbb1-4dc6-a2e5-dd9d6e0522a6",
   "metadata": {},
   "source": [
    "### Use the Gen3 SDK command `gen3 drs-pull object` to download an individual file"
   ]
  },
  {
   "cell_type": "code",
   "execution_count": null,
   "id": "bb91c943-ae41-4d82-977b-dbdd4f31cf21",
   "metadata": {},
   "outputs": [],
   "source": [
    "## Make a new directory for downloaded files\n",
    "#os.system(\"rm -r downloads\")\n",
    "os.system(\"mkdir -p downloads\")\n"
   ]
  },
  {
   "cell_type": "code",
   "execution_count": null,
   "id": "29c5e4c4-828d-47b5-97d9-d482993202d0",
   "metadata": {},
   "outputs": [],
   "source": [
    "## We can use a simple loop to download all files and keep track of successes and failures\n",
    "\n",
    "success,failure,other=[],[],[]\n",
    "count,total = 0,len(object_ids)\n",
    "for object_id in object_ids:\n",
    "    count+=1\n",
    "    cmd = \"gen3 --auth {} --endpoint data.midrc.org drs-pull object {} --output-dir downloads\".format(cred,object_id)\n",
    "    stout = subprocess.run(cmd, shell=True, capture_output=True)\n",
    "    print(\"Progress ({}/{}): {}\".format(count,total,stout.stdout))\n",
    "    if \"failed\" in str(stout.stdout):\n",
    "        failure.append(object_id)\n",
    "    elif \"successfully\" in str(stout.stdout):\n",
    "        success.append(object_id)\n",
    "    else:\n",
    "        other.append(object_id)\n"
   ]
  },
  {
   "cell_type": "markdown",
   "id": "bdb2b636-de31-4064-9fa7-d74f4bd1ca2e",
   "metadata": {},
   "source": [
    "### Export a Gen3 file download \"manifest\"\n",
    "---\n",
    "The following script generates a Gen3-style data file download manifest JSON file. \n",
    "\n",
    "This `manifest.json` file can be used In case you want to use the gen3-client command-line tool or the `gen3 drs-pull manifest` command shown below.\n"
   ]
  },
  {
   "cell_type": "code",
   "execution_count": null,
   "id": "ade7f10e-890d-4c03-a0aa-28dcb4ff1966",
   "metadata": {},
   "outputs": [],
   "source": [
    "## Export a Gen3 file download \"manifest\" JSON file to use with the gen3-client command-line tool or the `gen3 drs-pull manifest` command.\n",
    "\n",
    "def write_manifest(guids, filename):\n",
    "\n",
    "    with open(filename, \"w\") as mani:\n",
    "\n",
    "        mani.write(\"[\\n  {\\n\")\n",
    "\n",
    "        count = 0\n",
    "        for guid in guids:\n",
    "            count += 1\n",
    "            file_line = '    \"object_id\": \"{}\"\\n'.format(guid)\n",
    "            mani.write(file_line)\n",
    "            if count == len(guids):\n",
    "                mani.write(\"  }]\")\n",
    "            else:\n",
    "                mani.write(\"  },\\n  {\\n\")\n",
    "\n",
    "    print(\"\\tDone ({}/{}).\".format(count, len(guids)))\n",
    "    print(\"\\tManifest written to file: {}\".format(filename))\n",
    "    return filename\n",
    "\n",
    "manifest_filename = \"multimodal_cases_files_manifest.json\"\n",
    "write_manifest(guids=object_ids,filename=manifest_filename)"
   ]
  },
  {
   "cell_type": "code",
   "execution_count": null,
   "id": "19024e44-5aa4-49c5-9100-8275af278ad9",
   "metadata": {},
   "outputs": [],
   "source": [
    "ll"
   ]
  },
  {
   "cell_type": "code",
   "execution_count": null,
   "id": "48edd42a-22d6-4798-8300-c5bf396b28a7",
   "metadata": {},
   "outputs": [],
   "source": [
    "cmd = \"gen3 --auth {} --endpoint data.midrc.org drs-pull manifest {}\".format(cred,manifest_filename)\n",
    "print(cmd)\n",
    "#stout = subprocess.run(cmd, shell=True, capture_output=True)\n",
    "# This command is better run in the terminal so you can watch progress bar. Running in the notebook may take quite some time."
   ]
  },
  {
   "cell_type": "code",
   "execution_count": null,
   "id": "ef0d9146-12ae-4318-8dbf-4410910763fc",
   "metadata": {},
   "outputs": [],
   "source": []
  }
 ],
 "metadata": {
  "kernelspec": {
   "display_name": "Python 3 (ipykernel)",
   "language": "python",
   "name": "python3"
  },
  "language_info": {
   "codemirror_mode": {
    "name": "ipython",
    "version": 3
   },
   "file_extension": ".py",
   "mimetype": "text/x-python",
   "name": "python",
   "nbconvert_exporter": "python",
   "pygments_lexer": "ipython3",
   "version": "3.9.6"
  }
 },
 "nbformat": 4,
 "nbformat_minor": 5
}
