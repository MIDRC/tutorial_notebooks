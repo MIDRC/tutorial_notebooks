{
 "cells": [
  {
   "cell_type": "markdown",
   "metadata": {},
   "source": [
    "# Cohort Selection Using MIDRC Temporal COVID Test Data\n",
    "---\n",
    "by Chris Meyer, PhD\n",
    "\n",
    "Manager of Data and User Services at the Center for Translational Data Science at the University of Chicago\n",
    "\n",
    "August 2022\n",
    "\n",
    "---\n",
    "This Jupyter notebook tutorial demonstrates how to use the MIDRC data commons' APIs to access imaging study and COVID-19 test data, how to use temporal properties in those data to select a cohort of COVID-19 positive imaging studies, and how to access those image files."
   ]
  },
  {
   "cell_type": "markdown",
   "metadata": {},
   "source": [
    "# Python packages:"
   ]
  },
  {
   "cell_type": "code",
   "execution_count": null,
   "metadata": {
    "scrolled": true
   },
   "outputs": [],
   "source": [
    "# The packages below may be necessary for users to install according to the imports necessary in the subsequent cells.\n",
    "\n",
    "#!pip install --upgrade pandas\n",
    "#!pip install --upgrade --ignore-installed PyYAML\n",
    "#!pip install --upgrade pip\n",
    "#!pip install --upgrade gen3 --user --upgrade\n",
    "#!pip install cdiserrors\n",
    "#!pip install --upgrade pydicom"
   ]
  },
  {
   "cell_type": "markdown",
   "metadata": {},
   "source": [
    "# Import Python Packages and scripts"
   ]
  },
  {
   "cell_type": "code",
   "execution_count": null,
   "metadata": {},
   "outputs": [],
   "source": [
    "# Import Python Packages and scripts\n",
    "import pandas as pd\n",
    "import sys, os, webbrowser\n",
    "import gen3\n",
    "import pydicom\n",
    "import matplotlib.pyplot as plt\n",
    "\n",
    "from gen3.submission import Gen3Submission\n",
    "from gen3.auth import Gen3Auth\n",
    "from gen3.index import Gen3Index\n",
    "from gen3.query import Gen3Query"
   ]
  },
  {
   "cell_type": "code",
   "execution_count": null,
   "metadata": {},
   "outputs": [],
   "source": [
    "# Import some custom Python scripts from personal GitHub repo\n",
    "# change these directory paths to reflect your local working directory\n",
    "\n",
    "home_dir = \"/Users/christopher\" \n",
    "demo_dir = \"{}/Documents/Notes/MIDRC/tutorials\".format(home_dir)\n",
    "\n",
    "os.chdir(demo_dir)\n",
    "\n",
    "os.system(\"wget https://raw.githubusercontent.com/cgmeyer/gen3sdk-python/master/expansion/expansion.py -O {}/expansion.py\".format(demo_dir))\n",
    "%run expansion.py\n"
   ]
  },
  {
   "cell_type": "code",
   "execution_count": null,
   "metadata": {},
   "outputs": [],
   "source": [
    "# Initiate instances of the Gen3 SDK Classes using credentials file for authentication\n",
    "# Change the directory path in \"cred\" to reflect the location of your credentials file.\n",
    "\n",
    "api = \"https://data.midrc.org\"\n",
    "cred = \"{}/Downloads/midrc-credentials.json\".format(home_dir)\n",
    "auth = Gen3Auth(api, refresh_file=cred) # authentication class\n",
    "sub = Gen3Submission(api, auth) # submission class\n",
    "query = Gen3Query(auth) # query class\n",
    "exp = Gen3Expansion(api,auth,sub) # class with some custom scripts\n",
    "exp.get_project_ids()\n"
   ]
  },
  {
   "cell_type": "markdown",
   "metadata": {},
   "source": [
    "\n",
    "## How can one associate the date of an imaging exam with the date of COVID-19 test results for a patient?\n",
    "---\n",
    "\n",
    "Specific dates are not allowed in the MIDRC data commons, but given a single \"index_event\" for a case, \"days to X from index event\" properties are provided.\n",
    "\n",
    "For example, one can query or export the imaging_study node, which has \"days_to_study\", and the measurement node, which has \"test_days_from_index\", and merge into a single table on \"case_ids\" (the unique, de-identified patient identifiers) to create a temporal timeline of imaging studies and COVID-19 tests for a cohort of patients.\n"
   ]
  },
  {
   "cell_type": "markdown",
   "metadata": {},
   "source": [
    "## Export metadata using submission API\n",
    "---\n",
    "Here we'll utilize the MIDRC submission API to export all the imaging study and measurement (COVID-19 tests) data using the [\"get_node_tsvs\" function](https://github.com/cgmeyer/gen3sdk-python/blob/2aecc6575b22f9cca279b650914971dd6723a2ce/expansion/expansion.py#L219), which is a wrapper to export and merge all the records in a node across each project in the data commons using the [Gen3SDK](https://github.com/uc-cdis/gen3sdk-python/) function [Gen3Submission.export_node()](https://github.com/uc-cdis/gen3sdk-python/blob/5d7b5270ff11cf7037f211cf01e410d8e73d6b84/gen3/submission.py#L361)."
   ]
  },
  {
   "cell_type": "code",
   "execution_count": null,
   "metadata": {
    "scrolled": true
   },
   "outputs": [],
   "source": [
    "# Export all the records in the imaging_study node\n",
    "st = exp.get_node_tsvs(node='imaging_study')\n",
    "print('\\nrows:{}, columns:{}'.format(st.shape[0],st.shape[1]))"
   ]
  },
  {
   "cell_type": "code",
   "execution_count": null,
   "metadata": {},
   "outputs": [],
   "source": [
    "# Filter the imaging_study data for only studies that have a non-null \"days_to_study\" and \"DX\" study_modality\n",
    "s = st.loc[(~st['days_to_study'].isna()) & (st['study_modality']=='DX')]\n",
    "print('rows:{}, columns:{}'.format(s.shape[0],s.shape[1]))\n",
    "s.head(3)"
   ]
  },
  {
   "cell_type": "code",
   "execution_count": null,
   "metadata": {
    "scrolled": true
   },
   "outputs": [],
   "source": [
    "#Export all the data in the measurement node, which is used to store the COVID test data\n",
    "meas = exp.get_node_tsvs(node='measurement')\n",
    "print('\\nrows:{}, columns:{}'.format(meas.shape[0],meas.shape[1]))\n",
    "meas.head(3)"
   ]
  },
  {
   "cell_type": "code",
   "execution_count": null,
   "metadata": {
    "scrolled": true
   },
   "outputs": [],
   "source": [
    "## Filter the measurements for only COVID-19 tests with a non-null \"test_days_from_index\" property\n",
    "m = meas.loc[(~meas['test_days_from_index'].isna()) & (meas['test_name']=='COVID-19')]\n",
    "print('\\nrows:{}, columns:{}'.format(m.shape[0],m.shape[1]))\n",
    "m.head(3)"
   ]
  },
  {
   "cell_type": "code",
   "execution_count": null,
   "metadata": {},
   "outputs": [],
   "source": [
    "## Check out the properties in each DataFrame to help make a list of properties to merge into a single table\n",
    "display(list(s))\n",
    "display(len(s))\n",
    "display(list(m))\n",
    "display(len(m))"
   ]
  },
  {
   "cell_type": "code",
   "execution_count": null,
   "metadata": {},
   "outputs": [],
   "source": [
    "## Merge the imaging_study and measurement data using \"case_ids\" as a foreign key\n",
    "temp = pd.merge(s[['study_uid','days_to_study','case_ids']],m[['project_id','submitter_id','test_name','test_result_text','case_ids','test_days_from_index']],on='case_ids')\n",
    "print('\\nrows:{}, columns:{}'.format(temp.shape[0],temp.shape[1]))\n",
    "display(temp)"
   ]
  },
  {
   "cell_type": "markdown",
   "metadata": {},
   "source": [
    "## Calculate the days from COVID-19 test to an imaging_study\n",
    "---\n",
    "Now that we have the temporal data for imaging studies and COVID-19 tests in a single DataFrame for all cases in MIDRC for which this data is provided, we can calculate the number of days between each imaging study and each COVID-19 test, which we'll call `days_from_study_to_test`.\n",
    "\n",
    "* Note: In MIDRC, a negative \"days to XYZ\" indicates that the event XYZ took place that many days prior to the index event, while a positive \"days to\" indicates the number of days since the index event. For example, a \"days_to_study\" of \"-10\" indicates that the imaging study was performed 10 days *before* the index event. A value of \"365\" indicates the imaging study took place one year *after* the index event. \n",
    "\n",
    "In the case of a derived property like `days_from_study_to_test`, the date of the study can be thought of as the 0 point, and the test takes place in time either before the study, moving backwards on the timeline (negative value) or the test takes place after the study (moving forward in time).\n",
    "\n",
    "So, we expect a positive value for `days_from_study_to_test` if the test was performed after the study.\n",
    "- For example, if `test_days_from_index` is `1` and `days_to_study` is `4`, the `days_from_study_to_test` should be `-3`, which means the test took place 3 days before the study.\n",
    "- If the COVID test is on day 4 and the imaging study is on day 1, then the `days_from_study_to_test` is `3`, meaning the COVID-19 test took place 3 days after the imaging study.\n",
    "\n"
   ]
  },
  {
   "cell_type": "code",
   "execution_count": null,
   "metadata": {},
   "outputs": [],
   "source": [
    "## Calculate the days from COVID-19 test to an imaging_study\n",
    "temp['days_from_study_to_test'] = temp['test_days_from_index'] - temp['days_to_study']\n",
    "display(temp)"
   ]
  },
  {
   "cell_type": "markdown",
   "metadata": {},
   "source": [
    "## Identify \"COVID-19 positive\" imaging studies\n",
    "---\n",
    "Now that we've calculated `days_from_study_to_test`, we can define a cut-off value and filter the imaging studies using that value to determine which imaging studies were performed within a certain time-frame of receiving a positive COVID-19 test.\n",
    "\n",
    "Again, our new derived attribute `days_from_study_to_test` has a positive value if the COVID test was performed after the imaging study (i.e., from the study date to test date is moving forward in time) and a negative value if the COVID test was performed before the imaging study (i.e., go back in time from the imaging date to the COVID test date). \n",
    "\n",
    "For this demo, let's assume that an imaging study was performed when a person was \"COVID-positive\" if the imaging study was performed within a 7 day window after a positive test result. So, we'll filter the DataFrame of studies for a `days_from_study_to_test` in the range of -7 to 0 and also require the `test_result_text` to be `Positive`.\n"
   ]
  },
  {
   "cell_type": "code",
   "execution_count": null,
   "metadata": {},
   "outputs": [],
   "source": [
    "ps = temp.loc[(temp['days_from_study_to_test'] < 0) & (temp['days_from_study_to_test'] > -7) & (temp['test_result_text']=='Positive')]\n",
    "display(ps)"
   ]
  },
  {
   "cell_type": "code",
   "execution_count": null,
   "metadata": {},
   "outputs": [],
   "source": [
    "#Saving the data frame to a csv\n",
    "os.chdir(demo_dir)\n",
    "filename = 'DX_imaging_studies_plus_covid_tests.tsv' \n",
    "ps.to_csv(filename,sep='\\t',index=False)\n"
   ]
  },
  {
   "cell_type": "markdown",
   "metadata": {},
   "source": [
    "## Get the imaging files for the identified studies or cases.\n",
    "---\n",
    "Now that we have a list of imaging studies that were deemed to take place soon after a patient was infected with COVID-19, we can use the study_uid, which is a unique identifier for imaging studies, to collect the associated files. \n",
    "\n",
    "Note: If we want *all* the imaging studies for the cohort of identified cases, e.g., to have a \"healthy\" or \"baseline\" images for comparison, we can instead use the case_ids to pull all imaging files for the cases, keeping in mind that this will pull any additional imaging studies that may fall outside our defined temporal range."
   ]
  },
  {
   "cell_type": "code",
   "execution_count": null,
   "metadata": {},
   "outputs": [],
   "source": [
    "## Make a list of study_uids and case_ids\n",
    "\n",
    "## read in previously saved DataFrame if restarting notebook:\n",
    "# pd.read_csv(filename, sep='\\t', dtype=str)\n",
    "\n",
    "cids = list(set(ps['case_ids']))\n",
    "display(len(cids))\n",
    "\n",
    "sids = list(set(ps['study_uid']))\n",
    "display(len(sids))"
   ]
  },
  {
   "cell_type": "code",
   "execution_count": null,
   "metadata": {},
   "outputs": [],
   "source": [
    "## This query retrieves ALL imaging_study records, we will next filter these results based on the COVID test data\n",
    "data = query.raw_data_download(\n",
    "    data_type=\"imaging_study\",\n",
    "    fields=[\n",
    "        \"study_uid\",\n",
    "        \"case_ids\",\n",
    "        \"object_id\",\n",
    "        \"project_id\"\n",
    "    ],\n",
    "    sort_fields=[{\"study_uid\": \"asc\"}],\n",
    "    accessibility=\"accessible\"\n",
    ")"
   ]
  },
  {
   "cell_type": "code",
   "execution_count": null,
   "metadata": {},
   "outputs": [],
   "source": [
    "## Take a glance at the returned data\n",
    "display(len(data))\n",
    "display(data[0])\n"
   ]
  },
  {
   "cell_type": "code",
   "execution_count": null,
   "metadata": {},
   "outputs": [],
   "source": [
    "# convert the query data to a DataFrame and remove any records that lack a study_uid or object_id\n",
    "studies = pd.DataFrame(data)\n",
    "studies = studies.loc[(~studies['object_id'].isna())&(~studies['study_uid'].isna())]\n",
    "display(len(studies))\n",
    "studies.head()"
   ]
  },
  {
   "cell_type": "code",
   "execution_count": null,
   "metadata": {},
   "outputs": [],
   "source": [
    "# Convert lists to strings; necessary because the properties case_ids and object_id are arrays in the dictionary, and thus are returned as lists.\n",
    "studies['case_ids'] = [','.join(map(str, l)) for l in studies['case_ids']]"
   ]
  },
  {
   "cell_type": "code",
   "execution_count": null,
   "metadata": {},
   "outputs": [],
   "source": [
    "# Now filter the imaging studies based on our temporal results\n",
    "covid_studies = studies.loc[studies['study_uid'].isin(sids)]\n",
    "len(covid_studies)"
   ]
  },
  {
   "cell_type": "code",
   "execution_count": null,
   "metadata": {},
   "outputs": [],
   "source": [
    "# save our result to a csv\n",
    "filename = \"covid_positive_DX_imaging_studies_7d_window_with_object_ids.tsv\"\n",
    "covid_studies.to_csv(filename, sep='\\t', index=False)\n"
   ]
  },
  {
   "cell_type": "code",
   "execution_count": null,
   "metadata": {},
   "outputs": [],
   "source": [
    "object_ids = list(set([a for b in covid_studies.object_id.tolist() for a in b]))"
   ]
  },
  {
   "cell_type": "code",
   "execution_count": null,
   "metadata": {},
   "outputs": [],
   "source": [
    "len(object_ids)"
   ]
  },
  {
   "cell_type": "markdown",
   "metadata": {},
   "source": [
    "## Now that we have a list of file object_ids for the desired imaging studies, we can use the Gen3 SDK \"drs-pull\" commands to access the files themselves.\n",
    "---\n",
    "First, we'll create a manifest.json file using a [simple script](https://github.com/cgmeyer/gen3sdk-python/blob/389e3945482439ace6e4536e6d0e35c6e48de9c9/expansion/expansion.py#L2575). Then we'll use the `gen3 drs-pull manifest` command to download the files.\n",
    "\n",
    "See the detailed documentation to learn more about the Gen3 SDK drs-pull command: https://github.com/uc-cdis/gen3sdk-python/blob/master/docs/howto/drsDownloading.md\n"
   ]
  },
  {
   "cell_type": "code",
   "execution_count": null,
   "metadata": {},
   "outputs": [],
   "source": [
    "# Save the manifest of file object_ids to a JSON file\n",
    "mani_name = 'MIDRC_DX_imaging_studies_covid_positive_manifest.json'\n",
    "exp.write_manifest_for_guids(guids=object_ids, filename=mani_name)\n"
   ]
  },
  {
   "cell_type": "code",
   "execution_count": null,
   "metadata": {},
   "outputs": [],
   "source": [
    "# To download all files in the manifest, use the \"gen3 drs-pull manifest\" command\n",
    "download_dir = \"{}/images\".format(demo_dir)\n",
    "\n",
    "if not os.path.exists(download_dir):\n",
    "    os.makedirs(download_dir)\n",
    "    \n",
    "cmd = \"gen3 --auth {} --endpoint data.midrc.org drs-pull manifest {} {}\".format(cred, mani_name, download_dir)\n",
    "print(cmd)\n"
   ]
  },
  {
   "cell_type": "code",
   "execution_count": null,
   "metadata": {},
   "outputs": [],
   "source": [
    "## Run the manifest download command. \n",
    "## Note that this will take some time if the manifest is very large. It makes more sense to copy the above command and run in your terminal instead of from a Jupyter Notebook to monitor the progress in real-time.\n",
    "# subprocess.run(cmd, shell=True, capture_output=True)\n"
   ]
  },
  {
   "cell_type": "markdown",
   "metadata": {},
   "source": [
    "## Now download a single DX image and display it in the notebook\n",
    "---\n",
    "Now we'll download a single x-ray file using the `gen3 drs-pull object` command and display the image and it's embedded metadata on the screen.\n",
    "\n",
    "\n"
   ]
  },
  {
   "cell_type": "code",
   "execution_count": null,
   "metadata": {},
   "outputs": [],
   "source": [
    "# Prepare to download a single image file via it's object_id using the gen3 SDK; save object_id to a variable\n",
    "case_ids = covid_studies.iloc[0]['case_ids']\n",
    "study_uid = covid_studies.iloc[0]['study_uid']\n",
    "object_id = covid_studies.iloc[0]['object_id'][0]\n",
    "\n",
    "display(case_ids)\n",
    "display(study_uid)\n",
    "display(object_id)"
   ]
  },
  {
   "cell_type": "code",
   "execution_count": null,
   "metadata": {},
   "outputs": [],
   "source": [
    "# Build the SDK command to send to the shell.\n",
    "# Note: \"gen3\" refers to a Gen3 SDK function that runs at the users command line\n",
    "# Users may experience errors or warnings but may have still downloaded the file. Check this in your working directory.\n",
    "\n",
    "cmd = \"gen3 --auth {} --endpoint data.midrc.org drs-pull object {}\".format(cred,object_id)\n",
    "display(cmd)\n"
   ]
  },
  {
   "cell_type": "code",
   "execution_count": null,
   "metadata": {},
   "outputs": [],
   "source": [
    "# Run the download command.\n",
    "subprocess.run(cmd, shell=True, capture_output=True)"
   ]
  },
  {
   "cell_type": "code",
   "execution_count": null,
   "metadata": {},
   "outputs": [],
   "source": [
    "# The above command should have successfully downloaded a new directory with a zipped file.  \n",
    "cmd = \"ls -l {}/{}\".format(case_ids,study_uid)\n",
    "stout = subprocess.run(cmd, shell=True, capture_output=True)\n",
    "print(stout)"
   ]
  },
  {
   "cell_type": "code",
   "execution_count": null,
   "metadata": {},
   "outputs": [],
   "source": [
    "## Grab the filename and series UID of the downloaded file using RegEx\n",
    "import re\n",
    "\n",
    "m = re.search(' ([0-9\\.]+.zip)', str(stout))\n",
    "\n",
    "if m:\n",
    "    zip_file = m.group(1)\n",
    "    print(zip_file)\n",
    "else:\n",
    "    print(\"No zip found.\")\n",
    "\n",
    "series_uid = re.sub(\"(\\.zip)\", \"\", zip_file)\n",
    "print(series_uid)"
   ]
  },
  {
   "cell_type": "code",
   "execution_count": null,
   "metadata": {},
   "outputs": [],
   "source": [
    "# Unzip the imaging series package\n",
    "from zipfile import ZipFile\n",
    "\n",
    "with ZipFile('{}/{}/{}/{}'.format(demo_dir,case_ids,study_uid,zip_file), 'r') as zipObj:\n",
    "    zipObj.extractall()"
   ]
  },
  {
   "cell_type": "code",
   "execution_count": null,
   "metadata": {},
   "outputs": [],
   "source": [
    "#Input the name of the newly create .dcm file\n",
    "cmd = \"ls -l {}/{}/{}\".format(case_ids,study_uid,series_uid)\n",
    "stout = subprocess.run(cmd, shell=True, capture_output=True)\n",
    "print(stout)\n"
   ]
  },
  {
   "cell_type": "code",
   "execution_count": null,
   "metadata": {},
   "outputs": [],
   "source": [
    "# Get the name of the first DICOM file in the extracted imaging series\n",
    "m = re.search(' ([0-9\\.]+.dcm)', str(stout))\n",
    "\n",
    "if m:\n",
    "    dcm_file = m.group(1)\n",
    "    print(dcm_file)\n",
    "else:\n",
    "    print(\"No DCM files found.\")\n"
   ]
  },
  {
   "cell_type": "code",
   "execution_count": null,
   "metadata": {},
   "outputs": [],
   "source": [
    "# Read in the DCM file using the python DICOM package pydicom\n",
    "dimg = pydicom.dcmread(\"{}/{}/{}/{}\".format(case_ids,study_uid,series_uid,dcm_file),force=True)\n"
   ]
  },
  {
   "cell_type": "code",
   "execution_count": null,
   "metadata": {
    "scrolled": true
   },
   "outputs": [],
   "source": [
    "dimg"
   ]
  },
  {
   "cell_type": "code",
   "execution_count": null,
   "metadata": {},
   "outputs": [],
   "source": [
    "## tell matplotlib to display our images as 6 x 6 inch image, with resolution of 100 dpi\n",
    "plt.figure(figsize = (6,6), dpi=100) \n",
    "\n",
    "## tell matplotlib to display our image, using a gray-scale lookup table.\n",
    "plt.imshow(dimg.pixel_array, cmap=plt.cm.gray)"
   ]
  },
  {
   "cell_type": "code",
   "execution_count": null,
   "metadata": {},
   "outputs": [],
   "source": []
  }
 ],
 "metadata": {
  "kernelspec": {
   "display_name": "Python 3 (ipykernel)",
   "language": "python",
   "name": "python3"
  },
  "language_info": {
   "codemirror_mode": {
    "name": "ipython",
    "version": 3
   },
   "file_extension": ".py",
   "mimetype": "text/x-python",
   "name": "python",
   "nbconvert_exporter": "python",
   "pygments_lexer": "ipython3",
   "version": "3.9.6"
  }
 },
 "nbformat": 4,
 "nbformat_minor": 4
}
