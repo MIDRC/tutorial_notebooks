{
 "cells": [
  {
   "cell_type": "markdown",
   "id": "d8ef63c3",
   "metadata": {},
   "source": [
    "# How to Access Files for Specific Case IDs\n",
    "---\n",
    "This notebook demonstrates how to build a cohort of MIDRC patients based on clinical and demographic data and then obtain a file download manifest for x-ray and annotation files related to that cohort.\n",
    "\n",
    "by Chris Meyer, PhD\n",
    "\n",
    "Manager of Data and User Services at the Center for Translational Data Science at University of Chicago\n",
    "\n",
    "August 2023\n",
    "\n",
    "\n",
    "\n"
   ]
  },
  {
   "cell_type": "markdown",
   "id": "5db7f87c",
   "metadata": {},
   "source": [
    "## 1) Set up Python environment\n",
    "---\n"
   ]
  },
  {
   "cell_type": "markdown",
   "id": "1bffd5d4",
   "metadata": {},
   "source": [
    "### Set local variables\n",
    "---\n",
    "Change the following directory paths to a valid working directories where you're running this notebook."
   ]
  },
  {
   "cell_type": "code",
   "execution_count": 5,
   "id": "c3c59c2c",
   "metadata": {},
   "outputs": [],
   "source": [
    "cred = \"/Users/christopher/Downloads/midrc-credentials.json\" # location of your MIDRC credentials, downloaded from https://data.midrc.org/identity by clicking \"Create API key\" button and saving the credentials.json locally\n",
    "api = \"https://data.midrc.org\" # The base URL of the data commons being queried. This shouldn't change for MIDRC.\n"
   ]
  },
  {
   "cell_type": "markdown",
   "id": "7962e54c",
   "metadata": {},
   "source": [
    "### Install / Import Python Packages and Scripts"
   ]
  },
  {
   "cell_type": "code",
   "execution_count": 6,
   "id": "8e1a7935",
   "metadata": {},
   "outputs": [],
   "source": [
    "## The packages below may be necessary for users to install according to the imports necessary in the subsequent cells.\n",
    "\n",
    "#!pip install --upgrade pandas\n",
    "#!pip install --upgrade --ignore-installed PyYAML\n",
    "#!pip install --upgrade pip\n",
    "#!pip install --upgrade gen3\n"
   ]
  },
  {
   "cell_type": "code",
   "execution_count": 7,
   "id": "7ea2fa09",
   "metadata": {},
   "outputs": [],
   "source": [
    "## Import Python Packages and scripts\n",
    "\n",
    "import os\n",
    "import gen3\n",
    "\n",
    "from gen3.auth import Gen3Auth\n",
    "from gen3.query import Gen3Query\n"
   ]
  },
  {
   "cell_type": "markdown",
   "id": "7784ecc9",
   "metadata": {},
   "source": [
    "### Initiate instances of the Gen3 SDK Classes using credentials file for authentication\n",
    "---\n",
    "Again, make sure the \"cred\" directory path variable reflects the location of your credentials file (path variables set above)."
   ]
  },
  {
   "cell_type": "code",
   "execution_count": 8,
   "id": "d316dcdf",
   "metadata": {},
   "outputs": [],
   "source": [
    "auth = Gen3Auth(api, refresh_file=cred) # authentication class\n",
    "query = Gen3Query(auth) # query class\n"
   ]
  },
  {
   "cell_type": "markdown",
   "id": "85fc475d",
   "metadata": {},
   "source": [
    "## 2) Build a cohort of cases by running queries against MIDRC APIs\n",
    "---\n",
    "* There are many ways to query and access metadata for cohort building in MIDRC, but this notebook will focus on using the [Gen3](https://gen3.org) graphQL query service [\"guppy\"](https://github.com/uc-cdis/guppy/#readme). This is the backend query service that [MIDRC's data explorer GUI](https://data.midrc.org/explorer) uses. So, anything you can do in the explorer GUI, you can do with guppy queries, and more!\n",
    "* The guppy graphQL service has more functionality than is demonstrated in this simple example with extensive documentation in GitHub [here](https://github.com/uc-cdis/guppy/blob/master/doc/queries.md) in case you'd like to build your own queries from scratch.\n",
    "* The Gen3 SDK (intialized as \"query\" above in this notebook) has Python wrapper scripts to make sending queries to the guppy graphQL API simpler. The guppy SDK package can be viewed in GitHub [here](https://github.com/uc-cdis/gen3sdk-python/blob/master/gen3/query.py).\n"
   ]
  },
  {
   "cell_type": "markdown",
   "id": "597cf089",
   "metadata": {},
   "source": [
    "### Set 'case' query parameters\n",
    "---\n",
    "* Below, we first set some query parameters. Feel free to modify these parameters to see how it changes the query response. Setting these patient attributes is akin to selecting a filter value in [MIDRC's data explorer GUI](https://data.midrc.org/explorer). \n",
    "* To see more documentation about to use and combine filters with various operator logic (like AND/OR/IN, etc.) see [this page](https://github.com/uc-cdis/guppy/blob/master/doc/queries.md#filter).\n",
    "* We then send our query to MIDRC's guppy API endpoint using [the Gen3Query SDK package](https://github.com/uc-cdis/gen3sdk-python/blob/master/gen3/query.py) we initialized earlier. \n",
    "* If our query request is successful, the API response should be in JSON format, and it should contain a list of patient IDs along with any other patient data we ask for."
   ]
  },
  {
   "cell_type": "code",
   "execution_count": 9,
   "id": "61e45496",
   "metadata": {},
   "outputs": [],
   "source": [
    "#### \"case\" query parameters\n",
    "## In this example, we're going to filter our patient cohort by asking for Asian male patients between the age of 40 and 89 that tested positive for COVID-19.\n",
    "\n",
    "## case demographic filters\n",
    "sex = \"Male\"\n",
    "min_age = 50\n",
    "max_age = 89\n",
    "\n",
    "#### \"nested\" filters, these are attributes from other nodes that are nested under the case node (\"child nodes\" of case in the data model: data.midrc.org/dd)\n",
    "## medications (vaccine data)\n",
    "medication_manufacturer = [\"Pfizer\",\"Moderna\"] #,\"Janssen\",\"AstraZeneca\",\"Sinopharm\",\"Novavax\"]\n",
    "\n",
    "## measurements filters (COVID-19 test data)\n",
    "test_method = [\"RT-PCR\"] #,\"Rapid antigen test\"]\n",
    "test_result_text = [\"Positive\",\"Negative\"]\n",
    "\n",
    "## conditions filters (co-morbidities and long COVID)\n",
    "condition_name = [\"COVID-19\",\"Post COVID-19 condition, unspecified\"] #,\"Pneumonia, organism unspecified\"]\n",
    "\n",
    "## procedures filters\n",
    "procedure_name = [\"Breathing Support\"]"
   ]
  },
  {
   "cell_type": "code",
   "execution_count": 10,
   "id": "8910b3e4",
   "metadata": {},
   "outputs": [
    {
     "name": "stdout",
     "output_type": "stream",
     "text": [
      "Query returned 16 case IDs.\n",
      "Data is a list with rows like this:\n",
      "\t [{'_case_id': '5914bdac-4d67-4bee-956d-2676b1fd1841', 'project_id': 'Open-R1', 'submitter_id': '574856-000871', 'sex': 'Male', 'race': 'White', 'age_at_index': 80, 'index_event': 'First COVID test', 'zip': '322', 'covid19_positive': 'Yes', 'ethnicity': 'Not Hispanic or Latino', 'dataset_submitter_id': ['RSNA_20230727'], 'imaging_study': 1, 'object_id': ['dg.MD1R/919469f0-a873-4194-8506-7e71a3f7665f'], 'data_format': ['DCM'], 'data_type': ['DICOM'], 'data_category': ['DX'], 'medications': [{'days_to_medication_start': 361, 'dose_sequence_number': 3, 'medication_code': '91300', 'medication_code_system': 'CPT', 'medication_manufacturer': 'Pfizer', 'medication_name': 'COVID-19 Vaccine', 'medication_type': 'Vaccine', '_medication_id': '869fcc27-c8c9-4507-833e-1c8d365b14cb'}, {'days_to_medication_start': 152, 'dose_sequence_number': 2, 'medication_code': '91300', 'medication_code_system': 'CPT', 'medication_manufacturer': 'Pfizer', 'medication_name': 'COVID-19 Vaccine', 'medication_type': 'Vaccine', '_medication_id': '4ad37703-0f3e-4769-965a-62c2d2f1d562'}, {'days_to_medication_start': 715, 'dose_sequence_number': 1, 'medication_code': '91301', 'medication_code_system': 'CPT', 'medication_manufacturer': 'Moderna', 'medication_name': 'COVID-19 Vaccine', 'medication_type': 'Vaccine', '_medication_id': 'ccd12801-564b-4f51-aa78-550499701373'}, {'days_to_medication_start': 535, 'dose_sequence_number': 4, 'medication_code': '91300', 'medication_code_system': 'CPT', 'medication_manufacturer': 'Pfizer', 'medication_name': 'COVID-19 Vaccine', 'medication_type': 'Vaccine', '_medication_id': '500d855c-9147-44e0-bc9b-9afde774d7c7'}, {'days_to_medication_start': 131, 'dose_sequence_number': 1, 'medication_code': '91300', 'medication_code_system': 'CPT', 'medication_manufacturer': 'Pfizer', 'medication_name': 'COVID-19 Vaccine', 'medication_type': 'Vaccine', '_medication_id': '00b3cc3c-beac-47e3-a86e-3637abcf3f1a'}], 'conditions': [{'condition_code': 'U09.9', 'condition_code_system': 'ICD-10', 'condition_name': 'Post COVID-19 condition, unspecified', 'days_to_condition_start': 276, '_condition_id': '7cf4bf17-62c0-4493-a66f-2b6680ec1cc5'}, {'condition_code': 'U09.9', 'condition_code_system': 'ICD-10', 'condition_name': 'Post COVID-19 condition, unspecified', 'days_to_condition_start': 458, '_condition_id': '5bb6e574-4429-4c26-9502-69918afdedf4'}, {'condition_code': 'U09.9', 'condition_code_system': 'ICD-10', 'condition_name': 'Post COVID-19 condition, unspecified', 'days_to_condition_start': 632, '_condition_id': 'eb3213b0-6e84-4b66-a030-dc127ac282cd'}, {'condition_code': 'U09.9', 'condition_code_system': 'ICD-10', 'condition_name': 'Post COVID-19 condition, unspecified', 'days_to_condition_start': 739, '_condition_id': 'e39e88a8-0ac9-45df-bfc4-67f308aa44e7'}, {'condition_code': 'U09.9', 'condition_code_system': 'ICD-10', 'condition_name': 'Post COVID-19 condition, unspecified', 'days_to_condition_start': 632, '_condition_id': 'f1954b25-1750-43b5-9810-cb4cef0c1ac8'}, {'condition_code': 'U09.9', 'condition_code_system': 'ICD-10', 'condition_name': 'Post COVID-19 condition, unspecified', 'days_to_condition_start': 443, '_condition_id': '048e4c50-cf77-4683-8293-3d8a2017ea58'}, {'condition_code': 'U09.9', 'condition_code_system': 'ICD-10', 'condition_name': 'Post COVID-19 condition, unspecified', 'days_to_condition_start': 632, '_condition_id': '010b3d5a-d6a7-4d34-b0e1-52927863fa46'}, {'condition_code': 'U09.9', 'condition_code_system': 'ICD-10', 'condition_name': 'Post COVID-19 condition, unspecified', 'days_to_condition_start': 632, '_condition_id': 'df90f01a-e77a-4836-b0d8-3bce7ed92c97'}, {'condition_code': 'U09.9', 'condition_code_system': 'ICD-10', 'condition_name': 'Post COVID-19 condition, unspecified', 'days_to_condition_start': 274, '_condition_id': '4789ed35-e200-4af3-90da-59027e80624f'}], 'imaging_studies': [{'age_at_imaging': 80, 'body_part_examined': ['CHEST'], 'days_to_study': 47, 'loinc_code': '36554-4', 'loinc_long_common_name': 'XR Chest Single view', 'loinc_method': 'XR', 'loinc_system': 'Chest', 'study_description': 'XR CHEST SINGLE VIEW', 'study_modality': ['DX'], 'study_uid': '1.2.826.0.1.3680043.10.474.574856.55761', '_imaging_study_id': 'ff9ec478-e26d-439f-8c7a-8f85aba70377'}], 'measurements': [{'test_days_from_index': 740, 'test_method': 'RT-PCR', 'test_name': 'COVID-19', 'test_result_text': 'Negative', '_measurement_id': '051d8966-1bc6-462d-8d9e-6117a79f92e1'}, {'test_days_from_index': 739, 'test_method': 'RT-PCR', 'test_name': 'COVID-19', 'test_result_text': 'Negative', '_measurement_id': 'aab35461-7db5-4d7e-b843-c20b75fddd09'}, {'test_days_from_index': 47, 'test_method': 'RT-PCR', 'test_name': 'COVID-19', 'test_result_text': 'Positive', '_measurement_id': 'c72067e0-dd30-473c-a544-a2ef59b5484d'}, {'test_days_from_index': 0, 'test_method': 'RT-PCR', 'test_name': 'COVID-19', 'test_result_text': 'Negative', '_measurement_id': 'c8fa727f-58e1-4d8b-a448-fa0e94128ba7'}, {'test_days_from_index': 695, 'test_method': 'RT-PCR', 'test_name': 'COVID-19', 'test_result_text': 'Negative', '_measurement_id': 'ddd9dedf-4588-48d0-8c27-79a544db8b02'}], 'auth_resource_path': '/programs/Open/projects/R1'}]\n"
     ]
    }
   ],
   "source": [
    "## Here is an example getting all the cases in a particular project between ages of 45 and 47\n",
    "## the \"fields\" option defines what fields we want the query to return. If set to \"None\", returns all available fields.\n",
    "\n",
    "cases = query.raw_data_download(\n",
    "                    data_type=\"case\",\n",
    "#                    fields=[\"project_id\",\"submitter_id\"],\n",
    "                    fields=None,\n",
    "                    filter_object={\n",
    "                        \"AND\": [\n",
    "                            {\"=\": {\"sex\": sex}},\n",
    "                            {\">=\": {\"age_at_index\": min_age}},\n",
    "                            {\"<=\": {\"age_at_index\": max_age}},\n",
    "                            {\"nested\": {\"path\": \"medications\", \"IN\": {\"medication_manufacturer\": medication_manufacturer}}},\n",
    "                            {\"nested\": {\"path\": \"measurements\", \"IN\": {\"test_method\": test_method}}},\n",
    "                            {\"nested\": {\"path\": \"measurements\", \"IN\": {\"test_result_text\": test_result_text}}},\n",
    "                            {\"nested\": {\"path\": \"conditions\", \"IN\": {\"condition_name\": condition_name}}},\n",
    "                            #{\"nested\": {\"path\": \"procedures\", \"IN\": {\"procedure_name\": procedure_name}}}, # adding too many filters returns no data\n",
    "                        ]\n",
    "                    },\n",
    "                    sort_fields=[{\"submitter_id\": \"asc\"}]\n",
    "                )\n",
    "\n",
    "if len(cases) > 0 and \"submitter_id\" in cases[0]:\n",
    "    case_ids = [i['submitter_id'] for i in cases] ## make a list of the case (patient) IDs returned\n",
    "    print(\"Query returned {} case IDs.\".format(len(cases)))\n",
    "    print(\"Data is a list with rows like this:\\n\\t {}\".format(cases[0:1]))\n",
    "else:\n",
    "    print(\"Your query returned no data! Please, check that query parameters are valid.\")"
   ]
  },
  {
   "cell_type": "code",
   "execution_count": 11,
   "id": "9e761b59",
   "metadata": {},
   "outputs": [
    {
     "data": {
      "text/plain": [
       "{'_case_id': '5914bdac-4d67-4bee-956d-2676b1fd1841',\n",
       " 'project_id': 'Open-R1',\n",
       " 'submitter_id': '574856-000871',\n",
       " 'sex': 'Male',\n",
       " 'race': 'White',\n",
       " 'age_at_index': 80,\n",
       " 'index_event': 'First COVID test',\n",
       " 'zip': '322',\n",
       " 'covid19_positive': 'Yes',\n",
       " 'ethnicity': 'Not Hispanic or Latino',\n",
       " 'dataset_submitter_id': ['RSNA_20230727'],\n",
       " 'imaging_study': 1,\n",
       " 'object_id': ['dg.MD1R/919469f0-a873-4194-8506-7e71a3f7665f'],\n",
       " 'data_format': ['DCM'],\n",
       " 'data_type': ['DICOM'],\n",
       " 'data_category': ['DX'],\n",
       " 'medications': [{'days_to_medication_start': 361,\n",
       "   'dose_sequence_number': 3,\n",
       "   'medication_code': '91300',\n",
       "   'medication_code_system': 'CPT',\n",
       "   'medication_manufacturer': 'Pfizer',\n",
       "   'medication_name': 'COVID-19 Vaccine',\n",
       "   'medication_type': 'Vaccine',\n",
       "   '_medication_id': '869fcc27-c8c9-4507-833e-1c8d365b14cb'},\n",
       "  {'days_to_medication_start': 152,\n",
       "   'dose_sequence_number': 2,\n",
       "   'medication_code': '91300',\n",
       "   'medication_code_system': 'CPT',\n",
       "   'medication_manufacturer': 'Pfizer',\n",
       "   'medication_name': 'COVID-19 Vaccine',\n",
       "   'medication_type': 'Vaccine',\n",
       "   '_medication_id': '4ad37703-0f3e-4769-965a-62c2d2f1d562'},\n",
       "  {'days_to_medication_start': 715,\n",
       "   'dose_sequence_number': 1,\n",
       "   'medication_code': '91301',\n",
       "   'medication_code_system': 'CPT',\n",
       "   'medication_manufacturer': 'Moderna',\n",
       "   'medication_name': 'COVID-19 Vaccine',\n",
       "   'medication_type': 'Vaccine',\n",
       "   '_medication_id': 'ccd12801-564b-4f51-aa78-550499701373'},\n",
       "  {'days_to_medication_start': 535,\n",
       "   'dose_sequence_number': 4,\n",
       "   'medication_code': '91300',\n",
       "   'medication_code_system': 'CPT',\n",
       "   'medication_manufacturer': 'Pfizer',\n",
       "   'medication_name': 'COVID-19 Vaccine',\n",
       "   'medication_type': 'Vaccine',\n",
       "   '_medication_id': '500d855c-9147-44e0-bc9b-9afde774d7c7'},\n",
       "  {'days_to_medication_start': 131,\n",
       "   'dose_sequence_number': 1,\n",
       "   'medication_code': '91300',\n",
       "   'medication_code_system': 'CPT',\n",
       "   'medication_manufacturer': 'Pfizer',\n",
       "   'medication_name': 'COVID-19 Vaccine',\n",
       "   'medication_type': 'Vaccine',\n",
       "   '_medication_id': '00b3cc3c-beac-47e3-a86e-3637abcf3f1a'}],\n",
       " 'conditions': [{'condition_code': 'U09.9',\n",
       "   'condition_code_system': 'ICD-10',\n",
       "   'condition_name': 'Post COVID-19 condition, unspecified',\n",
       "   'days_to_condition_start': 276,\n",
       "   '_condition_id': '7cf4bf17-62c0-4493-a66f-2b6680ec1cc5'},\n",
       "  {'condition_code': 'U09.9',\n",
       "   'condition_code_system': 'ICD-10',\n",
       "   'condition_name': 'Post COVID-19 condition, unspecified',\n",
       "   'days_to_condition_start': 458,\n",
       "   '_condition_id': '5bb6e574-4429-4c26-9502-69918afdedf4'},\n",
       "  {'condition_code': 'U09.9',\n",
       "   'condition_code_system': 'ICD-10',\n",
       "   'condition_name': 'Post COVID-19 condition, unspecified',\n",
       "   'days_to_condition_start': 632,\n",
       "   '_condition_id': 'eb3213b0-6e84-4b66-a030-dc127ac282cd'},\n",
       "  {'condition_code': 'U09.9',\n",
       "   'condition_code_system': 'ICD-10',\n",
       "   'condition_name': 'Post COVID-19 condition, unspecified',\n",
       "   'days_to_condition_start': 739,\n",
       "   '_condition_id': 'e39e88a8-0ac9-45df-bfc4-67f308aa44e7'},\n",
       "  {'condition_code': 'U09.9',\n",
       "   'condition_code_system': 'ICD-10',\n",
       "   'condition_name': 'Post COVID-19 condition, unspecified',\n",
       "   'days_to_condition_start': 632,\n",
       "   '_condition_id': 'f1954b25-1750-43b5-9810-cb4cef0c1ac8'},\n",
       "  {'condition_code': 'U09.9',\n",
       "   'condition_code_system': 'ICD-10',\n",
       "   'condition_name': 'Post COVID-19 condition, unspecified',\n",
       "   'days_to_condition_start': 443,\n",
       "   '_condition_id': '048e4c50-cf77-4683-8293-3d8a2017ea58'},\n",
       "  {'condition_code': 'U09.9',\n",
       "   'condition_code_system': 'ICD-10',\n",
       "   'condition_name': 'Post COVID-19 condition, unspecified',\n",
       "   'days_to_condition_start': 632,\n",
       "   '_condition_id': '010b3d5a-d6a7-4d34-b0e1-52927863fa46'},\n",
       "  {'condition_code': 'U09.9',\n",
       "   'condition_code_system': 'ICD-10',\n",
       "   'condition_name': 'Post COVID-19 condition, unspecified',\n",
       "   'days_to_condition_start': 632,\n",
       "   '_condition_id': 'df90f01a-e77a-4836-b0d8-3bce7ed92c97'},\n",
       "  {'condition_code': 'U09.9',\n",
       "   'condition_code_system': 'ICD-10',\n",
       "   'condition_name': 'Post COVID-19 condition, unspecified',\n",
       "   'days_to_condition_start': 274,\n",
       "   '_condition_id': '4789ed35-e200-4af3-90da-59027e80624f'}],\n",
       " 'imaging_studies': [{'age_at_imaging': 80,\n",
       "   'body_part_examined': ['CHEST'],\n",
       "   'days_to_study': 47,\n",
       "   'loinc_code': '36554-4',\n",
       "   'loinc_long_common_name': 'XR Chest Single view',\n",
       "   'loinc_method': 'XR',\n",
       "   'loinc_system': 'Chest',\n",
       "   'study_description': 'XR CHEST SINGLE VIEW',\n",
       "   'study_modality': ['DX'],\n",
       "   'study_uid': '1.2.826.0.1.3680043.10.474.574856.55761',\n",
       "   '_imaging_study_id': 'ff9ec478-e26d-439f-8c7a-8f85aba70377'}],\n",
       " 'measurements': [{'test_days_from_index': 740,\n",
       "   'test_method': 'RT-PCR',\n",
       "   'test_name': 'COVID-19',\n",
       "   'test_result_text': 'Negative',\n",
       "   '_measurement_id': '051d8966-1bc6-462d-8d9e-6117a79f92e1'},\n",
       "  {'test_days_from_index': 739,\n",
       "   'test_method': 'RT-PCR',\n",
       "   'test_name': 'COVID-19',\n",
       "   'test_result_text': 'Negative',\n",
       "   '_measurement_id': 'aab35461-7db5-4d7e-b843-c20b75fddd09'},\n",
       "  {'test_days_from_index': 47,\n",
       "   'test_method': 'RT-PCR',\n",
       "   'test_name': 'COVID-19',\n",
       "   'test_result_text': 'Positive',\n",
       "   '_measurement_id': 'c72067e0-dd30-473c-a544-a2ef59b5484d'},\n",
       "  {'test_days_from_index': 0,\n",
       "   'test_method': 'RT-PCR',\n",
       "   'test_name': 'COVID-19',\n",
       "   'test_result_text': 'Negative',\n",
       "   '_measurement_id': 'c8fa727f-58e1-4d8b-a448-fa0e94128ba7'},\n",
       "  {'test_days_from_index': 695,\n",
       "   'test_method': 'RT-PCR',\n",
       "   'test_name': 'COVID-19',\n",
       "   'test_result_text': 'Negative',\n",
       "   '_measurement_id': 'ddd9dedf-4588-48d0-8c27-79a544db8b02'}],\n",
       " 'auth_resource_path': '/programs/Open/projects/R1'}"
      ]
     },
     "execution_count": 11,
     "metadata": {},
     "output_type": "execute_result"
    }
   ],
   "source": [
    "## Look at one record returned by the query\n",
    "# Note: the \"object_id\" field is a list of all file identifiers associated with the case\n",
    "cases[0]"
   ]
  },
  {
   "cell_type": "markdown",
   "id": "ef11c21d",
   "metadata": {},
   "source": [
    "## 3) Send another query to get data file details for our cohort / case ID\n",
    "---\n",
    "The object_id field in each case record above contains the file identifiers for all files associated with each case. If we simply want to access all files associated with our list of cases, we can use those object_ids. However, in this example, we'll ask for specific types of files and get more detailed information about each of the files. This is achieved by querying the \"data_file\" index and adding our cohort (list of case_ids) as a filter. \n",
    "\n",
    "* Note: all MIDRC data files, including both images and annotations, are listed in the guppy index \"data_file\", which is queried in a similar manner to our query of the \"case\" index above. The query parameter \"data_type\" below determines which Elasticsearch index we're querying."
   ]
  },
  {
   "cell_type": "markdown",
   "id": "bae08fb2",
   "metadata": {},
   "source": [
    "### Set 'data_file' query parameters\n",
    "---\n",
    "Here, we'll utilize the property \"source_node\" to filter the list of files for our cohort to only those matching the type of files we're interested in. In this example, we ask for CR and DX images and any associated annotation files.\n",
    "\n",
    "* Note: We're using the property \"case_ids\" as a filter to restrict the data_file records returned down to those associated with cases in our cohort built above. If you'd like to search for only one specific case_id, you can manually set the case_ids variable like this:\n",
    "```\n",
    "case_ids = [\"my_case_id\"]\n",
    "```\n",
    "* Or alternatively, you could set the query filter like this:\n",
    "```\n",
    "{\"=\": {\"case_ids\": \"my_case_id\"}},\n",
    "```\n",
    "where \"my_case_id\" is the quoted submitter_id of the case you're searching for."
   ]
  },
  {
   "cell_type": "code",
   "execution_count": 12,
   "id": "e844e93f",
   "metadata": {},
   "outputs": [],
   "source": [
    "source_nodes = [\"cr_series_file\",\"dx_series_file\",\"annotation_file\",\"dicom_annotation_file\"]\n",
    "modality = [\"SEG\", \"CR\", \"DX\", ] # this is somewhat redundant with the above source_node filter, but added here for demonstration purposes"
   ]
  },
  {
   "cell_type": "code",
   "execution_count": 13,
   "id": "4998295a",
   "metadata": {},
   "outputs": [
    {
     "name": "stdout",
     "output_type": "stream",
     "text": [
      "Query returned 45 data files with 45 object_ids.\n",
      "Data is a list with rows like this:\n",
      "\t [{'_data_file_id': '3d87c88e-12f0-4d92-ad88-4f1d9fa296b3', 'project_id': 'Open-R1', 'submitter_id': '1.2.826.0.1.3680043.10.474.574856.68485', 'series_uid': '1.2.826.0.1.3680043.10.474.574856.68485', 'case_ids': ['574856-000667'], 'object_id': 'dg.MD1R/40a900c7-a0d0-45b8-8dc4-c1714d9a5e88', 'md5sum': '075d7d467769392c1b25e392c1c39bf2', 'file_name': '574856-000667/1.2.826.0.1.3680043.10.474.574856.68484/1.2.826.0.1.3680043.10.474.574856.68485.zip', 'file_size': 9692948, 'data_format': 'DCM', 'data_type': 'DICOM', 'data_category': 'DX', 'lossy_image_compression': '00', 'manufacturer': 'KONICA MINOLTA', 'manufacturer_model_name': 'CS-7', 'modality': 'DX', 'series_description': 'AP', 'source_node': 'dx_series_file', 'detector_type': 'SCINTILLATOR', 'image_type': ['ORIGINAL_PRIMARY'], 'imager_pixel_spacing': [0.175], 'pixel_spacing': [0.175], 'program_name': ['Open'], 'project_code': ['R1'], '_dataset_id': ['a6c328b2-505e-4098-b641-eae914795163'], '_case_id': ['d7ce0e53-3b5b-4575-b83a-f96fd9d734f5'], 'age_at_index': [60], 'covid19_positive': ['Yes'], 'index_event': ['First COVID test'], 'race': ['Black or African American'], 'sex': ['Male'], 'zip': ['322'], '_imaging_study_id': ['6811ca1f-4f48-427b-8931-9356f7e799da'], 'age_at_imaging': [60], 'body_part_examined': ['CHEST'], 'days_from_study_to_neg_covid_test': [], 'days_from_study_to_pos_covid_test': [], 'days_to_study': [25], 'study_description': ['XR CHEST SINGLE VIEW'], 'study_modality': ['DX'], 'study_location': [], 'study_year': [], 'study_year_shifted': ['false'], 'study_uid': ['1.2.826.0.1.3680043.10.474.574856.68484'], 'loinc_code': ['36554-4'], 'loinc_contrast': [], 'loinc_long_common_name': ['XR Chest Single view'], 'loinc_method': ['XR'], 'loinc_system': ['Chest'], '_annotation_id': [], 'auth_resource_path': '/programs/Open/projects/R1'}]\n"
     ]
    }
   ],
   "source": [
    "## Search for specific files associated with our cohort by adding \"case_ids\" as a filter\n",
    "# * Note: \"fields\" is set to \"None\" in this query, which by default returns all the properties available\n",
    "data_files = query.raw_data_download(\n",
    "                    data_type=\"data_file\",\n",
    "                    fields=None,\n",
    "                    filter_object={\n",
    "                        \"AND\": [\n",
    "                            {\"IN\": {\"case_ids\": case_ids}},\n",
    "                            {\"IN\": {\"source_node\": source_nodes}},\n",
    "                            {\"IN\": {\"modality\": modality}},\n",
    "                        ]\n",
    "                    },\n",
    "                    sort_fields=[{\"submitter_id\": \"asc\"}]\n",
    "                )\n",
    "\n",
    "if len(data_files) > 0:\n",
    "    object_ids = [i['object_id'] for i in data_files if 'object_id' in i] ## make a list of the file object_ids returned by our query\n",
    "    print(\"Query returned {} data files with {} object_ids.\".format(len(data_files),len(object_ids)))\n",
    "    print(\"Data is a list with rows like this:\\n\\t {}\".format(data_files[0:1]))\n",
    "else:\n",
    "    print(\"Your query returned no data! Please, check that query parameters are valid.\")"
   ]
  },
  {
   "cell_type": "code",
   "execution_count": 14,
   "id": "729ffdc9",
   "metadata": {},
   "outputs": [
    {
     "data": {
      "text/plain": [
       "{'_data_file_id': '3d87c88e-12f0-4d92-ad88-4f1d9fa296b3',\n",
       " 'project_id': 'Open-R1',\n",
       " 'submitter_id': '1.2.826.0.1.3680043.10.474.574856.68485',\n",
       " 'series_uid': '1.2.826.0.1.3680043.10.474.574856.68485',\n",
       " 'case_ids': ['574856-000667'],\n",
       " 'object_id': 'dg.MD1R/40a900c7-a0d0-45b8-8dc4-c1714d9a5e88',\n",
       " 'md5sum': '075d7d467769392c1b25e392c1c39bf2',\n",
       " 'file_name': '574856-000667/1.2.826.0.1.3680043.10.474.574856.68484/1.2.826.0.1.3680043.10.474.574856.68485.zip',\n",
       " 'file_size': 9692948,\n",
       " 'data_format': 'DCM',\n",
       " 'data_type': 'DICOM',\n",
       " 'data_category': 'DX',\n",
       " 'lossy_image_compression': '00',\n",
       " 'manufacturer': 'KONICA MINOLTA',\n",
       " 'manufacturer_model_name': 'CS-7',\n",
       " 'modality': 'DX',\n",
       " 'series_description': 'AP',\n",
       " 'source_node': 'dx_series_file',\n",
       " 'detector_type': 'SCINTILLATOR',\n",
       " 'image_type': ['ORIGINAL_PRIMARY'],\n",
       " 'imager_pixel_spacing': [0.175],\n",
       " 'pixel_spacing': [0.175],\n",
       " 'program_name': ['Open'],\n",
       " 'project_code': ['R1'],\n",
       " '_dataset_id': ['a6c328b2-505e-4098-b641-eae914795163'],\n",
       " '_case_id': ['d7ce0e53-3b5b-4575-b83a-f96fd9d734f5'],\n",
       " 'age_at_index': [60],\n",
       " 'covid19_positive': ['Yes'],\n",
       " 'index_event': ['First COVID test'],\n",
       " 'race': ['Black or African American'],\n",
       " 'sex': ['Male'],\n",
       " 'zip': ['322'],\n",
       " '_imaging_study_id': ['6811ca1f-4f48-427b-8931-9356f7e799da'],\n",
       " 'age_at_imaging': [60],\n",
       " 'body_part_examined': ['CHEST'],\n",
       " 'days_from_study_to_neg_covid_test': [],\n",
       " 'days_from_study_to_pos_covid_test': [],\n",
       " 'days_to_study': [25],\n",
       " 'study_description': ['XR CHEST SINGLE VIEW'],\n",
       " 'study_modality': ['DX'],\n",
       " 'study_location': [],\n",
       " 'study_year': [],\n",
       " 'study_year_shifted': ['false'],\n",
       " 'study_uid': ['1.2.826.0.1.3680043.10.474.574856.68484'],\n",
       " 'loinc_code': ['36554-4'],\n",
       " 'loinc_contrast': [],\n",
       " 'loinc_long_common_name': ['XR Chest Single view'],\n",
       " 'loinc_method': ['XR'],\n",
       " 'loinc_system': ['Chest'],\n",
       " '_annotation_id': [],\n",
       " 'auth_resource_path': '/programs/Open/projects/R1'}"
      ]
     },
     "execution_count": 14,
     "metadata": {},
     "output_type": "execute_result"
    }
   ],
   "source": [
    "## View the detailed data for the first file returned\n",
    "data_files[0]"
   ]
  },
  {
   "cell_type": "markdown",
   "id": "4e3d5b61",
   "metadata": {},
   "source": [
    "## 4) Access data files using their object_id / data GUID (globally unique identifiers)\n",
    "---\n",
    "In order to download files stored in MIDRC, users need to reference the file's object_id (AKA data GUID or Globally Unique IDentifier).\n",
    "\n",
    "Once we have a list of GUIDs we want to download, we can use either the gen3-client or the gen3 SDK to download the files. You can also access individual files in your browser after logging-in and entering the GUID after the `files/` endpoint, as in this URL: https://data.midrc.org/files/GUID\n",
    "\n",
    "where GUID is the actual GUID, e.g.: https://data.midrc.org/files/dg.MD1R/b87d0db3-d95a-43c7-ace1-ab2c130e04ec\n",
    "\n",
    "For instructions on how to install and use the gen3-client, please see [the MIDRC quick-start guide](https://data.midrc.org/dashboard/Public/documentation/Gen3_MIDRC_GetStarted.pdf), which can be found linked here and in the MIDRC data portal header as \"Get Started\".\n",
    "\n",
    "Below we use the gen3 SDK command `gen3 drs-pull object` which is [documented in detail here](https://github.com/uc-cdis/gen3sdk-python/blob/master/docs/howto/drsDownloading.md)."
   ]
  },
  {
   "cell_type": "markdown",
   "id": "cb606c8a",
   "metadata": {},
   "source": [
    "### Parse the data_file query response to build a list of all `object_id`s returned for our cohort. "
   ]
  },
  {
   "cell_type": "code",
   "execution_count": 15,
   "id": "2f26a9a1",
   "metadata": {},
   "outputs": [
    {
     "name": "stdout",
     "output_type": "stream",
     "text": [
      "The first object_id of 45: 'dg.MD1R/f3d90ecf-c383-4a1d-8af9-c1bd8f1cb051'\n"
     ]
    }
   ],
   "source": [
    "## Build a list \n",
    "object_ids = []\n",
    "for data_file in data_files:\n",
    "    if 'object_id' in data_file:\n",
    "        object_id = data_file['object_id']\n",
    "        object_ids.append(object_id)\n",
    "\n",
    "object_id = object_ids[1]\n",
    "print(\"The first object_id of {}: '{}'\".format(len(object_ids),object_id))"
   ]
  },
  {
   "cell_type": "markdown",
   "id": "a167eb79",
   "metadata": {},
   "source": [
    "### Use the Gen3 SDK command `gen3 drs-pull object` to download an individual file"
   ]
  },
  {
   "cell_type": "code",
   "execution_count": 16,
   "id": "35853bf9-647e-401f-b068-fe9e75e3d43a",
   "metadata": {},
   "outputs": [
    {
     "data": {
      "text/plain": [
       "0"
      ]
     },
     "execution_count": 16,
     "metadata": {},
     "output_type": "execute_result"
    }
   ],
   "source": [
    "## Make a new directory for downloaded files\n",
    "os.system(\"mkdir -p downloads\")\n"
   ]
  },
  {
   "cell_type": "code",
   "execution_count": 17,
   "id": "b5b0ae28-5d80-4d11-a9f0-94ae51391814",
   "metadata": {},
   "outputs": [
    {
     "name": "stdout",
     "output_type": "stream",
     "text": [
      "{\"succeeded\": [\"dg.MD1R/f3d90ecf-c383-4a1d-8af9-c1bd8f1cb051\"], \"failed\": []}\n"
     ]
    },
    {
     "data": {
      "text/plain": [
       "0"
      ]
     },
     "execution_count": 17,
     "metadata": {},
     "output_type": "execute_result"
    }
   ],
   "source": [
    "## Run the \"gen3 drs-pull object\" command to download a file\n",
    "cmd = \"gen3 --auth {} --endpoint data.midrc.org drs-pull object {} --output-dir downloads\".format(cred,object_id)\n",
    "os.system(cmd)\n"
   ]
  },
  {
   "cell_type": "code",
   "execution_count": 18,
   "id": "2b7a8ee3",
   "metadata": {},
   "outputs": [
    {
     "name": "stdout",
     "output_type": "stream",
     "text": [
      "downloads/574856-000667/1.2.826.0.1.3680043.10.474.574856.272228/1.2.826.0.1.3680043.10.474.574856.272229/1.2.826.0.1.3680043.10.474.574856.272230.dcm\n",
      "downloads/574856-000667/1.2.826.0.1.3680043.10.474.574856.272228/1.2.826.0.1.3680043.10.474.574856.272229/1.2.826.0.1.3680043.10.474.574856.272227.dcm\n",
      "downloads/574856-004380/1.2.826.0.1.3680043.10.474.574856.2166015/1.2.826.0.1.3680043.10.474.574856.2166016/1.2.826.0.1.3680043.10.474.574856.2166014.dcm\n"
     ]
    }
   ],
   "source": [
    "!find downloads -name \"*dcm\""
   ]
  },
  {
   "cell_type": "markdown",
   "id": "be1fe191",
   "metadata": {},
   "source": [
    "### Use a simple loop to download all the files"
   ]
  },
  {
   "cell_type": "code",
   "execution_count": 19,
   "id": "161771f4",
   "metadata": {},
   "outputs": [
    {
     "name": "stdout",
     "output_type": "stream",
     "text": [
      "Progress (1/45): b'{\"succeeded\": [\"dg.MD1R/40a900c7-a0d0-45b8-8dc4-c1714d9a5e88\"], \"failed\": []}\\n'\n",
      "Progress (2/45): b'{\"succeeded\": [\"dg.MD1R/f3d90ecf-c383-4a1d-8af9-c1bd8f1cb051\"], \"failed\": []}\\n'\n",
      "Progress (3/45): b'{\"succeeded\": [\"dg.MD1R/5abec3d4-e828-4ec3-a6aa-19876fcdfd16\"], \"failed\": []}\\n'\n",
      "Progress (4/45): b'{\"succeeded\": [\"dg.MD1R/b7550986-ca83-43bd-bdf7-59180a22756c\"], \"failed\": []}\\n'\n",
      "Progress (5/45): b'{\"succeeded\": [\"dg.MD1R/b2066d91-bd09-4334-9987-23a723561f0a\"], \"failed\": []}\\n'\n",
      "Progress (6/45): b'{\"succeeded\": [\"dg.MD1R/19a00d00-e9b8-4ec3-b8aa-7c83098e8b30\"], \"failed\": []}\\n'\n",
      "Progress (7/45): b'{\"succeeded\": [\"dg.MD1R/cdc4b1f6-369d-48e9-8182-483dd228642a\"], \"failed\": []}\\n'\n",
      "Progress (8/45): b'{\"succeeded\": [\"dg.MD1R/015e8d04-dcee-461f-9df0-526c735d0fc8\"], \"failed\": []}\\n'\n",
      "Progress (9/45): b'{\"succeeded\": [\"dg.MD1R/0d550de6-5cee-43ef-9ba5-b4c4e176ee76\"], \"failed\": []}\\n'\n",
      "Progress (10/45): b'{\"succeeded\": [\"dg.MD1R/17034b8a-738e-4800-a447-d5594a55561d\"], \"failed\": []}\\n'\n",
      "Progress (11/45): b'{\"succeeded\": [\"dg.MD1R/e7ede55e-a9c9-46dd-9667-c6174b073f74\"], \"failed\": []}\\n'\n",
      "Progress (12/45): b'{\"succeeded\": [\"dg.MD1R/f2e78012-8af8-40eb-8f64-6eb370a7c872\"], \"failed\": []}\\n'\n",
      "Progress (13/45): b'{\"succeeded\": [\"dg.MD1R/94798c75-42af-4142-a339-fda3ce4e1f1b\"], \"failed\": []}\\n'\n",
      "Progress (14/45): b'{\"succeeded\": [\"dg.MD1R/073bf136-2fc4-4bd4-836e-66acf3f68b0a\"], \"failed\": []}\\n'\n",
      "Progress (15/45): b'{\"succeeded\": [\"dg.MD1R/fe591129-e297-4765-87c8-3942061645a7\"], \"failed\": []}\\n'\n",
      "Progress (16/45): b'{\"succeeded\": [\"dg.MD1R/49c2ec6f-0c60-4610-af98-d7e167e08696\"], \"failed\": []}\\n'\n",
      "Progress (17/45): b'{\"succeeded\": [\"dg.MD1R/065479ba-f1b9-4ffd-bb42-299aeb0bd9ea\"], \"failed\": []}\\n'\n",
      "Progress (18/45): b'{\"succeeded\": [\"dg.MD1R/02c78b0e-ae24-4065-ae1e-753f4b6de60b\"], \"failed\": []}\\n'\n",
      "Progress (19/45): b'{\"succeeded\": [\"dg.MD1R/1770a787-099c-4a14-8091-7f8aab0dd9d3\"], \"failed\": []}\\n'\n",
      "Progress (20/45): b'{\"succeeded\": [\"dg.MD1R/b93db624-f77e-4fea-969a-a3e672c15a8f\"], \"failed\": []}\\n'\n",
      "Progress (21/45): b'{\"succeeded\": [\"dg.MD1R/49629d6c-36ab-414d-bd89-502936ff2524\"], \"failed\": []}\\n'\n",
      "Progress (22/45): b'{\"succeeded\": [\"dg.MD1R/6a49356b-80b8-44da-b36c-c38541fa04bf\"], \"failed\": []}\\n'\n",
      "Progress (23/45): b'{\"succeeded\": [\"dg.MD1R/347ccacd-7829-4a0e-a72f-ef14c0242ca9\"], \"failed\": []}\\n'\n",
      "Progress (24/45): b'{\"succeeded\": [\"dg.MD1R/27473e12-0796-42fe-b150-0a54d107e2fc\"], \"failed\": []}\\n'\n",
      "Progress (25/45): b'{\"succeeded\": [\"dg.MD1R/ed80714d-fe2b-496d-a37c-097398cc6662\"], \"failed\": []}\\n'\n",
      "Progress (26/45): b'{\"succeeded\": [\"dg.MD1R/6466ee5b-fc46-4179-8e56-66b8cc849ffa\"], \"failed\": []}\\n'\n",
      "Progress (27/45): b'{\"succeeded\": [\"dg.MD1R/62601d7d-6f1d-4e9d-9190-084e057c9570\"], \"failed\": []}\\n'\n",
      "Progress (28/45): b'{\"succeeded\": [\"dg.MD1R/a3a6be41-a0a2-4b68-b893-b6c1a0239c06\"], \"failed\": []}\\n'\n",
      "Progress (29/45): b'{\"succeeded\": [\"dg.MD1R/ba5bfe9f-9c76-4b25-ae8a-a062ee726ca7\"], \"failed\": []}\\n'\n",
      "Progress (30/45): b'{\"succeeded\": [\"dg.MD1R/ce1f4891-1dc5-460d-899b-a91a8b151233\"], \"failed\": []}\\n'\n",
      "Progress (31/45): b'{\"succeeded\": [\"dg.MD1R/9fbd3d51-6c1b-4e1b-9bba-0e2bd1576069\"], \"failed\": []}\\n'\n",
      "Progress (32/45): b'{\"succeeded\": [\"dg.MD1R/423e3304-bfc9-41e7-830f-4f101dcd749e\"], \"failed\": []}\\n'\n",
      "Progress (33/45): b'{\"succeeded\": [\"dg.MD1R/0d46cfdb-5157-4d67-9427-82ceb856226e\"], \"failed\": []}\\n'\n",
      "Progress (34/45): b'{\"succeeded\": [\"dg.MD1R/8c86babc-2270-4f4d-b12f-c032903b2379\"], \"failed\": []}\\n'\n",
      "Progress (35/45): b'{\"succeeded\": [\"dg.MD1R/2589ee15-f75f-4470-81f1-0ba5f979e94b\"], \"failed\": []}\\n'\n",
      "Progress (36/45): b'{\"succeeded\": [\"dg.MD1R/ef81eab8-4a99-463c-b801-65c3fe218d85\"], \"failed\": []}\\n'\n",
      "Progress (37/45): b'{\"succeeded\": [\"dg.MD1R/a9d411e4-358f-4cf6-807a-c93534516750\"], \"failed\": []}\\n'\n",
      "Progress (38/45): b'{\"succeeded\": [\"dg.MD1R/0c5df493-95b7-4a8d-8773-aac1712f3e20\"], \"failed\": []}\\n'\n",
      "Progress (39/45): b'{\"succeeded\": [\"dg.MD1R/a56c203f-acaa-4535-94fc-eb99407948cd\"], \"failed\": []}\\n'\n",
      "Progress (40/45): b'{\"succeeded\": [\"dg.MD1R/919469f0-a873-4194-8506-7e71a3f7665f\"], \"failed\": []}\\n'\n",
      "Progress (41/45): b'{\"succeeded\": [\"dg.MD1R/5c7f4855-9584-4a47-b59d-f04845f26902\"], \"failed\": []}\\n'\n",
      "Progress (42/45): b'{\"succeeded\": [\"dg.MD1R/28b070fa-b808-47ef-9e4d-73edaf324a5b\"], \"failed\": []}\\n'\n",
      "Progress (43/45): b'{\"succeeded\": [\"dg.MD1R/91451e63-153d-43b1-894d-30a4b002e54f\"], \"failed\": []}\\n'\n",
      "Progress (44/45): b'{\"succeeded\": [\"dg.MD1R/0d1933b9-934e-4a33-9bdb-5f3e92878f84\"], \"failed\": []}\\n'\n",
      "Progress (45/45): b'{\"succeeded\": [\"dg.MD1R/39aac0ec-247c-43fc-9379-3975ad4d27af\"], \"failed\": []}\\n'\n"
     ]
    }
   ],
   "source": [
    "## Simple loop to download all files and keep track of success and failures\n",
    "cred = \"/Users/christopher/Downloads/midrc-credentials.json\" # location of your MIDRC credentials, downloaded from https://data.midrc.org/identity by clicking \"Create API key\" button and saving the credentials.json locally\n",
    "success,failure,other=[],[],[]\n",
    "count,total = 0,len(object_ids)\n",
    "for object_id in object_ids:\n",
    "    count+=1\n",
    "    cmd = \"gen3 --auth {} --endpoint data.midrc.org drs-pull object {} --output-dir downloads\".format(cred,object_id)\n",
    "    stout = subprocess.run(cmd, shell=True, capture_output=True)\n",
    "    print(\"Progress ({}/{}): {}\".format(count,total,stout.stdout))\n",
    "    if \"failed\" in str(stout.stdout):\n",
    "        failure.append(object_id)\n",
    "    elif \"successfully\" in str(stout.stdout):\n",
    "        success.append(object_id)\n",
    "    else:\n",
    "        other.append(object_id)"
   ]
  },
  {
   "cell_type": "code",
   "execution_count": 20,
   "id": "13281b5d",
   "metadata": {},
   "outputs": [
    {
     "name": "stdout",
     "output_type": "stream",
     "text": [
      "downloads/574856-000491/1.2.826.0.1.3680043.10.474.574856.38401/1.2.826.0.1.3680043.10.474.574856.38402/1.2.826.0.1.3680043.10.474.574856.38400.dcm\n",
      "downloads/574856-000667/1.2.826.0.1.3680043.10.474.574856.56108/1.2.826.0.1.3680043.10.474.574856.56109/1.2.826.0.1.3680043.10.474.574856.56107.dcm\n",
      "downloads/574856-000667/1.2.826.0.1.3680043.10.474.574856.284869/1.2.826.0.1.3680043.10.474.574856.284870/1.2.826.0.1.3680043.10.474.574856.284868.dcm\n",
      "downloads/574856-000667/1.2.826.0.1.3680043.10.474.574856.252187/1.2.826.0.1.3680043.10.474.574856.252188/1.2.826.0.1.3680043.10.474.574856.252186.dcm\n",
      "downloads/574856-000667/1.2.826.0.1.3680043.10.474.574856.164169/1.2.826.0.1.3680043.10.474.574856.164170/1.2.826.0.1.3680043.10.474.574856.164168.dcm\n",
      "downloads/574856-000667/1.2.826.0.1.3680043.10.474.574856.272228/1.2.826.0.1.3680043.10.474.574856.272229/1.2.826.0.1.3680043.10.474.574856.272230.dcm\n",
      "downloads/574856-000667/1.2.826.0.1.3680043.10.474.574856.272228/1.2.826.0.1.3680043.10.474.574856.272229/1.2.826.0.1.3680043.10.474.574856.272227.dcm\n",
      "downloads/574856-000667/1.2.826.0.1.3680043.10.474.574856.267765/1.2.826.0.1.3680043.10.474.574856.267766/1.2.826.0.1.3680043.10.474.574856.267764.dcm\n",
      "downloads/574856-000667/1.2.826.0.1.3680043.10.474.574856.189785/1.2.826.0.1.3680043.10.474.574856.189786/1.2.826.0.1.3680043.10.474.574856.189784.dcm\n",
      "downloads/574856-000667/1.2.826.0.1.3680043.10.474.574856.255919/1.2.826.0.1.3680043.10.474.574856.255920/1.2.826.0.1.3680043.10.474.574856.255918.dcm\n",
      "downloads/574856-000667/1.2.826.0.1.3680043.10.474.574856.201845/1.2.826.0.1.3680043.10.474.574856.201846/1.2.826.0.1.3680043.10.474.574856.201847.dcm\n",
      "downloads/574856-000667/1.2.826.0.1.3680043.10.474.574856.201845/1.2.826.0.1.3680043.10.474.574856.201846/1.2.826.0.1.3680043.10.474.574856.201844.dcm\n",
      "downloads/574856-000667/1.2.826.0.1.3680043.10.474.574856.254645/1.2.826.0.1.3680043.10.474.574856.254646/1.2.826.0.1.3680043.10.474.574856.254647.dcm\n",
      "downloads/574856-000667/1.2.826.0.1.3680043.10.474.574856.254645/1.2.826.0.1.3680043.10.474.574856.254646/1.2.826.0.1.3680043.10.474.574856.254644.dcm\n",
      "downloads/574856-000667/1.2.826.0.1.3680043.10.474.574856.332381/1.2.826.0.1.3680043.10.474.574856.332382/1.2.826.0.1.3680043.10.474.574856.332380.dcm\n",
      "downloads/574856-000667/1.2.826.0.1.3680043.10.474.574856.332381/1.2.826.0.1.3680043.10.474.574856.332382/1.2.826.0.1.3680043.10.474.574856.332383.dcm\n",
      "downloads/574856-000667/1.2.826.0.1.3680043.10.474.574856.58925/1.2.826.0.1.3680043.10.474.574856.58926/1.2.826.0.1.3680043.10.474.574856.58924.dcm\n",
      "downloads/574856-000667/1.2.826.0.1.3680043.10.474.574856.43771/1.2.826.0.1.3680043.10.474.574856.43772/1.2.826.0.1.3680043.10.474.574856.43773.dcm\n",
      "downloads/574856-000667/1.2.826.0.1.3680043.10.474.574856.43771/1.2.826.0.1.3680043.10.474.574856.43772/1.2.826.0.1.3680043.10.474.574856.43770.dcm\n",
      "downloads/574856-000667/1.2.826.0.1.3680043.10.474.574856.2143626/1.2.826.0.1.3680043.10.474.574856.2143627/1.2.826.0.1.3680043.10.474.574856.2143645.dcm\n",
      "downloads/574856-000667/1.2.826.0.1.3680043.10.474.574856.2143626/1.2.826.0.1.3680043.10.474.574856.2143627/1.2.826.0.1.3680043.10.474.574856.2143625.dcm\n",
      "downloads/574856-000667/1.2.826.0.1.3680043.10.474.574856.170823/1.2.826.0.1.3680043.10.474.574856.170824/1.2.826.0.1.3680043.10.474.574856.170822.dcm\n",
      "downloads/574856-000667/1.2.826.0.1.3680043.10.474.574856.156371/1.2.826.0.1.3680043.10.474.574856.156372/1.2.826.0.1.3680043.10.474.574856.156370.dcm\n",
      "downloads/574856-000667/1.2.826.0.1.3680043.10.474.574856.68484/1.2.826.0.1.3680043.10.474.574856.68485/1.2.826.0.1.3680043.10.474.574856.68486.dcm\n",
      "downloads/574856-000667/1.2.826.0.1.3680043.10.474.574856.199124/1.2.826.0.1.3680043.10.474.574856.199125/1.2.826.0.1.3680043.10.474.574856.199123.dcm\n",
      "downloads/574856-000667/1.2.826.0.1.3680043.10.474.574856.199124/1.2.826.0.1.3680043.10.474.574856.199125/1.2.826.0.1.3680043.10.474.574856.199126.dcm\n",
      "downloads/574856-008457/1.2.826.0.1.3680043.10.474.574856.967999/1.2.826.0.1.3680043.10.474.574856.968000/1.2.826.0.1.3680043.10.474.574856.967998.dcm\n",
      "downloads/574856-008457/1.2.826.0.1.3680043.10.474.574856.967999/1.2.826.0.1.3680043.10.474.574856.968002/1.2.826.0.1.3680043.10.474.574856.968001.dcm\n",
      "downloads/574856-002848/1.2.826.0.1.3680043.10.474.574856.284857/1.2.826.0.1.3680043.10.474.574856.284858/1.2.826.0.1.3680043.10.474.574856.284856.dcm\n",
      "downloads/574856-002848/1.2.826.0.1.3680043.10.474.574856.257497/1.2.826.0.1.3680043.10.474.574856.257498/1.2.826.0.1.3680043.10.474.574856.257496.dcm\n",
      "downloads/574856-002848/1.2.826.0.1.3680043.10.474.574856.329205/1.2.826.0.1.3680043.10.474.574856.329206/1.2.826.0.1.3680043.10.474.574856.329204.dcm\n",
      "downloads/574856-009476/1.2.826.0.1.3680043.10.474.574856.1141800/1.2.826.0.1.3680043.10.474.574856.1141801/1.2.826.0.1.3680043.10.474.574856.1141799.dcm\n",
      "downloads/574856-000641/1.2.826.0.1.3680043.10.474.574856.42955/1.2.826.0.1.3680043.10.474.574856.42956/1.2.826.0.1.3680043.10.474.574856.42954.dcm\n",
      "downloads/574856-000641/1.2.826.0.1.3680043.10.474.574856.42955/1.2.826.0.1.3680043.10.474.574856.42958/1.2.826.0.1.3680043.10.474.574856.42957.dcm\n",
      "downloads/574856-000871/1.2.826.0.1.3680043.10.474.574856.55761/1.2.826.0.1.3680043.10.474.574856.55762/1.2.826.0.1.3680043.10.474.574856.55760.dcm\n",
      "downloads/574856-010421/1.2.826.0.1.3680043.10.474.574856.1290993/1.2.826.0.1.3680043.10.474.574856.1290996/1.2.826.0.1.3680043.10.474.574856.1290995.dcm\n",
      "downloads/574856-010421/1.2.826.0.1.3680043.10.474.574856.1290993/1.2.826.0.1.3680043.10.474.574856.1290994/1.2.826.0.1.3680043.10.474.574856.1290992.dcm\n",
      "downloads/574856-001112/1.2.826.0.1.3680043.10.474.574856.64311/1.2.826.0.1.3680043.10.474.574856.64312/1.2.826.0.1.3680043.10.474.574856.64313.dcm\n",
      "downloads/574856-001112/1.2.826.0.1.3680043.10.474.574856.64311/1.2.826.0.1.3680043.10.474.574856.64312/1.2.826.0.1.3680043.10.474.574856.64310.dcm\n",
      "downloads/574856-007228/1.2.826.0.1.3680043.10.474.574856.789494/1.2.826.0.1.3680043.10.474.574856.789495/1.2.826.0.1.3680043.10.474.574856.789493.dcm\n",
      "downloads/574856-007228/1.2.826.0.1.3680043.10.474.574856.2356539/1.2.826.0.1.3680043.10.474.574856.2356545/1.2.826.0.1.3680043.10.474.574856.2356544.dcm\n",
      "downloads/574856-007228/1.2.826.0.1.3680043.10.474.574856.2356539/1.2.826.0.1.3680043.10.474.574856.2356540/1.2.826.0.1.3680043.10.474.574856.2356538.dcm\n",
      "downloads/574856-007228/1.2.826.0.1.3680043.10.474.574856.2356539/1.2.826.0.1.3680043.10.474.574856.2356547/1.2.826.0.1.3680043.10.474.574856.2356546.dcm\n",
      "downloads/574856-004380/1.2.826.0.1.3680043.10.474.574856.457610/1.2.826.0.1.3680043.10.474.574856.457611/1.2.826.0.1.3680043.10.474.574856.457609.dcm\n",
      "downloads/574856-004380/1.2.826.0.1.3680043.10.474.574856.1740932/1.2.826.0.1.3680043.10.474.574856.1740933/1.2.826.0.1.3680043.10.474.574856.1740931.dcm\n",
      "downloads/574856-004380/1.2.826.0.1.3680043.10.474.574856.2403236/1.2.826.0.1.3680043.10.474.574856.2403237/1.2.826.0.1.3680043.10.474.574856.2403235.dcm\n",
      "downloads/574856-004380/1.2.826.0.1.3680043.10.474.574856.2157078/1.2.826.0.1.3680043.10.474.574856.2157079/1.2.826.0.1.3680043.10.474.574856.2157077.dcm\n",
      "downloads/574856-004380/1.2.826.0.1.3680043.10.474.574856.2324645/1.2.826.0.1.3680043.10.474.574856.2324646/1.2.826.0.1.3680043.10.474.574856.2324644.dcm\n",
      "downloads/574856-004380/1.2.826.0.1.3680043.10.474.574856.2324645/1.2.826.0.1.3680043.10.474.574856.2324646/1.2.826.0.1.3680043.10.474.574856.2324647.dcm\n",
      "downloads/574856-004380/1.2.826.0.1.3680043.10.474.574856.2166015/1.2.826.0.1.3680043.10.474.574856.2166016/1.2.826.0.1.3680043.10.474.574856.2166014.dcm\n",
      "downloads/574856-000975/1.2.826.0.1.3680043.10.474.574856.57155/1.2.826.0.1.3680043.10.474.574856.57156/1.2.826.0.1.3680043.10.474.574856.57154.dcm\n",
      "downloads/574856-000975/1.2.826.0.1.3680043.10.474.574856.238463/1.2.826.0.1.3680043.10.474.574856.238464/1.2.826.0.1.3680043.10.474.574856.238462.dcm\n",
      "downloads/574856-001469/1.2.826.0.1.3680043.10.474.574856.99376/1.2.826.0.1.3680043.10.474.574856.99377/1.2.826.0.1.3680043.10.474.574856.99375.dcm\n",
      "downloads/574856-014577/1.2.826.0.1.3680043.10.474.574856.2057744/1.2.826.0.1.3680043.10.474.574856.2057745/1.2.826.0.1.3680043.10.474.574856.2057746.dcm\n",
      "downloads/574856-014577/1.2.826.0.1.3680043.10.474.574856.2057744/1.2.826.0.1.3680043.10.474.574856.2057745/1.2.826.0.1.3680043.10.474.574856.2057743.dcm\n"
     ]
    }
   ],
   "source": [
    "!find downloads -name \"*.dcm\""
   ]
  },
  {
   "cell_type": "code",
   "execution_count": 21,
   "id": "9f5f2d94",
   "metadata": {},
   "outputs": [
    {
     "name": "stdout",
     "output_type": "stream",
     "text": [
      "      55\n"
     ]
    }
   ],
   "source": [
    "!find downloads -name \"*.dcm\" | wc -l"
   ]
  },
  {
   "cell_type": "markdown",
   "id": "544761e9",
   "metadata": {},
   "source": [
    "## The End\n",
    "---\n",
    "If you have any questions related to this notebook don't hesitate to reach out to the MIDRC Helpdesk at midrc-support@datacommons.io or the author directly at cgmeyer@uchicago.edu\n",
    "\n",
    "Happy data wrangling!"
   ]
  },
  {
   "cell_type": "code",
   "execution_count": null,
   "id": "f6691638",
   "metadata": {},
   "outputs": [],
   "source": []
  }
 ],
 "metadata": {
  "kernelspec": {
   "display_name": "Python 3 (ipykernel)",
   "language": "python",
   "name": "python3"
  },
  "language_info": {
   "codemirror_mode": {
    "name": "ipython",
    "version": 3
   },
   "file_extension": ".py",
   "mimetype": "text/x-python",
   "name": "python",
   "nbconvert_exporter": "python",
   "pygments_lexer": "ipython3",
   "version": "3.11.5"
  }
 },
 "nbformat": 4,
 "nbformat_minor": 5
}
