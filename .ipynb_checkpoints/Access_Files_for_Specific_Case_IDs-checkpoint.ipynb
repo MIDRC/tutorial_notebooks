{
 "cells": [
  {
   "cell_type": "markdown",
   "id": "d8ef63c3",
   "metadata": {},
   "source": [
    "# How to Access Files for Specific Case IDs\n",
    "---\n",
    "This notebook demonstrates how to build a cohort of MIDRC patients based on clinical and demographic data and then obtain a file download manifest for x-ray and annotation files related to that cohort.\n",
    "\n",
    "by Chris Meyer, PhD\n",
    "\n",
    "Manager of Data and User Services at the Center for Translational Data Science at University of Chicago\n",
    "\n",
    "August 2023\n",
    "\n",
    "\n",
    "\n"
   ]
  },
  {
   "cell_type": "markdown",
   "id": "5db7f87c",
   "metadata": {},
   "source": [
    "## 1) Set up Python environment\n",
    "---\n"
   ]
  },
  {
   "cell_type": "markdown",
   "id": "1bffd5d4",
   "metadata": {},
   "source": [
    "### Set local variables\n",
    "---\n",
    "Change the following directory paths to a valid working directories where you're running this notebook."
   ]
  },
  {
   "cell_type": "code",
   "execution_count": null,
   "id": "c3c59c2c",
   "metadata": {},
   "outputs": [],
   "source": [
    "cred = \"/Users/christopher/Downloads/midrc-credentials.json\" # location of your MIDRC credentials, downloaded from https://data.midrc.org/identity by clicking \"Create API key\" button and saving the credentials.json locally\n",
    "api = \"https://data.midrc.org\" # The base URL of the data commons being queried. This shouldn't change for MIDRC.\n"
   ]
  },
  {
   "cell_type": "markdown",
   "id": "7962e54c",
   "metadata": {},
   "source": [
    "### Install / Import Python Packages and Scripts"
   ]
  },
  {
   "cell_type": "code",
   "execution_count": null,
   "id": "8e1a7935",
   "metadata": {},
   "outputs": [],
   "source": [
    "## The packages below may be necessary for users to install according to the imports necessary in the subsequent cells.\n",
    "\n",
    "#!pip install --upgrade pandas\n",
    "#!pip install --upgrade --ignore-installed PyYAML\n",
    "#!pip install --upgrade pip\n",
    "#!pip install --upgrade gen3\n"
   ]
  },
  {
   "cell_type": "code",
   "execution_count": null,
   "id": "7ea2fa09",
   "metadata": {},
   "outputs": [],
   "source": [
    "## Import Python Packages and scripts\n",
    "\n",
    "import os, subprocess\n",
    "import gen3\n",
    "\n",
    "from gen3.auth import Gen3Auth\n",
    "from gen3.query import Gen3Query\n"
   ]
  },
  {
   "cell_type": "markdown",
   "id": "7784ecc9",
   "metadata": {},
   "source": [
    "### Initiate instances of the Gen3 SDK Classes using credentials file for authentication\n",
    "---\n",
    "Again, make sure the \"cred\" directory path variable reflects the location of your credentials file (path variables set above)."
   ]
  },
  {
   "cell_type": "code",
   "execution_count": null,
   "id": "d316dcdf",
   "metadata": {},
   "outputs": [],
   "source": [
    "auth = Gen3Auth(api, refresh_file=cred) # authentication class\n",
    "query = Gen3Query(auth) # query class\n"
   ]
  },
  {
   "cell_type": "markdown",
   "id": "85fc475d",
   "metadata": {},
   "source": [
    "## 2) Build a cohort of cases by running queries against MIDRC APIs\n",
    "---\n",
    "* There are many ways to query and access metadata for cohort building in MIDRC, but this notebook will focus on using the [Gen3](https://gen3.org) graphQL query service [\"guppy\"](https://github.com/uc-cdis/guppy/#readme). This is the backend query service that [MIDRC's data explorer GUI](https://data.midrc.org/explorer) uses. So, anything you can do in the explorer GUI, you can do with guppy queries, and more!\n",
    "* The guppy graphQL service has more functionality than is demonstrated in this simple example with extensive documentation in GitHub [here](https://github.com/uc-cdis/guppy/blob/master/doc/queries.md) in case you'd like to build your own queries from scratch.\n",
    "* The Gen3 SDK (intialized as \"query\" above in this notebook) has Python wrapper scripts to make sending queries to the guppy graphQL API simpler. The guppy SDK package can be viewed in GitHub [here](https://github.com/uc-cdis/gen3sdk-python/blob/master/gen3/query.py).\n"
   ]
  },
  {
   "cell_type": "markdown",
   "id": "597cf089",
   "metadata": {},
   "source": [
    "### Set 'case' query parameters\n",
    "---\n",
    "* Below, we first set some query parameters. Feel free to modify these parameters to see how it changes the query response. Setting these patient attributes is akin to selecting a filter value in [MIDRC's data explorer GUI](https://data.midrc.org/explorer). \n",
    "* To see more documentation about to use and combine filters with various operator logic (like AND/OR/IN, etc.) see [this page](https://github.com/uc-cdis/guppy/blob/master/doc/queries.md#filter).\n",
    "* We then send our query to MIDRC's guppy API endpoint using [the Gen3Query SDK package](https://github.com/uc-cdis/gen3sdk-python/blob/master/gen3/query.py) we initialized earlier. \n",
    "* If our query request is successful, the API response should be in JSON format, and it should contain a list of patient IDs along with any other patient data we ask for."
   ]
  },
  {
   "cell_type": "code",
   "execution_count": null,
   "id": "61e45496",
   "metadata": {},
   "outputs": [],
   "source": [
    "#### \"case\" query parameters\n",
    "## In this example, we're going to filter our patient cohort by asking for Asian male patients between the age of 40 and 89 that tested positive for COVID-19.\n",
    "\n",
    "## case demographic filters\n",
    "sex = \"Male\"\n",
    "min_age = 50\n",
    "max_age = 89\n",
    "\n",
    "#### \"nested\" filters, these are attributes from other nodes that are nested under the case node (\"child nodes\" of case in the data model: data.midrc.org/dd)\n",
    "## medications (vaccine data)\n",
    "medication_manufacturer = [\"Pfizer\",\"Moderna\"] #,\"Janssen\",\"AstraZeneca\",\"Sinopharm\",\"Novavax\"]\n",
    "\n",
    "## measurements filters (COVID-19 test data)\n",
    "test_method = [\"RT-PCR\"] #,\"Rapid antigen test\"]\n",
    "test_result_text = [\"Positive\",\"Negative\"]\n",
    "\n",
    "## conditions filters (co-morbidities and long COVID)\n",
    "condition_name = [\"COVID-19\",\"Post COVID-19 condition, unspecified\"] #,\"Pneumonia, organism unspecified\"]\n",
    "\n",
    "## procedures filters\n",
    "procedure_name = [\"Breathing Support\"]"
   ]
  },
  {
   "cell_type": "code",
   "execution_count": null,
   "id": "8910b3e4",
   "metadata": {},
   "outputs": [],
   "source": [
    "## Here is an example getting all the cases in a particular project between ages of 45 and 47\n",
    "## the \"fields\" option defines what fields we want the query to return. If set to \"None\", returns all available fields.\n",
    "\n",
    "cases = query.raw_data_download(\n",
    "                    data_type=\"case\",\n",
    "#                    fields=[\"project_id\",\"submitter_id\"],\n",
    "                    fields=None,\n",
    "                    filter_object={\n",
    "                        \"AND\": [\n",
    "                            {\"=\": {\"sex\": sex}},\n",
    "                            {\">=\": {\"age_at_index\": min_age}},\n",
    "                            {\"<=\": {\"age_at_index\": max_age}},\n",
    "                            {\"nested\": {\"path\": \"medications\", \"IN\": {\"medication_manufacturer\": medication_manufacturer}}},\n",
    "                            {\"nested\": {\"path\": \"measurements\", \"IN\": {\"test_method\": test_method}}},\n",
    "                            {\"nested\": {\"path\": \"measurements\", \"IN\": {\"test_result_text\": test_result_text}}},\n",
    "                            {\"nested\": {\"path\": \"conditions\", \"IN\": {\"condition_name\": condition_name}}},\n",
    "                            #{\"nested\": {\"path\": \"procedures\", \"IN\": {\"procedure_name\": procedure_name}}}, # adding too many filters returns no data\n",
    "                        ]\n",
    "                    },\n",
    "                    sort_fields=[{\"submitter_id\": \"asc\"}]\n",
    "                )\n",
    "\n",
    "if len(cases) > 0 and \"submitter_id\" in cases[0]:\n",
    "    case_ids = [i['submitter_id'] for i in cases] ## make a list of the case (patient) IDs returned\n",
    "    print(\"Query returned {} case IDs.\".format(len(cases)))\n",
    "    print(\"Data is a list with rows like this:\\n\\t {}\".format(cases[0:1]))\n",
    "else:\n",
    "    print(\"Your query returned no data! Please, check that query parameters are valid.\")"
   ]
  },
  {
   "cell_type": "code",
   "execution_count": null,
   "id": "9e761b59",
   "metadata": {},
   "outputs": [],
   "source": [
    "## Look at one record returned by the query\n",
    "# Note: the \"object_id\" field is a list of all file identifiers associated with the case\n",
    "cases[0]"
   ]
  },
  {
   "cell_type": "markdown",
   "id": "ef11c21d",
   "metadata": {},
   "source": [
    "## 3) Send another query to get data file details for our cohort / case ID\n",
    "---\n",
    "The object_id field in each case record above contains the file identifiers for all files associated with each case. If we simply want to access all files associated with our list of cases, we can use those object_ids. However, in this example, we'll ask for specific types of files and get more detailed information about each of the files. This is achieved by querying the \"data_file\" index and adding our cohort (list of case_ids) as a filter. \n",
    "\n",
    "* Note: all MIDRC data files, including both images and annotations, are listed in the guppy index \"data_file\", which is queried in a similar manner to our query of the \"case\" index above. The query parameter \"data_type\" below determines which Elasticsearch index we're querying."
   ]
  },
  {
   "cell_type": "markdown",
   "id": "bae08fb2",
   "metadata": {},
   "source": [
    "### Set 'data_file' query parameters\n",
    "---\n",
    "Here, we'll utilize the property \"source_node\" to filter the list of files for our cohort to only those matching the type of files we're interested in. In this example, we ask for CR and DX images and any associated annotation files.\n",
    "\n",
    "* Note: We're using the property \"case_ids\" as a filter to restrict the data_file records returned down to those associated with cases in our cohort built above. If you'd like to search for only one specific case_id, you can manually set the case_ids variable like this:\n",
    "```\n",
    "case_ids = [\"my_case_id\"]\n",
    "```\n",
    "* Or alternatively, you could set the query filter like this:\n",
    "```\n",
    "{\"=\": {\"case_ids\": \"my_case_id\"}},\n",
    "```\n",
    "where \"my_case_id\" is the quoted submitter_id of the case you're searching for."
   ]
  },
  {
   "cell_type": "code",
   "execution_count": null,
   "id": "e844e93f",
   "metadata": {},
   "outputs": [],
   "source": [
    "source_nodes = [\"cr_series_file\",\"dx_series_file\",\"annotation_file\",\"dicom_annotation_file\"]\n",
    "modality = [\"SEG\", \"CR\", \"DX\", ] # this is somewhat redundant with the above source_node filter, but added here for demonstration purposes"
   ]
  },
  {
   "cell_type": "code",
   "execution_count": null,
   "id": "4998295a",
   "metadata": {},
   "outputs": [],
   "source": [
    "## Search for specific files associated with our cohort by adding \"case_ids\" as a filter\n",
    "# * Note: \"fields\" is set to \"None\" in this query, which by default returns all the properties available\n",
    "data_files = query.raw_data_download(\n",
    "                    data_type=\"data_file\",\n",
    "                    fields=None,\n",
    "                    filter_object={\n",
    "                        \"AND\": [\n",
    "                            {\"IN\": {\"case_ids\": case_ids}},\n",
    "                            {\"IN\": {\"source_node\": source_nodes}},\n",
    "                            {\"IN\": {\"modality\": modality}},\n",
    "                        ]\n",
    "                    },\n",
    "                    sort_fields=[{\"submitter_id\": \"asc\"}]\n",
    "                )\n",
    "\n",
    "if len(data_files) > 0:\n",
    "    object_ids = [i['object_id'] for i in data_files if 'object_id' in i] ## make a list of the file object_ids returned by our query\n",
    "    print(\"Query returned {} data files with {} object_ids.\".format(len(data_files),len(object_ids)))\n",
    "    print(\"Data is a list with rows like this:\\n\\t {}\".format(data_files[0:1]))\n",
    "else:\n",
    "    print(\"Your query returned no data! Please, check that query parameters are valid.\")"
   ]
  },
  {
   "cell_type": "code",
   "execution_count": null,
   "id": "729ffdc9",
   "metadata": {},
   "outputs": [],
   "source": [
    "## View the detailed data for the first file returned\n",
    "data_files[0]"
   ]
  },
  {
   "cell_type": "markdown",
   "id": "4e3d5b61",
   "metadata": {},
   "source": [
    "## 4) Access data files using their object_id / data GUID (globally unique identifiers)\n",
    "---\n",
    "In order to download files stored in MIDRC, users need to reference the file's object_id (AKA data GUID or Globally Unique IDentifier).\n",
    "\n",
    "Once we have a list of GUIDs we want to download, we can use either the gen3-client or the gen3 SDK to download the files. You can also access individual files in your browser after logging-in and entering the GUID after the `files/` endpoint, as in this URL: https://data.midrc.org/files/GUID\n",
    "\n",
    "where GUID is the actual GUID, e.g.: https://data.midrc.org/files/dg.MD1R/b87d0db3-d95a-43c7-ace1-ab2c130e04ec\n",
    "\n",
    "For instructions on how to install and use the gen3-client, please see [the MIDRC quick-start guide](https://data.midrc.org/dashboard/Public/documentation/Gen3_MIDRC_GetStarted.pdf), which can be found linked here and in the MIDRC data portal header as \"Get Started\".\n",
    "\n",
    "Below we use the gen3 SDK command `gen3 drs-pull object` which is [documented in detail here](https://github.com/uc-cdis/gen3sdk-python/blob/master/docs/howto/drsDownloading.md)."
   ]
  },
  {
   "cell_type": "markdown",
   "id": "cb606c8a",
   "metadata": {},
   "source": [
    "### Parse the data_file query response to build a list of all `object_id`s returned for our cohort. "
   ]
  },
  {
   "cell_type": "code",
   "execution_count": null,
   "id": "2f26a9a1",
   "metadata": {},
   "outputs": [],
   "source": [
    "## Build a list \n",
    "object_ids = []\n",
    "for data_file in data_files:\n",
    "    if 'object_id' in data_file:\n",
    "        object_id = data_file['object_id']\n",
    "        object_ids.append(object_id)\n",
    "\n",
    "object_id = object_ids[1]\n",
    "print(\"The first object_id of {}: '{}'\".format(len(object_ids),object_id))"
   ]
  },
  {
   "cell_type": "markdown",
   "id": "a167eb79",
   "metadata": {},
   "source": [
    "### Use the Gen3 SDK command `gen3 drs-pull object` to download an individual file"
   ]
  },
  {
   "cell_type": "code",
   "execution_count": null,
   "id": "35853bf9-647e-401f-b068-fe9e75e3d43a",
   "metadata": {},
   "outputs": [],
   "source": [
    "## Make a new directory for downloaded files\n",
    "os.system(\"mkdir -p downloads\")\n"
   ]
  },
  {
   "cell_type": "code",
   "execution_count": null,
   "id": "b5b0ae28-5d80-4d11-a9f0-94ae51391814",
   "metadata": {},
   "outputs": [],
   "source": [
    "## Run the \"gen3 drs-pull object\" command to download a file\n",
    "cmd = \"gen3 --auth {} --endpoint data.midrc.org drs-pull object {} --output-dir downloads\".format(cred,object_id)\n",
    "os.system(cmd)\n"
   ]
  },
  {
   "cell_type": "code",
   "execution_count": null,
   "id": "2b7a8ee3",
   "metadata": {},
   "outputs": [],
   "source": [
    "!find downloads -name \"*dcm\""
   ]
  },
  {
   "cell_type": "markdown",
   "id": "be1fe191",
   "metadata": {},
   "source": [
    "### Use a simple loop to download all the files"
   ]
  },
  {
   "cell_type": "code",
   "execution_count": null,
   "id": "161771f4",
   "metadata": {},
   "outputs": [],
   "source": [
    "## Simple loop to download all files and keep track of success and failures\n",
    "cred = \"/Users/christopher/Downloads/midrc-credentials.json\" # location of your MIDRC credentials, downloaded from https://data.midrc.org/identity by clicking \"Create API key\" button and saving the credentials.json locally\n",
    "success,failure,other=[],[],[]\n",
    "count,total = 0,len(object_ids)\n",
    "for object_id in object_ids:\n",
    "    count+=1\n",
    "    cmd = \"gen3 --auth {} --endpoint data.midrc.org drs-pull object {} --output-dir downloads\".format(cred,object_id)\n",
    "    stout = subprocess.run(cmd, shell=True, capture_output=True)\n",
    "    print(\"Progress ({}/{}): {}\".format(count,total,stout.stdout))\n",
    "    if \"failed\" in str(stout.stdout):\n",
    "        failure.append(object_id)\n",
    "    elif \"successfully\" in str(stout.stdout):\n",
    "        success.append(object_id)\n",
    "    else:\n",
    "        other.append(object_id)"
   ]
  },
  {
   "cell_type": "code",
   "execution_count": null,
   "id": "13281b5d",
   "metadata": {},
   "outputs": [],
   "source": [
    "!find downloads -name \"*.dcm\""
   ]
  },
  {
   "cell_type": "code",
   "execution_count": null,
   "id": "9f5f2d94",
   "metadata": {},
   "outputs": [],
   "source": [
    "!find downloads -name \"*.dcm\" | wc -l"
   ]
  },
  {
   "cell_type": "markdown",
   "id": "544761e9",
   "metadata": {},
   "source": [
    "## The End\n",
    "---\n",
    "If you have any questions related to this notebook don't hesitate to reach out to the MIDRC Helpdesk at midrc-support@datacommons.io or the author directly at cgmeyer@uchicago.edu\n",
    "\n",
    "Happy data wrangling!"
   ]
  },
  {
   "cell_type": "code",
   "execution_count": null,
   "id": "f6691638",
   "metadata": {},
   "outputs": [],
   "source": []
  }
 ],
 "metadata": {
  "kernelspec": {
   "display_name": "Python 3 (ipykernel)",
   "language": "python",
   "name": "python3"
  },
  "language_info": {
   "codemirror_mode": {
    "name": "ipython",
    "version": 3
   },
   "file_extension": ".py",
   "mimetype": "text/x-python",
   "name": "python",
   "nbconvert_exporter": "python",
   "pygments_lexer": "ipython3",
   "version": "3.11.5"
  }
 },
 "nbformat": 4,
 "nbformat_minor": 5
}
