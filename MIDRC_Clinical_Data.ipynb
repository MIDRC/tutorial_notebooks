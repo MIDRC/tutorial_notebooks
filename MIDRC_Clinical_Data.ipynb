{
 "cells": [
  {
   "cell_type": "markdown",
   "id": "01f878af",
   "metadata": {},
   "source": [
    "# MIDRC Open-R1 Clinical Data\n",
    "\n",
    "*Please note: This notebook uses open access data*\n",
    "\n",
    "##### Created By: J Montgomery Maxwell"
   ]
  },
  {
   "cell_type": "markdown",
   "id": "5dfa1c83",
   "metadata": {},
   "source": [
    "In this notebook we will visualize the distribution of subjects accross a variety demographics and their COVID-19 status in the Open-R1 dataset from The Medical Imaging and Data Resource Center. (MIDRC - https://data.midrc.org/)"
   ]
  },
  {
   "cell_type": "markdown",
   "id": "7bff7dca",
   "metadata": {},
   "source": [
    "The Open-R1 data set has 1,169 subjects, this notebook will compare the distribution of COVID-19 positive and negative patients across multiple demographic classes. In particular we will focus on the subjects' age groups (-20, 21-30, ..., 90+), sex (Male or Female), race (Black or African American, White, Asian, Pacific Islander, American Indian, Other, or Not Reported), and whether the subject is Hispanic or Latino. Below is a subset of the dataset."
   ]
  },
  {
   "cell_type": "code",
   "execution_count": null,
   "id": "d214a58d",
   "metadata": {},
   "outputs": [],
   "source": [
    "# The packages below may be necessary for users to install according to the imports necessary in the subsequent cells.\n",
    "\n",
    "#!pip install --upgrade pandas\n",
    "#!pip install --upgrade --ignore-installed PyYAML\n",
    "#!pip install --upgrade pip\n",
    "#!pip install --upgrade gen3 --user --upgrade\n",
    "#!pip install cdiserrors\n",
    "#!pip install --upgrade pydicom"
   ]
  },
  {
   "cell_type": "code",
   "execution_count": null,
   "id": "112c887d",
   "metadata": {
    "tags": []
   },
   "outputs": [],
   "source": [
    "import pandas as pd\n",
    "import sys, os, webbrowser\n",
    "import gen3\n",
    "import pydicom\n",
    "import numpy as np\n",
    "import matplotlib.pyplot as plt\n",
    "\n",
    "from gen3.submission import Gen3Submission\n",
    "from gen3.auth import Gen3Auth\n",
    "from io import StringIO\n",
    "from gen3.index import Gen3Index\n",
    "from expansion import Gen3Exansion\n",
    "from gen3.query import Gen3Query"
   ]
  },
  {
   "cell_type": "code",
   "execution_count": null,
   "id": "a005ec13",
   "metadata": {},
   "outputs": [],
   "source": [
    "# Import some custom Python scripts from personal GitHub repo.\n",
    "# Change these directory paths to reflect your local working directory.\n",
    "\n",
    "home_dir = \"/Users/christopher\" \n",
    "demo_dir = \"{}/Documents/Notes/MIDRC/tutorials\".format(home_dir)\n",
    "\n",
    "os.chdir(demo_dir)\n",
    "\n",
    "os.system(\"wget https://raw.githubusercontent.com/cgmeyer/gen3sdk-python/master/expansion/expansion.py -O {}/expansion.py\".format(demo_dir))\n",
    "%run expansion.py\n"
   ]
  },
  {
   "cell_type": "code",
   "execution_count": null,
   "id": "e4b39ef9",
   "metadata": {},
   "outputs": [],
   "source": [
    "# Initiate instances of the Gen3 SDK Classes using credentials file for authentication.\n",
    "# Change the directory path in \"cred\" to reflect the location of your credentials file.\n",
    "\n",
    "api = \"https://data.midrc.org\"\n",
    "cred = \"{}/Downloads/midrc-credentials.json\".format(home_dir)\n",
    "auth = Gen3Auth(api, refresh_file=cred) # authentication class\n",
    "sub = Gen3Submission(api, auth) # submission class\n",
    "query = Gen3Query(auth) # query class\n",
    "exp = Gen3Expansion(api,auth,sub) # class with some custom scripts\n",
    "exp.get_project_ids()\n"
   ]
  },
  {
   "cell_type": "code",
   "execution_count": null,
   "id": "ab7c8d1a",
   "metadata": {
    "tags": []
   },
   "outputs": [],
   "source": [
    "#Function to sort subjects into various age groups\n",
    "def age_group(agelist):\n",
    "    min_age = min(agelist)\n",
    "    groups = [\"-20 yr\", \"21-30 yr\", \"31-40 yr\", \"41-50 yr\", \"51-60 yr\", \"61-70 yr\", \"71-80 yr\", \"81-90 yr\", \"90+ yr\"]\n",
    "    grouplist = []\n",
    "    for i in agelist:\n",
    "        if i <= 20:\n",
    "            grouplist.append(groups[0])\n",
    "        elif i <= 30:\n",
    "            grouplist.append(groups[1])\n",
    "        elif i <= 40:\n",
    "            grouplist.append(groups[2])\n",
    "        elif i <= 50:\n",
    "            grouplist.append(groups[3])\n",
    "        elif i <= 60:\n",
    "            grouplist.append(groups[4])\n",
    "        elif i <= 70:\n",
    "            grouplist.append(groups[5])\n",
    "        elif i <= 80:\n",
    "            grouplist.append(groups[6])\n",
    "        elif i <= 90:\n",
    "            grouplist.append(groups[7])\n",
    "        else:\n",
    "            grouplist.append(groups[8])\n",
    "            \n",
    "    return grouplist\n",
    "\n",
    "#Function to represent various demographics into a precent positivity statistic\n",
    "def percent_representation(df, demographic_type, demographics):\n",
    "\n",
    "    positive_df = df[df['covid19_positive'] == 'Yes']\n",
    "    negative_df = df[df['covid19_positive'] == 'No']\n",
    "    \n",
    "    neg_percents = []\n",
    "    pos_percents = []\n",
    "    for demo in demographics:\n",
    "        neg_percents.append(round(len(negative_df[negative_df[demographic_type] == demo])/len(negative_df), 4)*100)\n",
    "        pos_percents.append(round(len(positive_df[positive_df[demographic_type] == demo])/len(positive_df), 4)*100)\n",
    "        \n",
    "    neg = pd.DataFrame()\n",
    "    pos = pd.DataFrame()     \n",
    "    \n",
    "    neg[demographic_type] = demographics\n",
    "    neg['Percent'] = neg_percents\n",
    "    neg['COVID-19 Status'] = 'Negative'\n",
    "    \n",
    "    pos[demographic_type] = demographics\n",
    "    pos['Percent'] = pos_percents\n",
    "    pos['COVID-19 Status'] = 'Positive'\n",
    "        \n",
    "    return pd.concat([neg, pos])"
   ]
  },
  {
   "cell_type": "code",
   "execution_count": null,
   "id": "c4095057",
   "metadata": {
    "tags": []
   },
   "outputs": [],
   "source": [
    "#Using the Gen3 connection \"sub\" data for project R1 is downloaded and converted into a data frame\n",
    "cases = sub.export_node(program='Open',project='R1',node_type='case',fileformat='tsv')\n",
    "df = pd.read_csv(StringIO(cases), sep='\\t', header=0)\n",
    "df['zip'] = df['zip'].astype(str)\n",
    "df['age_group'] = age_group(df['age_at_index'])\n",
    "\n",
    "df.loc[df.race == 'Native Hawaiian or other Pacific Islander', 'race'] = 'Pacific Islander'\n",
    "df.loc[df.race == 'American Indian or Alaskan Native', 'race'] = 'American Indian' \n",
    "df.loc[df.race == 'Black or African American', 'race'] = 'Black or A.A.' \n",
    "df = df[['covid19_positive', 'age_group', 'sex', 'ethnicity', 'race']]\n",
    "df.head()\n"
   ]
  },
  {
   "cell_type": "markdown",
   "id": "91a95e69",
   "metadata": {},
   "source": [
    "### Subjects' COVID-19 Status"
   ]
  },
  {
   "cell_type": "markdown",
   "id": "ce373785",
   "metadata": {},
   "source": [
    "Approximately 22% of the subjects in the Open-R1 dataset were COVID-19 positive at the time of the dataset indexing. "
   ]
  },
  {
   "cell_type": "code",
   "execution_count": null,
   "id": "a28b5a37",
   "metadata": {
    "tags": []
   },
   "outputs": [],
   "source": [
    "covid_breakdown = {'Number of COVID-19 positive subjects': len(df[df['covid19_positive'] == 'Yes']['covid19_positive']), \n",
    "                   'Number of COVID-19 negative subjects': len(df[df['covid19_positive'] == 'No']['covid19_positive']), }\n",
    "print(covid_breakdown)\n",
    "\n",
    "print(\"Positivity percentage = {}%\".format(round(list(covid_breakdown.items())[0][1]/list(covid_breakdown.items())[1][1]*100,1)))"
   ]
  },
  {
   "cell_type": "markdown",
   "id": "99eed950",
   "metadata": {},
   "source": [
    "## Subject Distribution"
   ]
  },
  {
   "cell_type": "code",
   "execution_count": null,
   "id": "93b2dd2b",
   "metadata": {
    "tags": []
   },
   "outputs": [],
   "source": [
    "races = ['Black or A.A.', \n",
    "         'White', \n",
    "         'Asian', \n",
    "         'Pacific Islander', \n",
    "         'American Indian', \n",
    "         'Other', \n",
    "         'Not Reported']\n",
    "plot_df = percent_representation(df, 'race', races)\n",
    "X = np.arange(len(races))\n",
    "\n",
    "fig = plt.figure()\n",
    "ax = fig.add_axes([0,0,1,1])\n",
    "\n",
    "ax.bar(X - 0.2, plot_df[plot_df['COVID-19 Status'] == 'Negative']['Percent'], color='b', width=0.4, label='Negative')\n",
    "ax.bar(X + 0.2, plot_df[plot_df['COVID-19 Status'] == 'Positive']['Percent'], color='r', width=0.4, label='Positive')\n",
    "\n",
    "ax.set_xticks(X)\n",
    "ax.set_xticklabels(races, rotation=25)\n",
    "ax.set_ylabel('Percent')\n",
    "ax.set_xlabel('Race')\n",
    "ax.set_title('Subject Representation By Race')\n",
    "\n",
    "ax.legend()\n",
    "plt.show()  "
   ]
  },
  {
   "cell_type": "markdown",
   "id": "10bc59b7",
   "metadata": {},
   "source": [
    "Users can examine the ratio of Negative and Positive COVID cases amoungst various demographics.  At many points thoughout the first two years of the pandemic, desparities of COVID positivity ratios were often noted.  Additionally, since subjects possess the ability to not report their race (Not Reported), differences in positivity ratios can be observed if present."
   ]
  },
  {
   "cell_type": "code",
   "execution_count": null,
   "id": "f1e11218",
   "metadata": {
    "tags": []
   },
   "outputs": [],
   "source": [
    "ethnicities = ['Not Hispanic or Latino', 'Hispanic or Latino'] \n",
    "\n",
    "plot_df = percent_representation(df, 'ethnicity', ethnicities)\n",
    "X = np.arange(len(ethnicities))\n",
    "\n",
    "fig = plt.figure()\n",
    "ax = fig.add_axes([0,0,1,1])\n",
    "\n",
    "ax.bar(X - 0.2, plot_df[plot_df['COVID-19 Status'] == 'Negative']['Percent'], color='b', width=0.4, label='Negative')\n",
    "ax.bar(X + 0.2, plot_df[plot_df['COVID-19 Status'] == 'Positive']['Percent'], color='r', width=0.4, label='Positive')\n",
    "\n",
    "ax.set_xticks(X)\n",
    "ax.set_xticklabels(ethnicities, rotation=25)\n",
    "ax.set_ylabel('Percent')\n",
    "ax.set_xlabel('Ethnicity')\n",
    "ax.set_title('Subject Representation By Ethnicity')\n",
    "\n",
    "ax.legend()\n",
    "plt.show()  "
   ]
  },
  {
   "cell_type": "markdown",
   "id": "b6589c91",
   "metadata": {
    "tags": []
   },
   "source": [
    "When reduced to only two groups (Not Hispanic or Latino verse Hispanic or Latino), differences in COVID positivity can be observed if present."
   ]
  },
  {
   "cell_type": "code",
   "execution_count": null,
   "id": "12f528d5",
   "metadata": {
    "tags": []
   },
   "outputs": [],
   "source": [
    "sexes = ['Male', 'Female'] \n",
    "\n",
    "plot_df = percent_representation(df, 'sex', sexes)\n",
    "X = np.arange(len(sexes))\n",
    "\n",
    "fig = plt.figure()\n",
    "ax = fig.add_axes([0,0,1,1])\n",
    "\n",
    "ax.bar(X - 0.2, plot_df[plot_df['COVID-19 Status'] == 'Negative']['Percent'], color='b', width=0.4, label='Negative')\n",
    "ax.bar(X + 0.2, plot_df[plot_df['COVID-19 Status'] == 'Positive']['Percent'], color='r', width=0.4, label='Positive')\n",
    "\n",
    "ax.set_xticks(X)\n",
    "ax.set_xticklabels(sexes, rotation=25)\n",
    "ax.set_ylabel('Percent')\n",
    "ax.set_xlabel('Sex')\n",
    "ax.set_title('Subject Representation By Sex')\n",
    "\n",
    "ax.legend()\n",
    "plt.show()  "
   ]
  },
  {
   "cell_type": "markdown",
   "id": "3834ea41",
   "metadata": {},
   "source": [
    "If present, a disparity of COVID positivity can be noted between sexes."
   ]
  },
  {
   "cell_type": "code",
   "execution_count": null,
   "id": "486dfd08",
   "metadata": {
    "tags": []
   },
   "outputs": [],
   "source": [
    "fig = plt.figure()\n",
    "ax = fig.add_axes([0,0,1,1])\n",
    "\n",
    "ages = [\"-20 yr\", \"21-30 yr\", \"31-40 yr\", \"41-50 yr\", \"51-60 yr\", \"61-70 yr\", \"71-80 yr\", \"81-90 yr\", \"90+ yr\"]\n",
    "\n",
    "plot_df = percent_representation(df, 'age_group', ages)\n",
    "X=np.arange(9)\n",
    "\n",
    "ax.bar(X - 0.2, \n",
    "       plot_df[plot_df['COVID-19 Status'] == 'Negative']['Percent'], color='b', width=0.4, label='Negative')\n",
    "\n",
    "ax.bar(X + 0.2, \n",
    "       plot_df[plot_df['COVID-19 Status'] == 'Positive']['Percent'], color='r', width=0.4, label='Positive')\n",
    "ax.set_xticks(X)\n",
    "ax.set_xticklabels(ages, rotation=25)\n",
    "\n",
    "ax.set_ylabel('Percent')\n",
    "ax.set_xlabel('Age Group')\n",
    "\n",
    "ax.set_title('Subject Representation By Age Group')\n",
    "\n",
    "ax.legend()\n",
    "plt.show()        "
   ]
  },
  {
   "cell_type": "markdown",
   "id": "0112e249",
   "metadata": {},
   "source": [
    "The affect age plays in the prevalence of COVID positivity is displayed above.  It should be noted that this chart is not normalized by the age distribution of the general population.  Typically though, individuals <20 years represent a significant portion of most general populations."
   ]
  }
 ],
 "metadata": {
  "kernelspec": {
   "display_name": "Python 3 (ipykernel)",
   "language": "python",
   "name": "python3"
  },
  "language_info": {
   "codemirror_mode": {
    "name": "ipython",
    "version": 3
   },
   "file_extension": ".py",
   "mimetype": "text/x-python",
   "name": "python",
   "nbconvert_exporter": "python",
   "pygments_lexer": "ipython3",
   "version": "3.13.0"
  }
 },
 "nbformat": 4,
 "nbformat_minor": 5
}
